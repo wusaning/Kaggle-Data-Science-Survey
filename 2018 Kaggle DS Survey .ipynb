{
 "cells": [
  {
   "cell_type": "markdown",
   "metadata": {},
   "source": [
    "## 2018 Kaggle Data Science Survey"
   ]
  },
  {
   "cell_type": "markdown",
   "metadata": {},
   "source": [
    "### Meet the data "
   ]
  },
  {
   "cell_type": "markdown",
   "metadata": {},
   "source": [
    "### The data set is selected from kaggle. The topic for our python project is \"2018 Kaggle for ML and DS\". The python programming has been done to explore more about the data."
   ]
  },
  {
   "cell_type": "code",
   "execution_count": 1,
   "metadata": {},
   "outputs": [],
   "source": [
    "from IPython.core.interactiveshell import InteractiveShell\n",
    "InteractiveShell.ast_node_interactivity = \"all\""
   ]
  },
  {
   "cell_type": "code",
   "execution_count": 2,
   "metadata": {},
   "outputs": [
    {
     "name": "stdout",
     "output_type": "stream",
     "text": [
      "Populating the interactive namespace from numpy and matplotlib\n"
     ]
    },
    {
     "data": {
      "text/html": [
       "        <script type=\"text/javascript\">\n",
       "        window.PlotlyConfig = {MathJaxConfig: 'local'};\n",
       "        if (window.MathJax) {MathJax.Hub.Config({SVG: {font: \"STIX-Web\"}});}\n",
       "        if (typeof require !== 'undefined') {\n",
       "        require.undef(\"plotly\");\n",
       "        requirejs.config({\n",
       "            paths: {\n",
       "                'plotly': ['https://cdn.plot.ly/plotly-latest.min']\n",
       "            }\n",
       "        });\n",
       "        require(['plotly'], function(Plotly) {\n",
       "            window._Plotly = Plotly;\n",
       "        });\n",
       "        }\n",
       "        </script>\n",
       "        "
      ]
     },
     "metadata": {},
     "output_type": "display_data"
    }
   ],
   "source": [
    "import pandas as pd\n",
    "import numpy as np\n",
    "import seaborn as sns\n",
    "%pylab inline\n",
    "import sklearn as sk\n",
    "import sklearn.tree as tree\n",
    "from IPython.display import Image  \n",
    "import pydotplus\n",
    "import plotly.offline as py\n",
    "import plotly.graph_objs as go\n",
    "py.init_notebook_mode(connected=True)\n",
    "import numpy as np\n",
    "import statsmodels.api as sm\n",
    "import pylab\n",
    "import scipy\n",
    "from sklearn.cluster import KMeans\n",
    "from sklearn.model_selection import train_test_split"
   ]
  },
  {
   "cell_type": "code",
   "execution_count": 3,
   "metadata": {},
   "outputs": [],
   "source": [
    "import warnings\n",
    "warnings.filterwarnings('ignore')"
   ]
  },
  {
   "cell_type": "code",
   "execution_count": 4,
   "metadata": {},
   "outputs": [],
   "source": [
    "# Survey data\n",
    "MCR = pd.read_csv('multipleChoiceResponses.csv')\n",
    "FFR = pd.read_csv('freeFormResponses.csv')"
   ]
  },
  {
   "cell_type": "code",
   "execution_count": 5,
   "metadata": {},
   "outputs": [],
   "source": [
    "# CPI data\n",
    "CPI2018 = pd.read_csv('CPI2018.csv')\n",
    "cpi = CPI2018[['Country','Last']].rename(columns={\"Last\": \"CPI\"})"
   ]
  },
  {
   "cell_type": "code",
   "execution_count": 6,
   "metadata": {},
   "outputs": [
    {
     "data": {
      "text/plain": [
       "(23860, 395)"
      ]
     },
     "execution_count": 6,
     "metadata": {},
     "output_type": "execute_result"
    },
    {
     "data": {
      "text/plain": [
       "(23860, 35)"
      ]
     },
     "execution_count": 6,
     "metadata": {},
     "output_type": "execute_result"
    },
    {
     "data": {
      "text/plain": [
       "(177, 2)"
      ]
     },
     "execution_count": 6,
     "metadata": {},
     "output_type": "execute_result"
    }
   ],
   "source": [
    "MCR.shape\n",
    "FFR.shape\n",
    "cpi.shape"
   ]
  },
  {
   "cell_type": "markdown",
   "metadata": {},
   "source": [
    "### Data Cleaning"
   ]
  },
  {
   "cell_type": "code",
   "execution_count": 7,
   "metadata": {},
   "outputs": [
    {
     "data": {
      "text/plain": [
       "Time from Start to Finish (seconds)                                Duration (in seconds)\n",
       "Q1                                                What is your gender? - Selected Choice\n",
       "Q1_OTHER_TEXT                          What is your gender? - Prefer to self-describe...\n",
       "Q2                                                           What is your age (# years)?\n",
       "Q3                                             In which country do you currently reside?\n",
       "Q4                                     What is the highest level of formal education ...\n",
       "Q5                                     Which best describes your undergraduate major?...\n",
       "Q6                                     Select the title most similar to your current ...\n",
       "Q6_OTHER_TEXT                          Select the title most similar to your current ...\n",
       "Q7                                     In what industry is your current employer/cont...\n",
       "Q7_OTHER_TEXT                          In what industry is your current employer/cont...\n",
       "Q8                                     How many years of experience do you have in yo...\n",
       "Q9                                     What is your current yearly compensation (appr...\n",
       "Q10                                    Does your current employer incorporate machine...\n",
       "Q11_Part_1                             Select any activities that make up an importan...\n",
       "Q11_Part_2                             Select any activities that make up an importan...\n",
       "Q11_Part_3                             Select any activities that make up an importan...\n",
       "Q11_Part_4                             Select any activities that make up an importan...\n",
       "Q11_Part_5                             Select any activities that make up an importan...\n",
       "Q11_Part_6                             Select any activities that make up an importan...\n",
       "Q11_Part_7                             Select any activities that make up an importan...\n",
       "Q11_OTHER_TEXT                         Select any activities that make up an importan...\n",
       "Q12_MULTIPLE_CHOICE                    What is the primary tool that you use at work ...\n",
       "Q12_Part_1_TEXT                        What is the primary tool that you use at work ...\n",
       "Q12_Part_2_TEXT                        What is the primary tool that you use at work ...\n",
       "Q12_Part_3_TEXT                        What is the primary tool that you use at work ...\n",
       "Q12_Part_4_TEXT                        What is the primary tool that you use at work ...\n",
       "Q12_Part_5_TEXT                        What is the primary tool that you use at work ...\n",
       "Q12_OTHER_TEXT                         What is the primary tool that you use at work ...\n",
       "Q13_Part_1                             Which of the following integrated development ...\n",
       "                                                             ...                        \n",
       "Q47_Part_10                            What methods do you prefer for explaining and/...\n",
       "Q47_Part_11                            What methods do you prefer for explaining and/...\n",
       "Q47_Part_12                            What methods do you prefer for explaining and/...\n",
       "Q47_Part_13                            What methods do you prefer for explaining and/...\n",
       "Q47_Part_14                            What methods do you prefer for explaining and/...\n",
       "Q47_Part_15                            What methods do you prefer for explaining and/...\n",
       "Q47_Part_16                            What methods do you prefer for explaining and/...\n",
       "Q48                                    Do you consider ML models to be \"black boxes\" ...\n",
       "Q49_Part_1                             What tools and methods do you use to make your...\n",
       "Q49_Part_2                             What tools and methods do you use to make your...\n",
       "Q49_Part_3                             What tools and methods do you use to make your...\n",
       "Q49_Part_4                             What tools and methods do you use to make your...\n",
       "Q49_Part_5                             What tools and methods do you use to make your...\n",
       "Q49_Part_6                             What tools and methods do you use to make your...\n",
       "Q49_Part_7                             What tools and methods do you use to make your...\n",
       "Q49_Part_8                             What tools and methods do you use to make your...\n",
       "Q49_Part_9                             What tools and methods do you use to make your...\n",
       "Q49_Part_10                            What tools and methods do you use to make your...\n",
       "Q49_Part_11                            What tools and methods do you use to make your...\n",
       "Q49_Part_12                            What tools and methods do you use to make your...\n",
       "Q49_OTHER_TEXT                         What tools and methods do you use to make your...\n",
       "Q50_Part_1                             What barriers prevent you from making your wor...\n",
       "Q50_Part_2                             What barriers prevent you from making your wor...\n",
       "Q50_Part_3                             What barriers prevent you from making your wor...\n",
       "Q50_Part_4                             What barriers prevent you from making your wor...\n",
       "Q50_Part_5                             What barriers prevent you from making your wor...\n",
       "Q50_Part_6                             What barriers prevent you from making your wor...\n",
       "Q50_Part_7                             What barriers prevent you from making your wor...\n",
       "Q50_Part_8                             What barriers prevent you from making your wor...\n",
       "Q50_OTHER_TEXT                         What barriers prevent you from making your wor...\n",
       "Name: 0, Length: 395, dtype: object"
      ]
     },
     "execution_count": 7,
     "metadata": {},
     "output_type": "execute_result"
    }
   ],
   "source": [
    "# extract the questions from the dataset\n",
    "questions_M = MCR.iloc[0,:]\n",
    "questions_M"
   ]
  },
  {
   "cell_type": "code",
   "execution_count": 8,
   "metadata": {},
   "outputs": [],
   "source": [
    "questions_F = FFR.iloc[0,:]"
   ]
  },
  {
   "cell_type": "code",
   "execution_count": 9,
   "metadata": {},
   "outputs": [],
   "source": [
    "MCR.drop([0],inplace=True)"
   ]
  },
  {
   "cell_type": "code",
   "execution_count": 10,
   "metadata": {},
   "outputs": [],
   "source": [
    "FFR.drop([0],inplace=True)"
   ]
  },
  {
   "cell_type": "code",
   "execution_count": 11,
   "metadata": {},
   "outputs": [],
   "source": [
    "# merge the CPI data with survey data by country name\n",
    "MCR = MCR.merge(cpi,how='left',left_on='Q3',right_on='Country')\n",
    "MCR.drop(columns=['Country'],inplace=True)"
   ]
  },
  {
   "cell_type": "code",
   "execution_count": 12,
   "metadata": {},
   "outputs": [],
   "source": [
    "# backup the raw data, bcs for some specific analysis we would prefer using the original form of the attribute\n",
    "MCR_original = MCR.copy()"
   ]
  },
  {
   "cell_type": "markdown",
   "metadata": {},
   "source": [
    "### Feature Engineering"
   ]
  },
  {
   "cell_type": "raw",
   "metadata": {},
   "source": [
    "#process all the attributes one by one to get the data for building models"
   ]
  },
  {
   "cell_type": "code",
   "execution_count": 13,
   "metadata": {},
   "outputs": [],
   "source": [
    "MCR['Q1'] = MCR.Q1.apply(lambda x: 0 if x=='Female' else 1 if x=='Male' \\\n",
    "             else 2)"
   ]
  },
  {
   "cell_type": "code",
   "execution_count": 14,
   "metadata": {},
   "outputs": [],
   "source": [
    "MCR['Q2'] = MCR.Q2.apply(lambda x: 19.5 if x== '18-21' else 23 if x=='22-24' \\\n",
    "                         else 27 if x=='25-29' else 32 if x=='30-34'\\\n",
    "                         else 37 if x=='35-39' else 42 if x=='40-44'\\\n",
    "                         else 47 if x=='45-49' else 52 if x=='50-54'\\\n",
    "                         else 57 if x=='55-59' else 64.5 if x=='60-69'\\\n",
    "                         else 74.5 if x=='70-79' else 80 )"
   ]
  },
  {
   "cell_type": "code",
   "execution_count": 15,
   "metadata": {},
   "outputs": [],
   "source": [
    "MCR = pd.get_dummies(MCR, columns=['Q3'])\n",
    "MCR = pd.get_dummies(MCR, columns=['Q4'])\n",
    "MCR = pd.get_dummies(MCR, columns=['Q5'])\n",
    "MCR = pd.get_dummies(MCR, columns=['Q6'])\n",
    "MCR = pd.get_dummies(MCR, columns=['Q7'])"
   ]
  },
  {
   "cell_type": "code",
   "execution_count": 16,
   "metadata": {},
   "outputs": [],
   "source": [
    "MCR['Q8'] = MCR.Q8.apply(lambda x: 0.5 if x== '0-1' else 1.5 if x=='1-2' \\\n",
    "                         else 2.5 if x=='2-3' else 3.5 if x=='3-4'\\\n",
    "                         else 4.5 if x=='4-5' else 7.5 if x=='5-10'\\\n",
    "                         else 12.5 if x=='10-15' else 17.5 if x=='15-20'\\\n",
    "                         else 22.5 if x=='20-25' else 27.5 if x=='25-30'\\\n",
    "                         else 30 if x=='30 +' else None )"
   ]
  },
  {
   "cell_type": "markdown",
   "metadata": {},
   "source": [
    "Q9 (yearly compensation) is an important feature in this project, also it will be the Y for supervised machine learning "
   ]
  },
  {
   "cell_type": "code",
   "execution_count": 17,
   "metadata": {},
   "outputs": [],
   "source": [
    "MCR['compensation'] = MCR.Q9.apply(lambda x: 5000 if x== '0-10,000' else 15000 if x=='10-20,000'\\\n",
    "                                   else 25000 if x=='20-30,000'\\\n",
    "                         else 35000 if x=='30-40,000' else 45000 if x=='40-50,000'\\\n",
    "                         else 55000 if x=='50-60,000' else 65000 if x=='60-70,000'\\\n",
    "                         else 75000 if x=='70-80,000' else 85000 if x=='80-90,000'\\\n",
    "                         else 95000 if x=='90-100,000' else 112500 if x=='100-125,000'\\\n",
    "                         else 137500 if x=='125-150,000' else 175000 if x=='150-200,000'\\\n",
    "                         else 225000 if x=='200-250,000' else 275000 if x=='250-300,000'\\\n",
    "                         else 350000 if x=='300-400,000' else 450000 if x=='400-500,000'\\\n",
    "                         else 550000 if x=='500,000+' else None)"
   ]
  },
  {
   "cell_type": "markdown",
   "metadata": {},
   "source": [
    "However the compensation value is in USD unit for the whole dataset, while the same amount of compensation in different countries might mean different values in life. That's the reason we include the CPI data of 2018 to get a reference on the consuming capicity with the compensation in the respondent's country. The consuming capicity is defined as: \n",
    "\n",
    "\n",
    "Consuming Capicity = Compensation/CPI"
   ]
  },
  {
   "cell_type": "code",
   "execution_count": 18,
   "metadata": {},
   "outputs": [],
   "source": [
    "# Generate a new variable to denote the consuming capicity of the respondent according \n",
    "# to his salary and the country he lives\n",
    "MCR['consumingCapicity'] = MCR.compensation/MCR.CPI"
   ]
  },
  {
   "cell_type": "code",
   "execution_count": 19,
   "metadata": {
    "scrolled": true
   },
   "outputs": [
    {
     "data": {
      "text/plain": [
       "8430"
      ]
     },
     "execution_count": 19,
     "metadata": {},
     "output_type": "execute_result"
    }
   ],
   "source": [
    "# drop the rows where compensation is null \n",
    "# (they will be only dropped from this dataset which is prepared for ML models, \n",
    "# they are still kept in another original dataset called 'MCR_original')\n",
    "MCR.compensation.isna().sum()\n",
    "MCR = MCR.dropna(how='any',subset=['compensation'])"
   ]
  },
  {
   "cell_type": "code",
   "execution_count": 20,
   "metadata": {},
   "outputs": [
    {
     "data": {
      "text/plain": [
       "825"
      ]
     },
     "execution_count": 20,
     "metadata": {},
     "output_type": "execute_result"
    }
   ],
   "source": [
    "# for consuming capicity, fill the null value with average\n",
    "MCR.consumingCapicity.isna().sum()\n",
    "MCR.consumingCapicity.fillna(value=MCR.consumingCapicity.mean(), inplace=True)"
   ]
  },
  {
   "cell_type": "code",
   "execution_count": 21,
   "metadata": {},
   "outputs": [],
   "source": [
    "MCR = pd.get_dummies(MCR, columns=['Q10'])"
   ]
  },
  {
   "cell_type": "code",
   "execution_count": 22,
   "metadata": {},
   "outputs": [
    {
     "data": {
      "text/plain": [
       "516"
      ]
     },
     "execution_count": 22,
     "metadata": {},
     "output_type": "execute_result"
    },
    {
     "data": {
      "text/plain": [
       "486"
      ]
     },
     "execution_count": 22,
     "metadata": {},
     "output_type": "execute_result"
    }
   ],
   "source": [
    "# remove the free form responses columns\n",
    "modelColumn = list(MCR.columns)\n",
    "selectedCol = [col for col in modelColumn if 'OTHER' not in col]\n",
    "len(modelColumn)\n",
    "len(selectedCol)"
   ]
  },
  {
   "cell_type": "code",
   "execution_count": 23,
   "metadata": {},
   "outputs": [],
   "source": [
    "MCR_model = MCR[selectedCol]"
   ]
  },
  {
   "cell_type": "code",
   "execution_count": 24,
   "metadata": {},
   "outputs": [],
   "source": [
    "# Transform the original dummy variables into the standard form (0 and 1)\n",
    "listcol = []\n",
    "for col in list(MCR_model.columns):\n",
    "    if MCR_model[col].nunique() == 1:\n",
    "        listcol.append(col)\n",
    "listcol.remove('Q6_Not employed')"
   ]
  },
  {
   "cell_type": "code",
   "execution_count": 25,
   "metadata": {},
   "outputs": [],
   "source": [
    "for col in listcol:\n",
    "    MCR_model = pd.get_dummies(MCR_model, columns=[col])"
   ]
  },
  {
   "cell_type": "code",
   "execution_count": 26,
   "metadata": {},
   "outputs": [
    {
     "data": {
      "text/plain": [
       "Q8                        76\n",
       "Q12_MULTIPLE_CHOICE     1572\n",
       "Q17                     4341\n",
       "Q18                     1822\n",
       "Q20                     5769\n",
       "Q22                     6243\n",
       "Q23                     1968\n",
       "Q24                     1988\n",
       "Q25                     2014\n",
       "Q26                     2023\n",
       "Q32                     5125\n",
       "Q34_Part_1              3664\n",
       "Q34_Part_2              3664\n",
       "Q34_Part_3              3664\n",
       "Q34_Part_4              3664\n",
       "Q34_Part_5              3664\n",
       "Q34_Part_6              3664\n",
       "Q35_Part_1              3785\n",
       "Q35_Part_2              3785\n",
       "Q35_Part_3              3785\n",
       "Q35_Part_4              3785\n",
       "Q35_Part_5              3785\n",
       "Q35_Part_6              3785\n",
       "Q37                     8140\n",
       "Q38_Part_19            15429\n",
       "Q38_Part_20            15429\n",
       "Q39_Part_1              3699\n",
       "Q39_Part_2              3699\n",
       "Q40                     3763\n",
       "Q41_Part_1              4352\n",
       "Q41_Part_2              4352\n",
       "Q41_Part_3              4352\n",
       "Q43                     5575\n",
       "Q46                     5431\n",
       "Q47_Part_16            15329\n",
       "Q48                     5415\n",
       "CPI                      825\n",
       "dtype: int64"
      ]
     },
     "execution_count": 26,
     "metadata": {},
     "output_type": "execute_result"
    }
   ],
   "source": [
    "# check all the columns still have null values\n",
    "nullcheck = MCR_model.isna().sum()\n",
    "nullval = nullcheck[nullcheck != 0]\n",
    "nullval"
   ]
  },
  {
   "cell_type": "code",
   "execution_count": 27,
   "metadata": {},
   "outputs": [],
   "source": [
    "# deal with the null values\n",
    "MCR_model = MCR_model.dropna(how='any',subset=['Q8'])\n",
    "MCR_model['Q23'] = MCR_model.Q23.apply(lambda x: 13 if x == '1% to 25% of my time' \\\n",
    "                                       else 37 if x=='25% to 49% of my time' \\\n",
    "                                       else 63 if x=='50% to 74% of my time' \\\n",
    "                                       else 87 if x=='75% to 99% of my time'\\\n",
    "                                       else 100 if x=='100% of my time' else 0)\n",
    "MCR_model['Q24'] = MCR_model.Q24.apply(lambda x: 1 if x == '< 1 year' \\\n",
    "                                       else 1.5 if x=='1-2 years' \\\n",
    "                                       else 4 if x=='3-5 years' \\\n",
    "                                       else 7.5 if x=='5-10 years'\\\n",
    "                                       else 15 if x=='10-20 years'\\\n",
    "                                       else 25 if x=='20-30 years' \\\n",
    "                                       else 35 if x=='30-40 years'\\\n",
    "                                       else 45 if x=='40+ years' \\\n",
    "                                       else 0)\n",
    "MCR_model['Q25'] = MCR_model.Q25.apply(lambda x: 1 if x == '< 1 year' \\\n",
    "                                       else 1.5 if x=='1-2 years' \\\n",
    "                                       else 2.5 if x=='2-3 years' \\\n",
    "                                       else 3.5 if x=='3-4 years'\\\n",
    "                                       else 4.5 if x=='4-5 years'\\\n",
    "                                       else 7.5 if x=='5-10 years' \\\n",
    "                                       else 12.5 if x=='10-15 years'\\\n",
    "                                       else 20 if x=='20+ years' \\\n",
    "                                       else 0)\n",
    "MCR_model['Q43'] = MCR_model.Q43.apply(lambda x: 0 if x == '0' \\\n",
    "                                       else 5 if x=='0-10' \\\n",
    "                                       else 15 if x=='10-20' \\\n",
    "                                       else 25 if x=='20-30'\\\n",
    "                                       else 35 if x=='30-40'\\\n",
    "                                       else 45 if x=='40-50' \\\n",
    "                                       else 55 if x=='50-60'\\\n",
    "                                       else 65 if x=='60-70' \\\n",
    "                                       else 75 if x=='70-80' \\\n",
    "                                       else 85 if x=='80-90'\\\n",
    "                                       else 95 if x=='90-100' \\\n",
    "                                       else 0)\n",
    "MCR_model['Q46'] = MCR_model.Q46.apply(lambda x: 0 if x == '0' \\\n",
    "                                       else 5 if x=='0-10' \\\n",
    "                                       else 15 if x=='10-20' \\\n",
    "                                       else 25 if x=='20-30'\\\n",
    "                                       else 35 if x=='30-40'\\\n",
    "                                       else 45 if x=='40-50' \\\n",
    "                                       else 55 if x=='50-60'\\\n",
    "                                       else 65 if x=='60-70' \\\n",
    "                                       else 75 if x=='70-80' \\\n",
    "                                       else 85 if x=='80-90'\\\n",
    "                                       else 95 if x=='90-100' \\\n",
    "                                       else 0)\n",
    "MCR_model.Q34_Part_1.fillna(0,inplace=True)\n",
    "MCR_model.Q34_Part_2.fillna(0,inplace=True)\n",
    "MCR_model.Q34_Part_3.fillna(0,inplace=True)\n",
    "MCR_model.Q34_Part_4.fillna(0,inplace=True)\n",
    "MCR_model.Q34_Part_5.fillna(0,inplace=True)\n",
    "MCR_model.Q34_Part_6.fillna(0,inplace=True)\n",
    "MCR_model.Q35_Part_1.fillna(0,inplace=True)\n",
    "MCR_model.Q35_Part_2.fillna(0,inplace=True)\n",
    "MCR_model.Q35_Part_3.fillna(0,inplace=True)\n",
    "MCR_model.Q35_Part_4.fillna(0,inplace=True)\n",
    "MCR_model.Q35_Part_5.fillna(0,inplace=True)\n",
    "MCR_model.Q35_Part_6.fillna(0,inplace=True)"
   ]
  },
  {
   "cell_type": "code",
   "execution_count": 28,
   "metadata": {},
   "outputs": [],
   "source": [
    "MCR_model.dropna(thresh=10000, axis=1, inplace=True)"
   ]
  },
  {
   "cell_type": "code",
   "execution_count": 29,
   "metadata": {},
   "outputs": [
    {
     "data": {
      "text/plain": [
       "Q12_MULTIPLE_CHOICE    1560\n",
       "Q17                    4318\n",
       "Q18                    1808\n",
       "Q26                    2009\n",
       "Q32                    5094\n",
       "Q39_Part_1             3675\n",
       "Q39_Part_2             3675\n",
       "Q40                    3739\n",
       "Q41_Part_1             4325\n",
       "Q41_Part_2             4325\n",
       "Q41_Part_3             4325\n",
       "CPI                     823\n",
       "dtype: int64"
      ]
     },
     "execution_count": 29,
     "metadata": {},
     "output_type": "execute_result"
    }
   ],
   "source": [
    "nullcheck = MCR_model.isna().sum()\n",
    "nullval = nullcheck[nullcheck != 0]\n",
    "nullval"
   ]
  },
  {
   "cell_type": "code",
   "execution_count": 30,
   "metadata": {},
   "outputs": [
    {
     "data": {
      "text/html": [
       "<div>\n",
       "<style scoped>\n",
       "    .dataframe tbody tr th:only-of-type {\n",
       "        vertical-align: middle;\n",
       "    }\n",
       "\n",
       "    .dataframe tbody tr th {\n",
       "        vertical-align: top;\n",
       "    }\n",
       "\n",
       "    .dataframe thead th {\n",
       "        text-align: right;\n",
       "    }\n",
       "</style>\n",
       "<table border=\"1\" class=\"dataframe\">\n",
       "  <thead>\n",
       "    <tr style=\"text-align: right;\">\n",
       "      <th></th>\n",
       "      <th>Q12_MULTIPLE_CHOICE</th>\n",
       "      <th>Q17</th>\n",
       "      <th>Q18</th>\n",
       "      <th>Q26</th>\n",
       "      <th>Q32</th>\n",
       "      <th>Q39_Part_1</th>\n",
       "      <th>Q39_Part_2</th>\n",
       "      <th>Q40</th>\n",
       "      <th>Q41_Part_1</th>\n",
       "      <th>Q41_Part_2</th>\n",
       "      <th>Q41_Part_3</th>\n",
       "      <th>CPI</th>\n",
       "    </tr>\n",
       "  </thead>\n",
       "  <tbody>\n",
       "    <tr>\n",
       "      <th>1</th>\n",
       "      <td>Basic statistical software (Microsoft Excel, G...</td>\n",
       "      <td>NaN</td>\n",
       "      <td>Python</td>\n",
       "      <td>Definitely not</td>\n",
       "      <td>NaN</td>\n",
       "      <td>Slightly worse</td>\n",
       "      <td>No opinion; I do not know</td>\n",
       "      <td>Independent projects are equally important as ...</td>\n",
       "      <td>NaN</td>\n",
       "      <td>NaN</td>\n",
       "      <td>NaN</td>\n",
       "      <td>135.72</td>\n",
       "    </tr>\n",
       "    <tr>\n",
       "      <th>2</th>\n",
       "      <td>Local or hosted development environments (RStu...</td>\n",
       "      <td>Java</td>\n",
       "      <td>Python</td>\n",
       "      <td>Definitely yes</td>\n",
       "      <td>Time Series Data</td>\n",
       "      <td>Slightly worse</td>\n",
       "      <td>Slightly better</td>\n",
       "      <td>Independent projects are equally important as ...</td>\n",
       "      <td>Very important</td>\n",
       "      <td>Very important</td>\n",
       "      <td>Very important</td>\n",
       "      <td>252.67</td>\n",
       "    </tr>\n",
       "    <tr>\n",
       "      <th>4</th>\n",
       "      <td>Advanced statistical software (SPSS, SAS, etc.)</td>\n",
       "      <td>SQL</td>\n",
       "      <td>R</td>\n",
       "      <td>Maybe</td>\n",
       "      <td>NaN</td>\n",
       "      <td>Slightly better</td>\n",
       "      <td>Much better</td>\n",
       "      <td>Independent projects are slightly more importa...</td>\n",
       "      <td>Not at all important</td>\n",
       "      <td>Slightly important</td>\n",
       "      <td>Very important</td>\n",
       "      <td>139.60</td>\n",
       "    </tr>\n",
       "    <tr>\n",
       "      <th>6</th>\n",
       "      <td>Basic statistical software (Microsoft Excel, G...</td>\n",
       "      <td>NaN</td>\n",
       "      <td>R</td>\n",
       "      <td>Probably not</td>\n",
       "      <td>Numerical Data</td>\n",
       "      <td>Slightly better</td>\n",
       "      <td>Neither better nor worse</td>\n",
       "      <td>Independent projects are much more important t...</td>\n",
       "      <td>Slightly important</td>\n",
       "      <td>Slightly important</td>\n",
       "      <td>Very important</td>\n",
       "      <td>100.79</td>\n",
       "    </tr>\n",
       "    <tr>\n",
       "      <th>7</th>\n",
       "      <td>Local or hosted development environments (RStu...</td>\n",
       "      <td>NaN</td>\n",
       "      <td>Python</td>\n",
       "      <td>Probably not</td>\n",
       "      <td>Image Data</td>\n",
       "      <td>Slightly better</td>\n",
       "      <td>Slightly better</td>\n",
       "      <td>Independent projects are slightly more importa...</td>\n",
       "      <td>Very important</td>\n",
       "      <td>Very important</td>\n",
       "      <td>Very important</td>\n",
       "      <td>139.60</td>\n",
       "    </tr>\n",
       "  </tbody>\n",
       "</table>\n",
       "</div>"
      ],
      "text/plain": [
       "                                 Q12_MULTIPLE_CHOICE   Q17     Q18  \\\n",
       "1  Basic statistical software (Microsoft Excel, G...   NaN  Python   \n",
       "2  Local or hosted development environments (RStu...  Java  Python   \n",
       "4    Advanced statistical software (SPSS, SAS, etc.)   SQL       R   \n",
       "6  Basic statistical software (Microsoft Excel, G...   NaN       R   \n",
       "7  Local or hosted development environments (RStu...   NaN  Python   \n",
       "\n",
       "              Q26               Q32       Q39_Part_1  \\\n",
       "1  Definitely not               NaN   Slightly worse   \n",
       "2  Definitely yes  Time Series Data   Slightly worse   \n",
       "4           Maybe               NaN  Slightly better   \n",
       "6    Probably not    Numerical Data  Slightly better   \n",
       "7    Probably not        Image Data  Slightly better   \n",
       "\n",
       "                  Q39_Part_2  \\\n",
       "1  No opinion; I do not know   \n",
       "2            Slightly better   \n",
       "4                Much better   \n",
       "6   Neither better nor worse   \n",
       "7            Slightly better   \n",
       "\n",
       "                                                 Q40            Q41_Part_1  \\\n",
       "1  Independent projects are equally important as ...                   NaN   \n",
       "2  Independent projects are equally important as ...        Very important   \n",
       "4  Independent projects are slightly more importa...  Not at all important   \n",
       "6  Independent projects are much more important t...    Slightly important   \n",
       "7  Independent projects are slightly more importa...        Very important   \n",
       "\n",
       "           Q41_Part_2      Q41_Part_3     CPI  \n",
       "1                 NaN             NaN  135.72  \n",
       "2      Very important  Very important  252.67  \n",
       "4  Slightly important  Very important  139.60  \n",
       "6  Slightly important  Very important  100.79  \n",
       "7      Very important  Very important  139.60  "
      ]
     },
     "execution_count": 30,
     "metadata": {},
     "output_type": "execute_result"
    }
   ],
   "source": [
    "# so far, the columns still containing null values are some category variables which are not going to be\n",
    "# included in the model variables. However they are saved as another dataset for analysis later.\n",
    "otherCategories = MCR_model[list(nullval.index)]\n",
    "otherCategories.head()"
   ]
  },
  {
   "cell_type": "code",
   "execution_count": 31,
   "metadata": {},
   "outputs": [],
   "source": [
    "# all the other variables are selected for the use of building ML models\n",
    "listcol2 = []\n",
    "for col in list(MCR_model.columns):\n",
    "    if MCR_model[col].isna().sum() == 0:\n",
    "        listcol2.append(col)"
   ]
  },
  {
   "cell_type": "code",
   "execution_count": 32,
   "metadata": {},
   "outputs": [
    {
     "data": {
      "text/plain": [
       "467"
      ]
     },
     "execution_count": 32,
     "metadata": {},
     "output_type": "execute_result"
    }
   ],
   "source": [
    "len(listcol2)"
   ]
  },
  {
   "cell_type": "code",
   "execution_count": 33,
   "metadata": {},
   "outputs": [],
   "source": [
    "# a column list for the machine learning models\n",
    "listcol2.remove('Time from Start to Finish (seconds)')\n",
    "listcol2.remove('Q9')\n",
    "listcol2.remove('compensation')\n",
    "listcol2.remove('consumingCapicity')"
   ]
  },
  {
   "cell_type": "markdown",
   "metadata": {},
   "source": [
    "So far, we've had a clean dataset for building ML models."
   ]
  },
  {
   "cell_type": "markdown",
   "metadata": {},
   "source": [
    "### Exploratory Data Analysis"
   ]
  },
  {
   "cell_type": "code",
   "execution_count": 34,
   "metadata": {},
   "outputs": [],
   "source": [
    "# function for generating donut plots\n",
    "def donut_plot_general(label, value, layout_title,show_legend):\n",
    "    trace=[go.Pie(\n",
    "        values=value,\n",
    "        labels = label,\n",
    "        hoverinfo = 'label+percent',\n",
    "        hole=.7,\n",
    "        marker=dict(line=dict(color='black',width=.5)),\n",
    "        textposition='outside'\n",
    "    )]\n",
    "    \n",
    "    layout=go.Layout(\n",
    "        title=layout_title,\n",
    "        showlegend=show_legend\n",
    "    )\n",
    "    \n",
    "    py.iplot({'data':trace, 'layout': layout}, filename='donut')"
   ]
  },
  {
   "cell_type": "code",
   "execution_count": 37,
   "metadata": {},
   "outputs": [
    {
     "data": {
      "application/vnd.plotly.v1+json": {
       "config": {
        "linkText": "Export to plot.ly",
        "plotlyServerURL": "https://plot.ly",
        "responsive": true,
        "showLink": false
       },
       "data": [
        {
         "hole": 0.7,
         "hoverinfo": "label+percent",
         "labels": [
          "Female",
          "Male",
          "Prefer not to say",
          "Prefer to self-describe"
         ],
         "marker": {
          "line": {
           "color": "black",
           "width": 0.5
          }
         },
         "textposition": "outside",
         "type": "pie",
         "uid": "de699384-fc73-40c1-b580-68998e7cdb2b",
         "values": [
          4010,
          19430,
          340,
          79
         ]
        }
       ],
       "layout": {
        "showlegend": true,
        "title": {
         "text": "Percentage of Gender"
        }
       }
      },
      "text/html": [
       "<div>\n",
       "        \n",
       "        \n",
       "            <div id=\"4eb1bfb2-0b45-4d3f-a7bd-50801caad062\" class=\"plotly-graph-div\" style=\"height:525px; width:100%;\"></div>\n",
       "            <script type=\"text/javascript\">\n",
       "                require([\"plotly\"], function(Plotly) {\n",
       "                    window.PLOTLYENV=window.PLOTLYENV || {};\n",
       "                    window.PLOTLYENV.BASE_URL='https://plot.ly';\n",
       "                    \n",
       "                if (document.getElementById(\"4eb1bfb2-0b45-4d3f-a7bd-50801caad062\")) {\n",
       "                    Plotly.newPlot(\n",
       "                        '4eb1bfb2-0b45-4d3f-a7bd-50801caad062',\n",
       "                        [{\"hole\": 0.7, \"hoverinfo\": \"label+percent\", \"labels\": [\"Female\", \"Male\", \"Prefer not to say\", \"Prefer to self-describe\"], \"marker\": {\"line\": {\"color\": \"black\", \"width\": 0.5}}, \"textposition\": \"outside\", \"type\": \"pie\", \"uid\": \"a66712d0-1b9f-4261-bf5e-98ab7d7a351d\", \"values\": [4010, 19430, 340, 79]}],\n",
       "                        {\"showlegend\": true, \"title\": {\"text\": \"Percentage of Gender\"}},\n",
       "                        {\"showLink\": false, \"linkText\": \"Export to plot.ly\", \"plotlyServerURL\": \"https://plot.ly\", \"responsive\": true}\n",
       "                    ).then(function(){\n",
       "                            \n",
       "var gd = document.getElementById('4eb1bfb2-0b45-4d3f-a7bd-50801caad062');\n",
       "var x = new MutationObserver(function (mutations, observer) {{\n",
       "        var display = window.getComputedStyle(gd).display;\n",
       "        if (!display || display === 'none') {{\n",
       "            console.log([gd, 'removed!']);\n",
       "            Plotly.purge(gd);\n",
       "            observer.disconnect();\n",
       "        }}\n",
       "}});\n",
       "\n",
       "// Listen for the removal of the full notebook cells\n",
       "var notebookContainer = gd.closest('#notebook-container');\n",
       "if (notebookContainer) {{\n",
       "    x.observe(notebookContainer, {childList: true});\n",
       "}}\n",
       "\n",
       "// Listen for the clearing of the current output cell\n",
       "var outputEl = gd.closest('.output');\n",
       "if (outputEl) {{\n",
       "    x.observe(outputEl, {childList: true});\n",
       "}}\n",
       "\n",
       "                        })\n",
       "                };\n",
       "                });\n",
       "            </script>\n",
       "        </div>"
      ]
     },
     "metadata": {},
     "output_type": "display_data"
    }
   ],
   "source": [
    "MCR_Q1 = MCR_original.groupby(['Q1']).size().reset_index(name='count')\n",
    "donut_plot_general(MCR_Q1['Q1'], MCR_Q1['count'], 'Percentage of Gender',True)"
   ]
  },
  {
   "cell_type": "code",
   "execution_count": 36,
   "metadata": {},
   "outputs": [
    {
     "data": {
      "application/vnd.plotly.v1+json": {
       "config": {
        "linkText": "Export to plot.ly",
        "plotlyServerURL": "https://plot.ly",
        "responsive": true,
        "showLink": false
       },
       "data": [
        {
         "hole": 0.7,
         "hoverinfo": "label+percent",
         "labels": [
          "Bachelor’s degree",
          "Doctoral degree",
          "I prefer not to answer",
          "Master’s degree",
          "No formal education past high school",
          "Professional degree",
          "Some college/university study without earning a bachelor’s degree"
         ],
         "marker": {
          "line": {
           "color": "black",
           "width": 0.5
          }
         },
         "textposition": "outside",
         "type": "pie",
         "uid": "db0d273f-dc3e-46c0-a52d-c8b88267a682",
         "values": [
          7083,
          3357,
          345,
          10855,
          232,
          599,
          967
         ]
        }
       ],
       "layout": {
        "showlegend": true,
        "title": {
         "text": "Percentage of Education"
        }
       }
      },
      "text/html": [
       "<div>\n",
       "        \n",
       "        \n",
       "            <div id=\"9d514b22-c1f8-48e5-b49c-34e294143ecd\" class=\"plotly-graph-div\" style=\"height:525px; width:100%;\"></div>\n",
       "            <script type=\"text/javascript\">\n",
       "                require([\"plotly\"], function(Plotly) {\n",
       "                    window.PLOTLYENV=window.PLOTLYENV || {};\n",
       "                    window.PLOTLYENV.BASE_URL='https://plot.ly';\n",
       "                    \n",
       "                if (document.getElementById(\"9d514b22-c1f8-48e5-b49c-34e294143ecd\")) {\n",
       "                    Plotly.newPlot(\n",
       "                        '9d514b22-c1f8-48e5-b49c-34e294143ecd',\n",
       "                        [{\"hole\": 0.7, \"hoverinfo\": \"label+percent\", \"labels\": [\"Bachelor\\u2019s degree\", \"Doctoral degree\", \"I prefer not to answer\", \"Master\\u2019s degree\", \"No formal education past high school\", \"Professional degree\", \"Some college/university study without earning a bachelor\\u2019s degree\"], \"marker\": {\"line\": {\"color\": \"black\", \"width\": 0.5}}, \"textposition\": \"outside\", \"type\": \"pie\", \"uid\": \"73f8e42f-49a2-43d2-bea5-719107928794\", \"values\": [7083, 3357, 345, 10855, 232, 599, 967]}],\n",
       "                        {\"showlegend\": true, \"title\": {\"text\": \"Percentage of Education\"}},\n",
       "                        {\"showLink\": false, \"linkText\": \"Export to plot.ly\", \"plotlyServerURL\": \"https://plot.ly\", \"responsive\": true}\n",
       "                    ).then(function(){\n",
       "                            \n",
       "var gd = document.getElementById('9d514b22-c1f8-48e5-b49c-34e294143ecd');\n",
       "var x = new MutationObserver(function (mutations, observer) {{\n",
       "        var display = window.getComputedStyle(gd).display;\n",
       "        if (!display || display === 'none') {{\n",
       "            console.log([gd, 'removed!']);\n",
       "            Plotly.purge(gd);\n",
       "            observer.disconnect();\n",
       "        }}\n",
       "}});\n",
       "\n",
       "// Listen for the removal of the full notebook cells\n",
       "var notebookContainer = gd.closest('#notebook-container');\n",
       "if (notebookContainer) {{\n",
       "    x.observe(notebookContainer, {childList: true});\n",
       "}}\n",
       "\n",
       "// Listen for the clearing of the current output cell\n",
       "var outputEl = gd.closest('.output');\n",
       "if (outputEl) {{\n",
       "    x.observe(outputEl, {childList: true});\n",
       "}}\n",
       "\n",
       "                        })\n",
       "                };\n",
       "                });\n",
       "            </script>\n",
       "        </div>"
      ]
     },
     "metadata": {},
     "output_type": "display_data"
    }
   ],
   "source": [
    "MCR_Q4 = MCR_original.groupby(['Q4']).size().reset_index(name='count')\n",
    "donut_plot_general(MCR_Q4['Q4'], MCR_Q4['count'], 'Percentage of Education',True)"
   ]
  },
  {
   "cell_type": "code",
   "execution_count": 38,
   "metadata": {},
   "outputs": [
    {
     "data": {
      "application/vnd.plotly.v1+json": {
       "config": {
        "linkText": "Export to plot.ly",
        "plotlyServerURL": "https://plot.ly",
        "responsive": true,
        "showLink": false
       },
       "data": [
        {
         "hole": 0.7,
         "hoverinfo": "label+percent",
         "labels": [
          "Argentina",
          "Australia",
          "Austria",
          "Bangladesh",
          "Belarus",
          "Belgium",
          "Brazil",
          "Canada",
          "Chile",
          "China",
          "Colombia",
          "Czech Republic",
          "Denmark",
          "Egypt",
          "Finland",
          "France",
          "Germany",
          "Greece",
          "Hong Kong (S.A.R.)",
          "Hungary",
          "I do not wish to disclose my location",
          "India",
          "Indonesia",
          "Iran, Islamic Republic of...",
          "Ireland",
          "Israel",
          "Italy",
          "Japan",
          "Kenya",
          "Malaysia",
          "Mexico",
          "Morocco",
          "Netherlands",
          "New Zealand",
          "Nigeria",
          "Norway",
          "Other",
          "Pakistan",
          "Peru",
          "Philippines",
          "Poland",
          "Portugal",
          "Republic of Korea",
          "Romania",
          "Russia",
          "Singapore",
          "South Africa",
          "South Korea",
          "Spain",
          "Sweden",
          "Switzerland",
          "Thailand",
          "Tunisia",
          "Turkey",
          "Ukraine",
          "United Kingdom of Great Britain and Northern Ireland",
          "United States of America",
          "Viet Nam"
         ],
         "marker": {
          "line": {
           "color": "black",
           "width": 0.5
          }
         },
         "textposition": "outside",
         "type": "pie",
         "uid": "2d79ccd6-c52a-4968-8c7d-007bec30cc3d",
         "values": [
          119,
          330,
          62,
          107,
          91,
          111,
          736,
          604,
          76,
          1644,
          128,
          72,
          106,
          96,
          79,
          604,
          734,
          121,
          76,
          93,
          394,
          4417,
          171,
          113,
          101,
          173,
          355,
          597,
          85,
          113,
          202,
          71,
          270,
          77,
          208,
          74,
          1036,
          161,
          81,
          73,
          301,
          155,
          71,
          79,
          879,
          186,
          147,
          188,
          485,
          155,
          164,
          73,
          74,
          327,
          252,
          702,
          4716,
          144
         ]
        }
       ],
       "layout": {
        "showlegend": true,
        "title": {
         "text": "Percentage of Country"
        }
       }
      },
      "text/html": [
       "<div>\n",
       "        \n",
       "        \n",
       "            <div id=\"f9700584-9e9a-45d0-92f6-70323089ecd4\" class=\"plotly-graph-div\" style=\"height:525px; width:100%;\"></div>\n",
       "            <script type=\"text/javascript\">\n",
       "                require([\"plotly\"], function(Plotly) {\n",
       "                    window.PLOTLYENV=window.PLOTLYENV || {};\n",
       "                    window.PLOTLYENV.BASE_URL='https://plot.ly';\n",
       "                    \n",
       "                if (document.getElementById(\"f9700584-9e9a-45d0-92f6-70323089ecd4\")) {\n",
       "                    Plotly.newPlot(\n",
       "                        'f9700584-9e9a-45d0-92f6-70323089ecd4',\n",
       "                        [{\"hole\": 0.7, \"hoverinfo\": \"label+percent\", \"labels\": [\"Argentina\", \"Australia\", \"Austria\", \"Bangladesh\", \"Belarus\", \"Belgium\", \"Brazil\", \"Canada\", \"Chile\", \"China\", \"Colombia\", \"Czech Republic\", \"Denmark\", \"Egypt\", \"Finland\", \"France\", \"Germany\", \"Greece\", \"Hong Kong (S.A.R.)\", \"Hungary\", \"I do not wish to disclose my location\", \"India\", \"Indonesia\", \"Iran, Islamic Republic of...\", \"Ireland\", \"Israel\", \"Italy\", \"Japan\", \"Kenya\", \"Malaysia\", \"Mexico\", \"Morocco\", \"Netherlands\", \"New Zealand\", \"Nigeria\", \"Norway\", \"Other\", \"Pakistan\", \"Peru\", \"Philippines\", \"Poland\", \"Portugal\", \"Republic of Korea\", \"Romania\", \"Russia\", \"Singapore\", \"South Africa\", \"South Korea\", \"Spain\", \"Sweden\", \"Switzerland\", \"Thailand\", \"Tunisia\", \"Turkey\", \"Ukraine\", \"United Kingdom of Great Britain and Northern Ireland\", \"United States of America\", \"Viet Nam\"], \"marker\": {\"line\": {\"color\": \"black\", \"width\": 0.5}}, \"textposition\": \"outside\", \"type\": \"pie\", \"uid\": \"58f4222d-8b34-452e-bad1-7cd225bdaaeb\", \"values\": [119, 330, 62, 107, 91, 111, 736, 604, 76, 1644, 128, 72, 106, 96, 79, 604, 734, 121, 76, 93, 394, 4417, 171, 113, 101, 173, 355, 597, 85, 113, 202, 71, 270, 77, 208, 74, 1036, 161, 81, 73, 301, 155, 71, 79, 879, 186, 147, 188, 485, 155, 164, 73, 74, 327, 252, 702, 4716, 144]}],\n",
       "                        {\"showlegend\": true, \"title\": {\"text\": \"Percentage of Country\"}},\n",
       "                        {\"showLink\": false, \"linkText\": \"Export to plot.ly\", \"plotlyServerURL\": \"https://plot.ly\", \"responsive\": true}\n",
       "                    ).then(function(){\n",
       "                            \n",
       "var gd = document.getElementById('f9700584-9e9a-45d0-92f6-70323089ecd4');\n",
       "var x = new MutationObserver(function (mutations, observer) {{\n",
       "        var display = window.getComputedStyle(gd).display;\n",
       "        if (!display || display === 'none') {{\n",
       "            console.log([gd, 'removed!']);\n",
       "            Plotly.purge(gd);\n",
       "            observer.disconnect();\n",
       "        }}\n",
       "}});\n",
       "\n",
       "// Listen for the removal of the full notebook cells\n",
       "var notebookContainer = gd.closest('#notebook-container');\n",
       "if (notebookContainer) {{\n",
       "    x.observe(notebookContainer, {childList: true});\n",
       "}}\n",
       "\n",
       "// Listen for the clearing of the current output cell\n",
       "var outputEl = gd.closest('.output');\n",
       "if (outputEl) {{\n",
       "    x.observe(outputEl, {childList: true});\n",
       "}}\n",
       "\n",
       "                        })\n",
       "                };\n",
       "                });\n",
       "            </script>\n",
       "        </div>"
      ]
     },
     "metadata": {},
     "output_type": "display_data"
    }
   ],
   "source": [
    "MCR_Q3 = MCR_original.groupby(['Q3']).size().reset_index(name='count')\n",
    "donut_plot_general(MCR_Q3['Q3'], MCR_Q3['count'], 'Percentage of Country',True)"
   ]
  },
  {
   "cell_type": "code",
   "execution_count": 39,
   "metadata": {},
   "outputs": [
    {
     "data": {
      "application/vnd.plotly.v1+json": {
       "config": {
        "linkText": "Export to plot.ly",
        "plotlyServerURL": "https://plot.ly",
        "responsive": true,
        "showLink": false
       },
       "data": [
        {
         "hole": 0.7,
         "hoverinfo": "label+percent",
         "labels": [
          "Business Analyst",
          "Chief Officer",
          "Consultant",
          "DBA/Database Engineer",
          "Data Analyst",
          "Data Engineer",
          "Data Journalist",
          "Data Scientist",
          "Developer Advocate",
          "Manager",
          "Marketing Analyst",
          "Not employed",
          "Other",
          "Principal Investigator",
          "Product/Project Manager",
          "Research Assistant",
          "Research Scientist",
          "Salesperson",
          "Software Engineer",
          "Statistician",
          "Student"
         ],
         "marker": {
          "line": {
           "color": "black",
           "width": 0.5
          }
         },
         "textposition": "outside",
         "type": "pie",
         "uid": "24d2fbc3-f11a-402c-b690-075e44178b01",
         "values": [
          772,
          360,
          785,
          145,
          1922,
          737,
          20,
          4137,
          117,
          590,
          115,
          842,
          1322,
          97,
          428,
          600,
          1189,
          102,
          3130,
          237,
          5253
         ]
        }
       ],
       "layout": {
        "showlegend": true,
        "title": {
         "text": "Percentage of Job Title"
        }
       }
      },
      "text/html": [
       "<div>\n",
       "        \n",
       "        \n",
       "            <div id=\"60cb0396-c590-4393-8181-8c9f703fcf1b\" class=\"plotly-graph-div\" style=\"height:525px; width:100%;\"></div>\n",
       "            <script type=\"text/javascript\">\n",
       "                require([\"plotly\"], function(Plotly) {\n",
       "                    window.PLOTLYENV=window.PLOTLYENV || {};\n",
       "                    window.PLOTLYENV.BASE_URL='https://plot.ly';\n",
       "                    \n",
       "                if (document.getElementById(\"60cb0396-c590-4393-8181-8c9f703fcf1b\")) {\n",
       "                    Plotly.newPlot(\n",
       "                        '60cb0396-c590-4393-8181-8c9f703fcf1b',\n",
       "                        [{\"hole\": 0.7, \"hoverinfo\": \"label+percent\", \"labels\": [\"Business Analyst\", \"Chief Officer\", \"Consultant\", \"DBA/Database Engineer\", \"Data Analyst\", \"Data Engineer\", \"Data Journalist\", \"Data Scientist\", \"Developer Advocate\", \"Manager\", \"Marketing Analyst\", \"Not employed\", \"Other\", \"Principal Investigator\", \"Product/Project Manager\", \"Research Assistant\", \"Research Scientist\", \"Salesperson\", \"Software Engineer\", \"Statistician\", \"Student\"], \"marker\": {\"line\": {\"color\": \"black\", \"width\": 0.5}}, \"textposition\": \"outside\", \"type\": \"pie\", \"uid\": \"d24a6a20-5b59-477e-abd1-f6be2ee61c57\", \"values\": [772, 360, 785, 145, 1922, 737, 20, 4137, 117, 590, 115, 842, 1322, 97, 428, 600, 1189, 102, 3130, 237, 5253]}],\n",
       "                        {\"showlegend\": true, \"title\": {\"text\": \"Percentage of Job Title\"}},\n",
       "                        {\"showLink\": false, \"linkText\": \"Export to plot.ly\", \"plotlyServerURL\": \"https://plot.ly\", \"responsive\": true}\n",
       "                    ).then(function(){\n",
       "                            \n",
       "var gd = document.getElementById('60cb0396-c590-4393-8181-8c9f703fcf1b');\n",
       "var x = new MutationObserver(function (mutations, observer) {{\n",
       "        var display = window.getComputedStyle(gd).display;\n",
       "        if (!display || display === 'none') {{\n",
       "            console.log([gd, 'removed!']);\n",
       "            Plotly.purge(gd);\n",
       "            observer.disconnect();\n",
       "        }}\n",
       "}});\n",
       "\n",
       "// Listen for the removal of the full notebook cells\n",
       "var notebookContainer = gd.closest('#notebook-container');\n",
       "if (notebookContainer) {{\n",
       "    x.observe(notebookContainer, {childList: true});\n",
       "}}\n",
       "\n",
       "// Listen for the clearing of the current output cell\n",
       "var outputEl = gd.closest('.output');\n",
       "if (outputEl) {{\n",
       "    x.observe(outputEl, {childList: true});\n",
       "}}\n",
       "\n",
       "                        })\n",
       "                };\n",
       "                });\n",
       "            </script>\n",
       "        </div>"
      ]
     },
     "metadata": {},
     "output_type": "display_data"
    }
   ],
   "source": [
    "MCR_Q6 = MCR_original.groupby(['Q6']).size().reset_index(name='count')\n",
    "donut_plot_general(MCR_Q6['Q6'], MCR_Q6['count'], 'Percentage of Job Title',True)"
   ]
  },
  {
   "cell_type": "code",
   "execution_count": 40,
   "metadata": {},
   "outputs": [
    {
     "data": {
      "application/vnd.plotly.v1+json": {
       "config": {
        "linkText": "Export to plot.ly",
        "plotlyServerURL": "https://plot.ly",
        "responsive": true,
        "showLink": false
       },
       "data": [
        {
         "hole": 0.7,
         "hoverinfo": "label+percent",
         "labels": [
          "Academics/Education",
          "Accounting/Finance",
          "Broadcasting/Communications",
          "Computers/Technology",
          "Energy/Mining",
          "Government/Public Service",
          "Hospitality/Entertainment/Sports",
          "I am a student",
          "Insurance/Risk Assessment",
          "Manufacturing/Fabrication",
          "Marketing/CRM",
          "Medical/Pharmaceutical",
          "Military/Security/Defense",
          "Non-profit/Service",
          "Online Business/Internet-based Sales",
          "Online Service/Internet-based Services",
          "Other",
          "Retail/Sales",
          "Shipping/Transportation"
         ],
         "marker": {
          "line": {
           "color": "black",
           "width": 0.5
          }
         },
         "textposition": "outside",
         "type": "pie",
         "uid": "8a5aad7f-af25-4a1d-8f74-7ec5bebbb039",
         "values": [
          2749,
          1433,
          374,
          5584,
          447,
          636,
          177,
          4658,
          564,
          563,
          483,
          751,
          177,
          189,
          357,
          871,
          940,
          454,
          278
         ]
        }
       ],
       "layout": {
        "showlegend": true,
        "title": {
         "text": "Percentage of Industry"
        }
       }
      },
      "text/html": [
       "<div>\n",
       "        \n",
       "        \n",
       "            <div id=\"68d965b1-0de0-4414-b019-8547060349fa\" class=\"plotly-graph-div\" style=\"height:525px; width:100%;\"></div>\n",
       "            <script type=\"text/javascript\">\n",
       "                require([\"plotly\"], function(Plotly) {\n",
       "                    window.PLOTLYENV=window.PLOTLYENV || {};\n",
       "                    window.PLOTLYENV.BASE_URL='https://plot.ly';\n",
       "                    \n",
       "                if (document.getElementById(\"68d965b1-0de0-4414-b019-8547060349fa\")) {\n",
       "                    Plotly.newPlot(\n",
       "                        '68d965b1-0de0-4414-b019-8547060349fa',\n",
       "                        [{\"hole\": 0.7, \"hoverinfo\": \"label+percent\", \"labels\": [\"Academics/Education\", \"Accounting/Finance\", \"Broadcasting/Communications\", \"Computers/Technology\", \"Energy/Mining\", \"Government/Public Service\", \"Hospitality/Entertainment/Sports\", \"I am a student\", \"Insurance/Risk Assessment\", \"Manufacturing/Fabrication\", \"Marketing/CRM\", \"Medical/Pharmaceutical\", \"Military/Security/Defense\", \"Non-profit/Service\", \"Online Business/Internet-based Sales\", \"Online Service/Internet-based Services\", \"Other\", \"Retail/Sales\", \"Shipping/Transportation\"], \"marker\": {\"line\": {\"color\": \"black\", \"width\": 0.5}}, \"textposition\": \"outside\", \"type\": \"pie\", \"uid\": \"11a190e4-5770-47c9-b52d-ab2acfbc4ad4\", \"values\": [2749, 1433, 374, 5584, 447, 636, 177, 4658, 564, 563, 483, 751, 177, 189, 357, 871, 940, 454, 278]}],\n",
       "                        {\"showlegend\": true, \"title\": {\"text\": \"Percentage of Industry\"}},\n",
       "                        {\"showLink\": false, \"linkText\": \"Export to plot.ly\", \"plotlyServerURL\": \"https://plot.ly\", \"responsive\": true}\n",
       "                    ).then(function(){\n",
       "                            \n",
       "var gd = document.getElementById('68d965b1-0de0-4414-b019-8547060349fa');\n",
       "var x = new MutationObserver(function (mutations, observer) {{\n",
       "        var display = window.getComputedStyle(gd).display;\n",
       "        if (!display || display === 'none') {{\n",
       "            console.log([gd, 'removed!']);\n",
       "            Plotly.purge(gd);\n",
       "            observer.disconnect();\n",
       "        }}\n",
       "}});\n",
       "\n",
       "// Listen for the removal of the full notebook cells\n",
       "var notebookContainer = gd.closest('#notebook-container');\n",
       "if (notebookContainer) {{\n",
       "    x.observe(notebookContainer, {childList: true});\n",
       "}}\n",
       "\n",
       "// Listen for the clearing of the current output cell\n",
       "var outputEl = gd.closest('.output');\n",
       "if (outputEl) {{\n",
       "    x.observe(outputEl, {childList: true});\n",
       "}}\n",
       "\n",
       "                        })\n",
       "                };\n",
       "                });\n",
       "            </script>\n",
       "        </div>"
      ]
     },
     "metadata": {},
     "output_type": "display_data"
    }
   ],
   "source": [
    "MCR_Q7 = MCR_original.groupby(['Q7']).size().reset_index(name='count')\n",
    "donut_plot_general(MCR_Q7['Q7'], MCR_Q7['count'], 'Percentage of Industry',True)"
   ]
  },
  {
   "cell_type": "code",
   "execution_count": 41,
   "metadata": {},
   "outputs": [
    {
     "data": {
      "application/vnd.plotly.v1+json": {
       "config": {
        "linkText": "Export to plot.ly",
        "plotlyServerURL": "https://plot.ly",
        "responsive": true,
        "showLink": false
       },
       "data": [
        {
         "hole": 0.7,
         "hoverinfo": "label+percent",
         "labels": [
          "Jupyter/IPython",
          "RStudio",
          "PyCharm",
          "Visual Studio Code",
          "nteract",
          "Atom",
          "MATLAB",
          "Visual Studio",
          "Notepad++",
          "Sublime Text",
          "Vim",
          "IntelliJ",
          "Spyder",
          "None",
          "Other"
         ],
         "marker": {
          "line": {
           "color": "black",
           "width": 0.5
          }
         },
         "textposition": "outside",
         "type": "pie",
         "uid": "4234c452-fa66-466c-a2ca-48089db22cec",
         "values": [
          14010,
          8503,
          7060,
          5082,
          127,
          3906,
          5671,
          5111,
          7831,
          5985,
          4240,
          3456,
          5339,
          474,
          1257
         ]
        }
       ],
       "layout": {
        "showlegend": true,
        "title": {
         "text": "Percentage of IDE Usage"
        }
       }
      },
      "text/html": [
       "<div>\n",
       "        \n",
       "        \n",
       "            <div id=\"26da61ad-007a-4a63-8072-c551c6f552bb\" class=\"plotly-graph-div\" style=\"height:525px; width:100%;\"></div>\n",
       "            <script type=\"text/javascript\">\n",
       "                require([\"plotly\"], function(Plotly) {\n",
       "                    window.PLOTLYENV=window.PLOTLYENV || {};\n",
       "                    window.PLOTLYENV.BASE_URL='https://plot.ly';\n",
       "                    \n",
       "                if (document.getElementById(\"26da61ad-007a-4a63-8072-c551c6f552bb\")) {\n",
       "                    Plotly.newPlot(\n",
       "                        '26da61ad-007a-4a63-8072-c551c6f552bb',\n",
       "                        [{\"hole\": 0.7, \"hoverinfo\": \"label+percent\", \"labels\": [\"Jupyter/IPython\", \"RStudio\", \"PyCharm\", \"Visual Studio Code\", \"nteract\", \"Atom\", \"MATLAB\", \"Visual Studio\", \"Notepad++\", \"Sublime Text\", \"Vim\", \"IntelliJ\", \"Spyder\", \"None\", \"Other\"], \"marker\": {\"line\": {\"color\": \"black\", \"width\": 0.5}}, \"textposition\": \"outside\", \"type\": \"pie\", \"uid\": \"bf472834-da5f-40af-b887-8d8692fc38ee\", \"values\": [14010, 8503, 7060, 5082, 127, 3906, 5671, 5111, 7831, 5985, 4240, 3456, 5339, 474, 1257]}],\n",
       "                        {\"showlegend\": true, \"title\": {\"text\": \"Percentage of IDE Usage\"}},\n",
       "                        {\"showLink\": false, \"linkText\": \"Export to plot.ly\", \"plotlyServerURL\": \"https://plot.ly\", \"responsive\": true}\n",
       "                    ).then(function(){\n",
       "                            \n",
       "var gd = document.getElementById('26da61ad-007a-4a63-8072-c551c6f552bb');\n",
       "var x = new MutationObserver(function (mutations, observer) {{\n",
       "        var display = window.getComputedStyle(gd).display;\n",
       "        if (!display || display === 'none') {{\n",
       "            console.log([gd, 'removed!']);\n",
       "            Plotly.purge(gd);\n",
       "            observer.disconnect();\n",
       "        }}\n",
       "}});\n",
       "\n",
       "// Listen for the removal of the full notebook cells\n",
       "var notebookContainer = gd.closest('#notebook-container');\n",
       "if (notebookContainer) {{\n",
       "    x.observe(notebookContainer, {childList: true});\n",
       "}}\n",
       "\n",
       "// Listen for the clearing of the current output cell\n",
       "var outputEl = gd.closest('.output');\n",
       "if (outputEl) {{\n",
       "    x.observe(outputEl, {childList: true});\n",
       "}}\n",
       "\n",
       "                        })\n",
       "                };\n",
       "                });\n",
       "            </script>\n",
       "        </div>"
      ]
     },
     "metadata": {},
     "output_type": "display_data"
    }
   ],
   "source": [
    "MCR_Q13_arr = np.array([MCR_original['Q13_Part_1'].value_counts().index, \\\n",
    "                                         MCR_original['Q13_Part_2'].value_counts().index, \\\n",
    "                                         MCR_original['Q13_Part_3'].value_counts().index, \\\n",
    "                                         MCR_original['Q13_Part_4'].value_counts().index, \\\n",
    "                                         MCR_original['Q13_Part_5'].value_counts().index, \\\n",
    "                                         MCR_original['Q13_Part_6'].value_counts().index, \\\n",
    "                                         MCR_original['Q13_Part_7'].value_counts().index, \\\n",
    "                                         MCR_original['Q13_Part_8'].value_counts().index, \\\n",
    "                                         MCR_original['Q13_Part_9'].value_counts().index, \\\n",
    "                                         MCR_original['Q13_Part_10'].value_counts().index, \\\n",
    "                                         MCR_original['Q13_Part_11'].value_counts().index, \\\n",
    "                                         MCR_original['Q13_Part_12'].value_counts().index, \\\n",
    "                                         MCR_original['Q13_Part_13'].value_counts().index, \\\n",
    "                                         MCR_original['Q13_Part_14'].value_counts().index, \\\n",
    "                                         MCR_original['Q13_Part_15'].value_counts().index])\n",
    "\n",
    "MCR_Q13_index = pd.Series(map(lambda x: x[0], MCR_Q13_arr))\n",
    "\n",
    "\n",
    "MCR_Q13_value_arr = np.array([MCR_original['Q13_Part_1'].value_counts().values, \\\n",
    "                                         MCR_original['Q13_Part_2'].value_counts().values, \\\n",
    "                                         MCR_original['Q13_Part_3'].value_counts().values, \\\n",
    "                                         MCR_original['Q13_Part_4'].value_counts().values, \\\n",
    "                                         MCR_original['Q13_Part_5'].value_counts().values, \\\n",
    "                                         MCR_original['Q13_Part_6'].value_counts().values, \\\n",
    "                                         MCR_original['Q13_Part_7'].value_counts().values, \\\n",
    "                                         MCR_original['Q13_Part_8'].value_counts().values, \\\n",
    "                                         MCR_original['Q13_Part_9'].value_counts().values, \\\n",
    "                                         MCR_original['Q13_Part_10'].value_counts().values, \\\n",
    "                                         MCR_original['Q13_Part_11'].value_counts().values, \\\n",
    "                                         MCR_original['Q13_Part_12'].value_counts().values, \\\n",
    "                                         MCR_original['Q13_Part_13'].value_counts().values, \\\n",
    "                                         MCR_original['Q13_Part_14'].value_counts().values, \\\n",
    "                                         MCR_original['Q13_Part_15'].value_counts().values])\n",
    "\n",
    "MCR_Q13_value = pd.Series(map(lambda x: x[0], MCR_Q13_value_arr))\n",
    "donut_plot_general(MCR_Q13_index, MCR_Q13_value, 'Percentage of IDE Usage', True)"
   ]
  },
  {
   "cell_type": "code",
   "execution_count": 42,
   "metadata": {},
   "outputs": [
    {
     "data": {
      "application/vnd.plotly.v1+json": {
       "config": {
        "linkText": "Export to plot.ly",
        "plotlyServerURL": "https://plot.ly",
        "responsive": true,
        "showLink": false
       },
       "data": [
        {
         "hole": 0.7,
         "hoverinfo": "label+percent",
         "labels": [
          "Scikit-Learn",
          "TensorFlow",
          "Keras",
          "PyTorch",
          "Spark MLlib",
          "H20",
          "Fastai",
          "Mxnet",
          "Caret",
          "Xgboost",
          "mlr",
          "Prophet",
          "randomForest",
          "lightgbm",
          "catboost",
          "CNTK",
          "Caffe",
          "None",
          "Other"
         ],
         "marker": {
          "line": {
           "color": "black",
           "width": 0.5
          }
         },
         "textposition": "outside",
         "type": "pie",
         "uid": "c43ca0b7-f0e1-4c7c-bd69-6c1ee886edfe",
         "values": [
          12249,
          9981,
          8136,
          3826,
          2055,
          1307,
          1099,
          594,
          2220,
          5571,
          528,
          732,
          5967,
          2099,
          1037,
          744,
          1101,
          2918,
          536
         ]
        }
       ],
       "layout": {
        "showlegend": true,
        "title": {
         "text": "Percentage of Machine Learning Framework usage"
        }
       }
      },
      "text/html": [
       "<div>\n",
       "        \n",
       "        \n",
       "            <div id=\"047794d4-ff1a-47a8-9b57-d48eb8e032d3\" class=\"plotly-graph-div\" style=\"height:525px; width:100%;\"></div>\n",
       "            <script type=\"text/javascript\">\n",
       "                require([\"plotly\"], function(Plotly) {\n",
       "                    window.PLOTLYENV=window.PLOTLYENV || {};\n",
       "                    window.PLOTLYENV.BASE_URL='https://plot.ly';\n",
       "                    \n",
       "                if (document.getElementById(\"047794d4-ff1a-47a8-9b57-d48eb8e032d3\")) {\n",
       "                    Plotly.newPlot(\n",
       "                        '047794d4-ff1a-47a8-9b57-d48eb8e032d3',\n",
       "                        [{\"hole\": 0.7, \"hoverinfo\": \"label+percent\", \"labels\": [\"Scikit-Learn\", \"TensorFlow\", \"Keras\", \"PyTorch\", \"Spark MLlib\", \"H20\", \"Fastai\", \"Mxnet\", \"Caret\", \"Xgboost\", \"mlr\", \"Prophet\", \"randomForest\", \"lightgbm\", \"catboost\", \"CNTK\", \"Caffe\", \"None\", \"Other\"], \"marker\": {\"line\": {\"color\": \"black\", \"width\": 0.5}}, \"textposition\": \"outside\", \"type\": \"pie\", \"uid\": \"ab34a64b-62dc-421b-9081-a6dda39b9825\", \"values\": [12249, 9981, 8136, 3826, 2055, 1307, 1099, 594, 2220, 5571, 528, 732, 5967, 2099, 1037, 744, 1101, 2918, 536]}],\n",
       "                        {\"showlegend\": true, \"title\": {\"text\": \"Percentage of Machine Learning Framework usage\"}},\n",
       "                        {\"showLink\": false, \"linkText\": \"Export to plot.ly\", \"plotlyServerURL\": \"https://plot.ly\", \"responsive\": true}\n",
       "                    ).then(function(){\n",
       "                            \n",
       "var gd = document.getElementById('047794d4-ff1a-47a8-9b57-d48eb8e032d3');\n",
       "var x = new MutationObserver(function (mutations, observer) {{\n",
       "        var display = window.getComputedStyle(gd).display;\n",
       "        if (!display || display === 'none') {{\n",
       "            console.log([gd, 'removed!']);\n",
       "            Plotly.purge(gd);\n",
       "            observer.disconnect();\n",
       "        }}\n",
       "}});\n",
       "\n",
       "// Listen for the removal of the full notebook cells\n",
       "var notebookContainer = gd.closest('#notebook-container');\n",
       "if (notebookContainer) {{\n",
       "    x.observe(notebookContainer, {childList: true});\n",
       "}}\n",
       "\n",
       "// Listen for the clearing of the current output cell\n",
       "var outputEl = gd.closest('.output');\n",
       "if (outputEl) {{\n",
       "    x.observe(outputEl, {childList: true});\n",
       "}}\n",
       "\n",
       "                        })\n",
       "                };\n",
       "                });\n",
       "            </script>\n",
       "        </div>"
      ]
     },
     "metadata": {},
     "output_type": "display_data"
    }
   ],
   "source": [
    "input_data_tmp_Q19_index_arr = np.array([MCR_original['Q19_Part_1'].value_counts().index,\\\n",
    "                                         MCR_original['Q19_Part_2'].value_counts().index, \\\n",
    "                                         MCR_original['Q19_Part_3'].value_counts().index, \\\n",
    "                                         MCR_original['Q19_Part_4'].value_counts().index, \\\n",
    "                                         MCR_original['Q19_Part_5'].value_counts().index, \\\n",
    "                                         MCR_original['Q19_Part_6'].value_counts().index, \\\n",
    "                                         MCR_original['Q19_Part_7'].value_counts().index, \\\n",
    "                                         MCR_original['Q19_Part_8'].value_counts().index, \\\n",
    "                                         MCR_original['Q19_Part_9'].value_counts().index, \\\n",
    "                                         MCR_original['Q19_Part_10'].value_counts().index, \\\n",
    "                                         MCR_original['Q19_Part_11'].value_counts().index, \\\n",
    "                                         MCR_original['Q19_Part_12'].value_counts().index, \\\n",
    "                                         MCR_original['Q19_Part_13'].value_counts().index, \\\n",
    "                                         MCR_original['Q19_Part_14'].value_counts().index, \\\n",
    "                                         MCR_original['Q19_Part_15'].value_counts().index, \\\n",
    "                                         MCR_original['Q19_Part_16'].value_counts().index, \\\n",
    "                                         MCR_original['Q19_Part_17'].value_counts().index, \\\n",
    "                                         MCR_original['Q19_Part_18'].value_counts().index, \\\n",
    "                                         MCR_original['Q19_Part_19'].value_counts().index])\n",
    "input_data_tmp_Q19_index = pd.Series(map(lambda x: x[0], input_data_tmp_Q19_index_arr))\n",
    "\n",
    "input_data_tmp_Q19_value_arr = np.array([MCR_original['Q19_Part_1'].value_counts().values, \\\n",
    "                                         MCR_original['Q19_Part_2'].value_counts().values, \\\n",
    "                                         MCR_original['Q19_Part_3'].value_counts().values, \\\n",
    "                                         MCR_original['Q19_Part_4'].value_counts().values, \\\n",
    "                                         MCR_original['Q19_Part_5'].value_counts().values, \\\n",
    "                                         MCR_original['Q19_Part_6'].value_counts().values, \\\n",
    "                                         MCR_original['Q19_Part_7'].value_counts().values, \\\n",
    "                                         MCR_original['Q19_Part_8'].value_counts().values, \\\n",
    "                                         MCR_original['Q19_Part_9'].value_counts().values, \\\n",
    "                                         MCR_original['Q19_Part_10'].value_counts().values, \\\n",
    "                                         MCR_original['Q19_Part_11'].value_counts().values, \\\n",
    "                                         MCR_original['Q19_Part_12'].value_counts().values, \\\n",
    "                                         MCR_original['Q19_Part_13'].value_counts().values, \\\n",
    "                                         MCR_original['Q19_Part_14'].value_counts().values, \\\n",
    "                                         MCR_original['Q19_Part_15'].value_counts().values, \\\n",
    "                                         MCR_original['Q19_Part_16'].value_counts().values, \\\n",
    "                                         MCR_original['Q19_Part_17'].value_counts().values, \\\n",
    "                                         MCR_original['Q19_Part_18'].value_counts().values, \\\n",
    "                                         MCR_original['Q19_Part_19'].value_counts().values])\n",
    "input_data_tmp_Q19_value = pd.Series(map(lambda x: x[0], input_data_tmp_Q19_value_arr))\n",
    "\n",
    "donut_plot_general(input_data_tmp_Q19_index, input_data_tmp_Q19_value, 'Percentage of Machine Learning Framework usage', True)"
   ]
  },
  {
   "cell_type": "code",
   "execution_count": 43,
   "metadata": {},
   "outputs": [],
   "source": [
    "# correlation matrix for all continuous variables\n",
    "corcol = ['Q1','Q2','Q8','compensation','Q23','Q24','Q25','Q43','Q46','consumingCapicity']\n",
    "corrdf = MCR_model[corcol].rename(index=str, columns={\"Q1\": \"sex\", \"Q2\": \"age\", \"Q8\": \"experience\",\\\n",
    "                                                     \"Q23\": \"percentage of coding time\",\"Q24\": \"coding experience\",\\\n",
    "                                                      \"Q25\": \"ML experience\",\"Q43\": \"explore unfair bias\",\\\n",
    "                                                      \"Q46\": \"explore model insights\"})"
   ]
  },
  {
   "cell_type": "code",
   "execution_count": 44,
   "metadata": {},
   "outputs": [
    {
     "data": {
      "text/plain": [
       "<matplotlib.axes._subplots.AxesSubplot at 0x1c1c716588>"
      ]
     },
     "execution_count": 44,
     "metadata": {},
     "output_type": "execute_result"
    },
    {
     "data": {
      "image/png": "[encoded data removed]",
      "text/plain": [
       "<Figure size 432x288 with 2 Axes>"
      ]
     },
     "metadata": {
      "needs_background": "light"
     },
     "output_type": "display_data"
    }
   ],
   "source": [
    "corr = corrdf.corr()\n",
    "sns.heatmap(corr, \n",
    "            xticklabels=corr.columns.values,\n",
    "            yticklabels=corr.columns.values)"
   ]
  },
  {
   "cell_type": "markdown",
   "metadata": {},
   "source": [
    "In the heatmap above, the lighter color indicates a higher correlation coefficient. Age and working experience, coding experience and ML experience both have high correlation which is consistent with common sense. Otherwise, the compensation and consuming capictiy has the highest correlation coefficient, but they still have obvious difference, which will be covered later.\n",
    "\n",
    "p.s. The matrix below is another heatmap for the correlation matrix with number on it. (The larger the absolute value of correlation coefficient is, the more red the background color is. All the other color pattern have been tried one by one, but they are all even harder to recognize)"
   ]
  },
  {
   "cell_type": "code",
   "execution_count": 45,
   "metadata": {},
   "outputs": [
    {
     "data": {
      "text/html": [
       "<style  type=\"text/css\" >\n",
       "    #T_74b72d40_2816_11ea_a73c_80e6501cd118row0_col0 {\n",
       "            background-color:  #b40426;\n",
       "            color:  #f1f1f1;\n",
       "        }    #T_74b72d40_2816_11ea_a73c_80e6501cd118row0_col1 {\n",
       "            background-color:  #5d7ce6;\n",
       "            color:  #000000;\n",
       "        }    #T_74b72d40_2816_11ea_a73c_80e6501cd118row0_col2 {\n",
       "            background-color:  #6384eb;\n",
       "            color:  #000000;\n",
       "        }    #T_74b72d40_2816_11ea_a73c_80e6501cd118row0_col3 {\n",
       "            background-color:  #4f69d9;\n",
       "            color:  #000000;\n",
       "        }    #T_74b72d40_2816_11ea_a73c_80e6501cd118row0_col4 {\n",
       "            background-color:  #5470de;\n",
       "            color:  #000000;\n",
       "        }    #T_74b72d40_2816_11ea_a73c_80e6501cd118row0_col5 {\n",
       "            background-color:  #3b4cc0;\n",
       "            color:  #f1f1f1;\n",
       "        }    #T_74b72d40_2816_11ea_a73c_80e6501cd118row0_col6 {\n",
       "            background-color:  #3b4cc0;\n",
       "            color:  #f1f1f1;\n",
       "        }    #T_74b72d40_2816_11ea_a73c_80e6501cd118row0_col7 {\n",
       "            background-color:  #4358cb;\n",
       "            color:  #f1f1f1;\n",
       "        }    #T_74b72d40_2816_11ea_a73c_80e6501cd118row0_col8 {\n",
       "            background-color:  #4055c8;\n",
       "            color:  #f1f1f1;\n",
       "        }    #T_74b72d40_2816_11ea_a73c_80e6501cd118row0_col9 {\n",
       "            background-color:  #4f69d9;\n",
       "            color:  #000000;\n",
       "        }    #T_74b72d40_2816_11ea_a73c_80e6501cd118row1_col0 {\n",
       "            background-color:  #4a63d3;\n",
       "            color:  #f1f1f1;\n",
       "        }    #T_74b72d40_2816_11ea_a73c_80e6501cd118row1_col1 {\n",
       "            background-color:  #b40426;\n",
       "            color:  #f1f1f1;\n",
       "        }    #T_74b72d40_2816_11ea_a73c_80e6501cd118row1_col2 {\n",
       "            background-color:  #f7b89c;\n",
       "            color:  #000000;\n",
       "        }    #T_74b72d40_2816_11ea_a73c_80e6501cd118row1_col3 {\n",
       "            background-color:  #c5d6f2;\n",
       "            color:  #000000;\n",
       "        }    #T_74b72d40_2816_11ea_a73c_80e6501cd118row1_col4 {\n",
       "            background-color:  #4055c8;\n",
       "            color:  #f1f1f1;\n",
       "        }    #T_74b72d40_2816_11ea_a73c_80e6501cd118row1_col5 {\n",
       "            background-color:  #dadce0;\n",
       "            color:  #000000;\n",
       "        }    #T_74b72d40_2816_11ea_a73c_80e6501cd118row1_col6 {\n",
       "            background-color:  #9ebeff;\n",
       "            color:  #000000;\n",
       "        }    #T_74b72d40_2816_11ea_a73c_80e6501cd118row1_col7 {\n",
       "            background-color:  #3b4cc0;\n",
       "            color:  #f1f1f1;\n",
       "        }    #T_74b72d40_2816_11ea_a73c_80e6501cd118row1_col8 {\n",
       "            background-color:  #4a63d3;\n",
       "            color:  #f1f1f1;\n",
       "        }    #T_74b72d40_2816_11ea_a73c_80e6501cd118row1_col9 {\n",
       "            background-color:  #b6cefa;\n",
       "            color:  #000000;\n",
       "        }    #T_74b72d40_2816_11ea_a73c_80e6501cd118row2_col0 {\n",
       "            background-color:  #4a63d3;\n",
       "            color:  #f1f1f1;\n",
       "        }    #T_74b72d40_2816_11ea_a73c_80e6501cd118row2_col1 {\n",
       "            background-color:  #f7ba9f;\n",
       "            color:  #000000;\n",
       "        }    #T_74b72d40_2816_11ea_a73c_80e6501cd118row2_col2 {\n",
       "            background-color:  #b40426;\n",
       "            color:  #f1f1f1;\n",
       "        }    #T_74b72d40_2816_11ea_a73c_80e6501cd118row2_col3 {\n",
       "            background-color:  #a1c0ff;\n",
       "            color:  #000000;\n",
       "        }    #T_74b72d40_2816_11ea_a73c_80e6501cd118row2_col4 {\n",
       "            background-color:  #3b4cc0;\n",
       "            color:  #f1f1f1;\n",
       "        }    #T_74b72d40_2816_11ea_a73c_80e6501cd118row2_col5 {\n",
       "            background-color:  #bbd1f8;\n",
       "            color:  #000000;\n",
       "        }    #T_74b72d40_2816_11ea_a73c_80e6501cd118row2_col6 {\n",
       "            background-color:  #80a3fa;\n",
       "            color:  #000000;\n",
       "        }    #T_74b72d40_2816_11ea_a73c_80e6501cd118row2_col7 {\n",
       "            background-color:  #3d50c3;\n",
       "            color:  #f1f1f1;\n",
       "        }    #T_74b72d40_2816_11ea_a73c_80e6501cd118row2_col8 {\n",
       "            background-color:  #3b4cc0;\n",
       "            color:  #f1f1f1;\n",
       "        }    #T_74b72d40_2816_11ea_a73c_80e6501cd118row2_col9 {\n",
       "            background-color:  #92b4fe;\n",
       "            color:  #000000;\n",
       "        }    #T_74b72d40_2816_11ea_a73c_80e6501cd118row3_col0 {\n",
       "            background-color:  #465ecf;\n",
       "            color:  #f1f1f1;\n",
       "        }    #T_74b72d40_2816_11ea_a73c_80e6501cd118row3_col1 {\n",
       "            background-color:  #ccd9ed;\n",
       "            color:  #000000;\n",
       "        }    #T_74b72d40_2816_11ea_a73c_80e6501cd118row3_col2 {\n",
       "            background-color:  #aec9fc;\n",
       "            color:  #000000;\n",
       "        }    #T_74b72d40_2816_11ea_a73c_80e6501cd118row3_col3 {\n",
       "            background-color:  #b40426;\n",
       "            color:  #f1f1f1;\n",
       "        }    #T_74b72d40_2816_11ea_a73c_80e6501cd118row3_col4 {\n",
       "            background-color:  #5470de;\n",
       "            color:  #000000;\n",
       "        }    #T_74b72d40_2816_11ea_a73c_80e6501cd118row3_col5 {\n",
       "            background-color:  #a6c4fe;\n",
       "            color:  #000000;\n",
       "        }    #T_74b72d40_2816_11ea_a73c_80e6501cd118row3_col6 {\n",
       "            background-color:  #92b4fe;\n",
       "            color:  #000000;\n",
       "        }    #T_74b72d40_2816_11ea_a73c_80e6501cd118row3_col7 {\n",
       "            background-color:  #3b4cc0;\n",
       "            color:  #f1f1f1;\n",
       "        }    #T_74b72d40_2816_11ea_a73c_80e6501cd118row3_col8 {\n",
       "            background-color:  #5a78e4;\n",
       "            color:  #000000;\n",
       "        }    #T_74b72d40_2816_11ea_a73c_80e6501cd118row3_col9 {\n",
       "            background-color:  #e46e56;\n",
       "            color:  #000000;\n",
       "        }    #T_74b72d40_2816_11ea_a73c_80e6501cd118row4_col0 {\n",
       "            background-color:  #3b4cc0;\n",
       "            color:  #f1f1f1;\n",
       "        }    #T_74b72d40_2816_11ea_a73c_80e6501cd118row4_col1 {\n",
       "            background-color:  #3b4cc0;\n",
       "            color:  #f1f1f1;\n",
       "        }    #T_74b72d40_2816_11ea_a73c_80e6501cd118row4_col2 {\n",
       "            background-color:  #3b4cc0;\n",
       "            color:  #f1f1f1;\n",
       "        }    #T_74b72d40_2816_11ea_a73c_80e6501cd118row4_col3 {\n",
       "            background-color:  #4257c9;\n",
       "            color:  #f1f1f1;\n",
       "        }    #T_74b72d40_2816_11ea_a73c_80e6501cd118row4_col4 {\n",
       "            background-color:  #b40426;\n",
       "            color:  #f1f1f1;\n",
       "        }    #T_74b72d40_2816_11ea_a73c_80e6501cd118row4_col5 {\n",
       "            background-color:  #5977e3;\n",
       "            color:  #000000;\n",
       "        }    #T_74b72d40_2816_11ea_a73c_80e6501cd118row4_col6 {\n",
       "            background-color:  #6788ee;\n",
       "            color:  #000000;\n",
       "        }    #T_74b72d40_2816_11ea_a73c_80e6501cd118row4_col7 {\n",
       "            background-color:  #7a9df8;\n",
       "            color:  #000000;\n",
       "        }    #T_74b72d40_2816_11ea_a73c_80e6501cd118row4_col8 {\n",
       "            background-color:  #86a9fc;\n",
       "            color:  #000000;\n",
       "        }    #T_74b72d40_2816_11ea_a73c_80e6501cd118row4_col9 {\n",
       "            background-color:  #3f53c6;\n",
       "            color:  #f1f1f1;\n",
       "        }    #T_74b72d40_2816_11ea_a73c_80e6501cd118row5_col0 {\n",
       "            background-color:  #465ecf;\n",
       "            color:  #f1f1f1;\n",
       "        }    #T_74b72d40_2816_11ea_a73c_80e6501cd118row5_col1 {\n",
       "            background-color:  #e7d7ce;\n",
       "            color:  #000000;\n",
       "        }    #T_74b72d40_2816_11ea_a73c_80e6501cd118row5_col2 {\n",
       "            background-color:  #d2dbe8;\n",
       "            color:  #000000;\n",
       "        }    #T_74b72d40_2816_11ea_a73c_80e6501cd118row5_col3 {\n",
       "            background-color:  #b5cdfa;\n",
       "            color:  #000000;\n",
       "        }    #T_74b72d40_2816_11ea_a73c_80e6501cd118row5_col4 {\n",
       "            background-color:  #7da0f9;\n",
       "            color:  #000000;\n",
       "        }    #T_74b72d40_2816_11ea_a73c_80e6501cd118row5_col5 {\n",
       "            background-color:  #b40426;\n",
       "            color:  #f1f1f1;\n",
       "        }    #T_74b72d40_2816_11ea_a73c_80e6501cd118row5_col6 {\n",
       "            background-color:  #f1ccb8;\n",
       "            color:  #000000;\n",
       "        }    #T_74b72d40_2816_11ea_a73c_80e6501cd118row5_col7 {\n",
       "            background-color:  #5875e1;\n",
       "            color:  #000000;\n",
       "        }    #T_74b72d40_2816_11ea_a73c_80e6501cd118row5_col8 {\n",
       "            background-color:  #82a6fb;\n",
       "            color:  #000000;\n",
       "        }    #T_74b72d40_2816_11ea_a73c_80e6501cd118row5_col9 {\n",
       "            background-color:  #9ebeff;\n",
       "            color:  #000000;\n",
       "        }    #T_74b72d40_2816_11ea_a73c_80e6501cd118row6_col0 {\n",
       "            background-color:  #445acc;\n",
       "            color:  #f1f1f1;\n",
       "        }    #T_74b72d40_2816_11ea_a73c_80e6501cd118row6_col1 {\n",
       "            background-color:  #b3cdfb;\n",
       "            color:  #000000;\n",
       "        }    #T_74b72d40_2816_11ea_a73c_80e6501cd118row6_col2 {\n",
       "            background-color:  #9ebeff;\n",
       "            color:  #000000;\n",
       "        }    #T_74b72d40_2816_11ea_a73c_80e6501cd118row6_col3 {\n",
       "            background-color:  #a1c0ff;\n",
       "            color:  #000000;\n",
       "        }    #T_74b72d40_2816_11ea_a73c_80e6501cd118row6_col4 {\n",
       "            background-color:  #89acfd;\n",
       "            color:  #000000;\n",
       "        }    #T_74b72d40_2816_11ea_a73c_80e6501cd118row6_col5 {\n",
       "            background-color:  #f1cdba;\n",
       "            color:  #000000;\n",
       "        }    #T_74b72d40_2816_11ea_a73c_80e6501cd118row6_col6 {\n",
       "            background-color:  #b40426;\n",
       "            color:  #f1f1f1;\n",
       "        }    #T_74b72d40_2816_11ea_a73c_80e6501cd118row6_col7 {\n",
       "            background-color:  #6384eb;\n",
       "            color:  #000000;\n",
       "        }    #T_74b72d40_2816_11ea_a73c_80e6501cd118row6_col8 {\n",
       "            background-color:  #8fb1fe;\n",
       "            color:  #000000;\n",
       "        }    #T_74b72d40_2816_11ea_a73c_80e6501cd118row6_col9 {\n",
       "            background-color:  #93b5fe;\n",
       "            color:  #000000;\n",
       "        }    #T_74b72d40_2816_11ea_a73c_80e6501cd118row7_col0 {\n",
       "            background-color:  #3c4ec2;\n",
       "            color:  #f1f1f1;\n",
       "        }    #T_74b72d40_2816_11ea_a73c_80e6501cd118row7_col1 {\n",
       "            background-color:  #465ecf;\n",
       "            color:  #f1f1f1;\n",
       "        }    #T_74b72d40_2816_11ea_a73c_80e6501cd118row7_col2 {\n",
       "            background-color:  #4f69d9;\n",
       "            color:  #000000;\n",
       "        }    #T_74b72d40_2816_11ea_a73c_80e6501cd118row7_col3 {\n",
       "            background-color:  #3b4cc0;\n",
       "            color:  #f1f1f1;\n",
       "        }    #T_74b72d40_2816_11ea_a73c_80e6501cd118row7_col4 {\n",
       "            background-color:  #8badfd;\n",
       "            color:  #000000;\n",
       "        }    #T_74b72d40_2816_11ea_a73c_80e6501cd118row7_col5 {\n",
       "            background-color:  #445acc;\n",
       "            color:  #f1f1f1;\n",
       "        }    #T_74b72d40_2816_11ea_a73c_80e6501cd118row7_col6 {\n",
       "            background-color:  #516ddb;\n",
       "            color:  #000000;\n",
       "        }    #T_74b72d40_2816_11ea_a73c_80e6501cd118row7_col7 {\n",
       "            background-color:  #b40426;\n",
       "            color:  #f1f1f1;\n",
       "        }    #T_74b72d40_2816_11ea_a73c_80e6501cd118row7_col8 {\n",
       "            background-color:  #bfd3f6;\n",
       "            color:  #000000;\n",
       "        }    #T_74b72d40_2816_11ea_a73c_80e6501cd118row7_col9 {\n",
       "            background-color:  #3b4cc0;\n",
       "            color:  #f1f1f1;\n",
       "        }    #T_74b72d40_2816_11ea_a73c_80e6501cd118row8_col0 {\n",
       "            background-color:  #3d50c3;\n",
       "            color:  #f1f1f1;\n",
       "        }    #T_74b72d40_2816_11ea_a73c_80e6501cd118row8_col1 {\n",
       "            background-color:  #5977e3;\n",
       "            color:  #000000;\n",
       "        }    #T_74b72d40_2816_11ea_a73c_80e6501cd118row8_col2 {\n",
       "            background-color:  #506bda;\n",
       "            color:  #000000;\n",
       "        }    #T_74b72d40_2816_11ea_a73c_80e6501cd118row8_col3 {\n",
       "            background-color:  #5e7de7;\n",
       "            color:  #000000;\n",
       "        }    #T_74b72d40_2816_11ea_a73c_80e6501cd118row8_col4 {\n",
       "            background-color:  #9abbff;\n",
       "            color:  #000000;\n",
       "        }    #T_74b72d40_2816_11ea_a73c_80e6501cd118row8_col5 {\n",
       "            background-color:  #7597f6;\n",
       "            color:  #000000;\n",
       "        }    #T_74b72d40_2816_11ea_a73c_80e6501cd118row8_col6 {\n",
       "            background-color:  #82a6fb;\n",
       "            color:  #000000;\n",
       "        }    #T_74b72d40_2816_11ea_a73c_80e6501cd118row8_col7 {\n",
       "            background-color:  #c1d4f4;\n",
       "            color:  #000000;\n",
       "        }    #T_74b72d40_2816_11ea_a73c_80e6501cd118row8_col8 {\n",
       "            background-color:  #b40426;\n",
       "            color:  #f1f1f1;\n",
       "        }    #T_74b72d40_2816_11ea_a73c_80e6501cd118row8_col9 {\n",
       "            background-color:  #536edd;\n",
       "            color:  #000000;\n",
       "        }    #T_74b72d40_2816_11ea_a73c_80e6501cd118row9_col0 {\n",
       "            background-color:  #4a63d3;\n",
       "            color:  #f1f1f1;\n",
       "        }    #T_74b72d40_2816_11ea_a73c_80e6501cd118row9_col1 {\n",
       "            background-color:  #bfd3f6;\n",
       "            color:  #000000;\n",
       "        }    #T_74b72d40_2816_11ea_a73c_80e6501cd118row9_col2 {\n",
       "            background-color:  #a2c1ff;\n",
       "            color:  #000000;\n",
       "        }    #T_74b72d40_2816_11ea_a73c_80e6501cd118row9_col3 {\n",
       "            background-color:  #e46e56;\n",
       "            color:  #000000;\n",
       "        }    #T_74b72d40_2816_11ea_a73c_80e6501cd118row9_col4 {\n",
       "            background-color:  #5470de;\n",
       "            color:  #000000;\n",
       "        }    #T_74b72d40_2816_11ea_a73c_80e6501cd118row9_col5 {\n",
       "            background-color:  #8fb1fe;\n",
       "            color:  #000000;\n",
       "        }    #T_74b72d40_2816_11ea_a73c_80e6501cd118row9_col6 {\n",
       "            background-color:  #85a8fc;\n",
       "            color:  #000000;\n",
       "        }    #T_74b72d40_2816_11ea_a73c_80e6501cd118row9_col7 {\n",
       "            background-color:  #3c4ec2;\n",
       "            color:  #f1f1f1;\n",
       "        }    #T_74b72d40_2816_11ea_a73c_80e6501cd118row9_col8 {\n",
       "            background-color:  #516ddb;\n",
       "            color:  #000000;\n",
       "        }    #T_74b72d40_2816_11ea_a73c_80e6501cd118row9_col9 {\n",
       "            background-color:  #b40426;\n",
       "            color:  #f1f1f1;\n",
       "        }</style><table id=\"T_74b72d40_2816_11ea_a73c_80e6501cd118\" ><thead>    <tr>        <th class=\"blank level0\" ></th>        <th class=\"col_heading level0 col0\" >sex</th>        <th class=\"col_heading level0 col1\" >age</th>        <th class=\"col_heading level0 col2\" >experience</th>        <th class=\"col_heading level0 col3\" >compensation</th>        <th class=\"col_heading level0 col4\" >percentage of coding time</th>        <th class=\"col_heading level0 col5\" >coding experience</th>        <th class=\"col_heading level0 col6\" >ML experience</th>        <th class=\"col_heading level0 col7\" >explore unfair bias</th>        <th class=\"col_heading level0 col8\" >explore model insights</th>        <th class=\"col_heading level0 col9\" >consumingCapicity</th>    </tr></thead><tbody>\n",
       "                <tr>\n",
       "                        <th id=\"T_74b72d40_2816_11ea_a73c_80e6501cd118level0_row0\" class=\"row_heading level0 row0\" >sex</th>\n",
       "                        <td id=\"T_74b72d40_2816_11ea_a73c_80e6501cd118row0_col0\" class=\"data row0 col0\" >1</td>\n",
       "                        <td id=\"T_74b72d40_2816_11ea_a73c_80e6501cd118row0_col1\" class=\"data row0 col1\" >0.071</td>\n",
       "                        <td id=\"T_74b72d40_2816_11ea_a73c_80e6501cd118row0_col2\" class=\"data row0 col2\" >0.068</td>\n",
       "                        <td id=\"T_74b72d40_2816_11ea_a73c_80e6501cd118row0_col3\" class=\"data row0 col3\" >0.059</td>\n",
       "                        <td id=\"T_74b72d40_2816_11ea_a73c_80e6501cd118row0_col4\" class=\"data row0 col4\" >0.017</td>\n",
       "                        <td id=\"T_74b72d40_2816_11ea_a73c_80e6501cd118row0_col5\" class=\"data row0 col5\" >0.056</td>\n",
       "                        <td id=\"T_74b72d40_2816_11ea_a73c_80e6501cd118row0_col6\" class=\"data row0 col6\" >0.048</td>\n",
       "                        <td id=\"T_74b72d40_2816_11ea_a73c_80e6501cd118row0_col7\" class=\"data row0 col7\" >0.023</td>\n",
       "                        <td id=\"T_74b72d40_2816_11ea_a73c_80e6501cd118row0_col8\" class=\"data row0 col8\" >0.028</td>\n",
       "                        <td id=\"T_74b72d40_2816_11ea_a73c_80e6501cd118row0_col9\" class=\"data row0 col9\" >0.068</td>\n",
       "            </tr>\n",
       "            <tr>\n",
       "                        <th id=\"T_74b72d40_2816_11ea_a73c_80e6501cd118level0_row1\" class=\"row_heading level0 row1\" >age</th>\n",
       "                        <td id=\"T_74b72d40_2816_11ea_a73c_80e6501cd118row1_col0\" class=\"data row1 col0\" >0.071</td>\n",
       "                        <td id=\"T_74b72d40_2816_11ea_a73c_80e6501cd118row1_col1\" class=\"data row1 col1\" >1</td>\n",
       "                        <td id=\"T_74b72d40_2816_11ea_a73c_80e6501cd118row1_col2\" class=\"data row1 col2\" >0.64</td>\n",
       "                        <td id=\"T_74b72d40_2816_11ea_a73c_80e6501cd118row1_col3\" class=\"data row1 col3\" >0.41</td>\n",
       "                        <td id=\"T_74b72d40_2816_11ea_a73c_80e6501cd118row1_col4\" class=\"data row1 col4\" >-0.046</td>\n",
       "                        <td id=\"T_74b72d40_2816_11ea_a73c_80e6501cd118row1_col5\" class=\"data row1 col5\" >0.52</td>\n",
       "                        <td id=\"T_74b72d40_2816_11ea_a73c_80e6501cd118row1_col6\" class=\"data row1 col6\" >0.33</td>\n",
       "                        <td id=\"T_74b72d40_2816_11ea_a73c_80e6501cd118row1_col7\" class=\"data row1 col7\" >-0.0049</td>\n",
       "                        <td id=\"T_74b72d40_2816_11ea_a73c_80e6501cd118row1_col8\" class=\"data row1 col8\" >0.06</td>\n",
       "                        <td id=\"T_74b72d40_2816_11ea_a73c_80e6501cd118row1_col9\" class=\"data row1 col9\" >0.37</td>\n",
       "            </tr>\n",
       "            <tr>\n",
       "                        <th id=\"T_74b72d40_2816_11ea_a73c_80e6501cd118level0_row2\" class=\"row_heading level0 row2\" >experience</th>\n",
       "                        <td id=\"T_74b72d40_2816_11ea_a73c_80e6501cd118row2_col0\" class=\"data row2 col0\" >0.068</td>\n",
       "                        <td id=\"T_74b72d40_2816_11ea_a73c_80e6501cd118row2_col1\" class=\"data row2 col1\" >0.64</td>\n",
       "                        <td id=\"T_74b72d40_2816_11ea_a73c_80e6501cd118row2_col2\" class=\"data row2 col2\" >1</td>\n",
       "                        <td id=\"T_74b72d40_2816_11ea_a73c_80e6501cd118row2_col3\" class=\"data row2 col3\" >0.3</td>\n",
       "                        <td id=\"T_74b72d40_2816_11ea_a73c_80e6501cd118row2_col4\" class=\"data row2 col4\" >-0.071</td>\n",
       "                        <td id=\"T_74b72d40_2816_11ea_a73c_80e6501cd118row2_col5\" class=\"data row2 col5\" >0.42</td>\n",
       "                        <td id=\"T_74b72d40_2816_11ea_a73c_80e6501cd118row2_col6\" class=\"data row2 col6\" >0.25</td>\n",
       "                        <td id=\"T_74b72d40_2816_11ea_a73c_80e6501cd118row2_col7\" class=\"data row2 col7\" >0.0012</td>\n",
       "                        <td id=\"T_74b72d40_2816_11ea_a73c_80e6501cd118row2_col8\" class=\"data row2 col8\" >0.0064</td>\n",
       "                        <td id=\"T_74b72d40_2816_11ea_a73c_80e6501cd118row2_col9\" class=\"data row2 col9\" >0.26</td>\n",
       "            </tr>\n",
       "            <tr>\n",
       "                        <th id=\"T_74b72d40_2816_11ea_a73c_80e6501cd118level0_row3\" class=\"row_heading level0 row3\" >compensation</th>\n",
       "                        <td id=\"T_74b72d40_2816_11ea_a73c_80e6501cd118row3_col0\" class=\"data row3 col0\" >0.059</td>\n",
       "                        <td id=\"T_74b72d40_2816_11ea_a73c_80e6501cd118row3_col1\" class=\"data row3 col1\" >0.41</td>\n",
       "                        <td id=\"T_74b72d40_2816_11ea_a73c_80e6501cd118row3_col2\" class=\"data row3 col2\" >0.3</td>\n",
       "                        <td id=\"T_74b72d40_2816_11ea_a73c_80e6501cd118row3_col3\" class=\"data row3 col3\" >1</td>\n",
       "                        <td id=\"T_74b72d40_2816_11ea_a73c_80e6501cd118row3_col4\" class=\"data row3 col4\" >0.02</td>\n",
       "                        <td id=\"T_74b72d40_2816_11ea_a73c_80e6501cd118row3_col5\" class=\"data row3 col5\" >0.36</td>\n",
       "                        <td id=\"T_74b72d40_2816_11ea_a73c_80e6501cd118row3_col6\" class=\"data row3 col6\" >0.3</td>\n",
       "                        <td id=\"T_74b72d40_2816_11ea_a73c_80e6501cd118row3_col7\" class=\"data row3 col7\" >-0.0078</td>\n",
       "                        <td id=\"T_74b72d40_2816_11ea_a73c_80e6501cd118row3_col8\" class=\"data row3 col8\" >0.11</td>\n",
       "                        <td id=\"T_74b72d40_2816_11ea_a73c_80e6501cd118row3_col9\" class=\"data row3 col9\" >0.84</td>\n",
       "            </tr>\n",
       "            <tr>\n",
       "                        <th id=\"T_74b72d40_2816_11ea_a73c_80e6501cd118level0_row4\" class=\"row_heading level0 row4\" >percentage of coding time</th>\n",
       "                        <td id=\"T_74b72d40_2816_11ea_a73c_80e6501cd118row4_col0\" class=\"data row4 col0\" >0.017</td>\n",
       "                        <td id=\"T_74b72d40_2816_11ea_a73c_80e6501cd118row4_col1\" class=\"data row4 col1\" >-0.046</td>\n",
       "                        <td id=\"T_74b72d40_2816_11ea_a73c_80e6501cd118row4_col2\" class=\"data row4 col2\" >-0.071</td>\n",
       "                        <td id=\"T_74b72d40_2816_11ea_a73c_80e6501cd118row4_col3\" class=\"data row4 col3\" >0.02</td>\n",
       "                        <td id=\"T_74b72d40_2816_11ea_a73c_80e6501cd118row4_col4\" class=\"data row4 col4\" >1</td>\n",
       "                        <td id=\"T_74b72d40_2816_11ea_a73c_80e6501cd118row4_col5\" class=\"data row4 col5\" >0.15</td>\n",
       "                        <td id=\"T_74b72d40_2816_11ea_a73c_80e6501cd118row4_col6\" class=\"data row4 col6\" >0.18</td>\n",
       "                        <td id=\"T_74b72d40_2816_11ea_a73c_80e6501cd118row4_col7\" class=\"data row4 col7\" >0.19</td>\n",
       "                        <td id=\"T_74b72d40_2816_11ea_a73c_80e6501cd118row4_col8\" class=\"data row4 col8\" >0.24</td>\n",
       "                        <td id=\"T_74b72d40_2816_11ea_a73c_80e6501cd118row4_col9\" class=\"data row4 col9\" >0.018</td>\n",
       "            </tr>\n",
       "            <tr>\n",
       "                        <th id=\"T_74b72d40_2816_11ea_a73c_80e6501cd118level0_row5\" class=\"row_heading level0 row5\" >coding experience</th>\n",
       "                        <td id=\"T_74b72d40_2816_11ea_a73c_80e6501cd118row5_col0\" class=\"data row5 col0\" >0.056</td>\n",
       "                        <td id=\"T_74b72d40_2816_11ea_a73c_80e6501cd118row5_col1\" class=\"data row5 col1\" >0.52</td>\n",
       "                        <td id=\"T_74b72d40_2816_11ea_a73c_80e6501cd118row5_col2\" class=\"data row5 col2\" >0.42</td>\n",
       "                        <td id=\"T_74b72d40_2816_11ea_a73c_80e6501cd118row5_col3\" class=\"data row5 col3\" >0.36</td>\n",
       "                        <td id=\"T_74b72d40_2816_11ea_a73c_80e6501cd118row5_col4\" class=\"data row5 col4\" >0.15</td>\n",
       "                        <td id=\"T_74b72d40_2816_11ea_a73c_80e6501cd118row5_col5\" class=\"data row5 col5\" >1</td>\n",
       "                        <td id=\"T_74b72d40_2816_11ea_a73c_80e6501cd118row5_col6\" class=\"data row5 col6\" >0.61</td>\n",
       "                        <td id=\"T_74b72d40_2816_11ea_a73c_80e6501cd118row5_col7\" class=\"data row5 col7\" >0.087</td>\n",
       "                        <td id=\"T_74b72d40_2816_11ea_a73c_80e6501cd118row5_col8\" class=\"data row5 col8\" >0.23</td>\n",
       "                        <td id=\"T_74b72d40_2816_11ea_a73c_80e6501cd118row5_col9\" class=\"data row5 col9\" >0.3</td>\n",
       "            </tr>\n",
       "            <tr>\n",
       "                        <th id=\"T_74b72d40_2816_11ea_a73c_80e6501cd118level0_row6\" class=\"row_heading level0 row6\" >ML experience</th>\n",
       "                        <td id=\"T_74b72d40_2816_11ea_a73c_80e6501cd118row6_col0\" class=\"data row6 col0\" >0.048</td>\n",
       "                        <td id=\"T_74b72d40_2816_11ea_a73c_80e6501cd118row6_col1\" class=\"data row6 col1\" >0.33</td>\n",
       "                        <td id=\"T_74b72d40_2816_11ea_a73c_80e6501cd118row6_col2\" class=\"data row6 col2\" >0.25</td>\n",
       "                        <td id=\"T_74b72d40_2816_11ea_a73c_80e6501cd118row6_col3\" class=\"data row6 col3\" >0.3</td>\n",
       "                        <td id=\"T_74b72d40_2816_11ea_a73c_80e6501cd118row6_col4\" class=\"data row6 col4\" >0.18</td>\n",
       "                        <td id=\"T_74b72d40_2816_11ea_a73c_80e6501cd118row6_col5\" class=\"data row6 col5\" >0.61</td>\n",
       "                        <td id=\"T_74b72d40_2816_11ea_a73c_80e6501cd118row6_col6\" class=\"data row6 col6\" >1</td>\n",
       "                        <td id=\"T_74b72d40_2816_11ea_a73c_80e6501cd118row6_col7\" class=\"data row6 col7\" >0.12</td>\n",
       "                        <td id=\"T_74b72d40_2816_11ea_a73c_80e6501cd118row6_col8\" class=\"data row6 col8\" >0.26</td>\n",
       "                        <td id=\"T_74b72d40_2816_11ea_a73c_80e6501cd118row6_col9\" class=\"data row6 col9\" >0.27</td>\n",
       "            </tr>\n",
       "            <tr>\n",
       "                        <th id=\"T_74b72d40_2816_11ea_a73c_80e6501cd118level0_row7\" class=\"row_heading level0 row7\" >explore unfair bias</th>\n",
       "                        <td id=\"T_74b72d40_2816_11ea_a73c_80e6501cd118row7_col0\" class=\"data row7 col0\" >0.023</td>\n",
       "                        <td id=\"T_74b72d40_2816_11ea_a73c_80e6501cd118row7_col1\" class=\"data row7 col1\" >-0.0049</td>\n",
       "                        <td id=\"T_74b72d40_2816_11ea_a73c_80e6501cd118row7_col2\" class=\"data row7 col2\" >0.0012</td>\n",
       "                        <td id=\"T_74b72d40_2816_11ea_a73c_80e6501cd118row7_col3\" class=\"data row7 col3\" >-0.0078</td>\n",
       "                        <td id=\"T_74b72d40_2816_11ea_a73c_80e6501cd118row7_col4\" class=\"data row7 col4\" >0.19</td>\n",
       "                        <td id=\"T_74b72d40_2816_11ea_a73c_80e6501cd118row7_col5\" class=\"data row7 col5\" >0.087</td>\n",
       "                        <td id=\"T_74b72d40_2816_11ea_a73c_80e6501cd118row7_col6\" class=\"data row7 col6\" >0.12</td>\n",
       "                        <td id=\"T_74b72d40_2816_11ea_a73c_80e6501cd118row7_col7\" class=\"data row7 col7\" >1</td>\n",
       "                        <td id=\"T_74b72d40_2816_11ea_a73c_80e6501cd118row7_col8\" class=\"data row7 col8\" >0.4</td>\n",
       "                        <td id=\"T_74b72d40_2816_11ea_a73c_80e6501cd118row7_col9\" class=\"data row7 col9\" >-0.00077</td>\n",
       "            </tr>\n",
       "            <tr>\n",
       "                        <th id=\"T_74b72d40_2816_11ea_a73c_80e6501cd118level0_row8\" class=\"row_heading level0 row8\" >explore model insights</th>\n",
       "                        <td id=\"T_74b72d40_2816_11ea_a73c_80e6501cd118row8_col0\" class=\"data row8 col0\" >0.028</td>\n",
       "                        <td id=\"T_74b72d40_2816_11ea_a73c_80e6501cd118row8_col1\" class=\"data row8 col1\" >0.06</td>\n",
       "                        <td id=\"T_74b72d40_2816_11ea_a73c_80e6501cd118row8_col2\" class=\"data row8 col2\" >0.0064</td>\n",
       "                        <td id=\"T_74b72d40_2816_11ea_a73c_80e6501cd118row8_col3\" class=\"data row8 col3\" >0.11</td>\n",
       "                        <td id=\"T_74b72d40_2816_11ea_a73c_80e6501cd118row8_col4\" class=\"data row8 col4\" >0.24</td>\n",
       "                        <td id=\"T_74b72d40_2816_11ea_a73c_80e6501cd118row8_col5\" class=\"data row8 col5\" >0.23</td>\n",
       "                        <td id=\"T_74b72d40_2816_11ea_a73c_80e6501cd118row8_col6\" class=\"data row8 col6\" >0.26</td>\n",
       "                        <td id=\"T_74b72d40_2816_11ea_a73c_80e6501cd118row8_col7\" class=\"data row8 col7\" >0.4</td>\n",
       "                        <td id=\"T_74b72d40_2816_11ea_a73c_80e6501cd118row8_col8\" class=\"data row8 col8\" >1</td>\n",
       "                        <td id=\"T_74b72d40_2816_11ea_a73c_80e6501cd118row8_col9\" class=\"data row8 col9\" >0.081</td>\n",
       "            </tr>\n",
       "            <tr>\n",
       "                        <th id=\"T_74b72d40_2816_11ea_a73c_80e6501cd118level0_row9\" class=\"row_heading level0 row9\" >consumingCapicity</th>\n",
       "                        <td id=\"T_74b72d40_2816_11ea_a73c_80e6501cd118row9_col0\" class=\"data row9 col0\" >0.068</td>\n",
       "                        <td id=\"T_74b72d40_2816_11ea_a73c_80e6501cd118row9_col1\" class=\"data row9 col1\" >0.37</td>\n",
       "                        <td id=\"T_74b72d40_2816_11ea_a73c_80e6501cd118row9_col2\" class=\"data row9 col2\" >0.26</td>\n",
       "                        <td id=\"T_74b72d40_2816_11ea_a73c_80e6501cd118row9_col3\" class=\"data row9 col3\" >0.84</td>\n",
       "                        <td id=\"T_74b72d40_2816_11ea_a73c_80e6501cd118row9_col4\" class=\"data row9 col4\" >0.018</td>\n",
       "                        <td id=\"T_74b72d40_2816_11ea_a73c_80e6501cd118row9_col5\" class=\"data row9 col5\" >0.3</td>\n",
       "                        <td id=\"T_74b72d40_2816_11ea_a73c_80e6501cd118row9_col6\" class=\"data row9 col6\" >0.27</td>\n",
       "                        <td id=\"T_74b72d40_2816_11ea_a73c_80e6501cd118row9_col7\" class=\"data row9 col7\" >-0.00077</td>\n",
       "                        <td id=\"T_74b72d40_2816_11ea_a73c_80e6501cd118row9_col8\" class=\"data row9 col8\" >0.081</td>\n",
       "                        <td id=\"T_74b72d40_2816_11ea_a73c_80e6501cd118row9_col9\" class=\"data row9 col9\" >1</td>\n",
       "            </tr>\n",
       "    </tbody></table>"
      ],
      "text/plain": [
       "<pandas.io.formats.style.Styler at 0x1c1c7f9fd0>"
      ]
     },
     "execution_count": 45,
     "metadata": {},
     "output_type": "execute_result"
    }
   ],
   "source": [
    "corr.style.background_gradient(cmap='coolwarm').set_precision(2)"
   ]
  },
  {
   "cell_type": "markdown",
   "metadata": {},
   "source": [
    "### *Finding #1: Respondents from undergraduate majors not directly related with DS (like fine arts or humanities) might have even better career development in data science area (and mostly not computer/tech industry)"
   ]
  },
  {
   "cell_type": "markdown",
   "metadata": {},
   "source": [
    "To figure out what the most important factors of yearly compensation is, we start with gender."
   ]
  },
  {
   "cell_type": "code",
   "execution_count": 46,
   "metadata": {},
   "outputs": [],
   "source": [
    "MCR_original['compensation'] = MCR_original.Q9.apply(lambda x: 5000 if x== '0-10,000' else 15000 if x=='10-20,000'\\\n",
    "                                   else 25000 if x=='20-30,000'\\\n",
    "                         else 35000 if x=='30-40,000' else 45000 if x=='40-50,000'\\\n",
    "                         else 55000 if x=='50-60,000' else 65000 if x=='60-70,000'\\\n",
    "                         else 75000 if x=='70-80,000' else 85000 if x=='80-90,000'\\\n",
    "                         else 95000 if x=='90-100,000' else 112500 if x=='100-125,000'\\\n",
    "                         else 137500 if x=='125-150,000' else 175000 if x=='150-200,000'\\\n",
    "                         else 225000 if x=='200-250,000' else 275000 if x=='250-300,000'\\\n",
    "                         else 350000 if x=='300-400,000' else 450000 if x=='400-500,000'\\\n",
    "                         else 550000 if x=='500,000+' else None)"
   ]
  },
  {
   "cell_type": "code",
   "execution_count": 47,
   "metadata": {
    "scrolled": false
   },
   "outputs": [
    {
     "data": {
      "text/plain": [
       "<seaborn.axisgrid.FacetGrid at 0x1c1c8235c0>"
      ]
     },
     "execution_count": 47,
     "metadata": {},
     "output_type": "execute_result"
    },
    {
     "data": {
      "image/png": "[encoded data removed]",
      "text/plain": [
       "<Figure size 720x360 with 1 Axes>"
      ]
     },
     "metadata": {
      "needs_background": "light"
     },
     "output_type": "display_data"
    }
   ],
   "source": [
    "# Compare how different gender influence the average compensation\n",
    "sns.factorplot(y='compensation', data=MCR_original, x='Q1',\\\n",
    "               aspect=2, kind='point').set_xlabels('Gender', fontsize= 15)\\\n",
    "                .set_ylabels('Average Compensation', fontsize= 15)\n"
   ]
  },
  {
   "cell_type": "code",
   "execution_count": 48,
   "metadata": {
    "scrolled": true
   },
   "outputs": [
    {
     "data": {
      "text/plain": [
       "Q1\n",
       "Female                      2380\n",
       "Male                       12866\n",
       "Prefer not to say            130\n",
       "Prefer to self-describe       53\n",
       "Name: compensation, dtype: int64"
      ]
     },
     "execution_count": 48,
     "metadata": {},
     "output_type": "execute_result"
    }
   ],
   "source": [
    "MCR_original.groupby('Q1')['compensation'].count()"
   ]
  },
  {
   "cell_type": "markdown",
   "metadata": {},
   "source": [
    "The average compensation of 'Prefer not to say' and 'Prefer to self-describe' is much higher than others. Out of curiousity, the values of those self-describe genders are checked as below:"
   ]
  },
  {
   "cell_type": "code",
   "execution_count": 49,
   "metadata": {},
   "outputs": [
    {
     "data": {
      "text/plain": [
       "array([nan,\n",
       "       'Male and female are sexes not gender. Gender is a regressive set of stereotypes associated with our sex. Ask what sex we are for demographic purposes, if that is what is important. ',\n",
       "       'A little sunshine. :)', 'Kaggle', 'Transgender',\n",
       "       'Attack helicopter', 'Human', 'Attack Helicopter', '18',\n",
       "       'Barn owl', 'non-binary', 'Unicorn', 'Hetero flexible',\n",
       "       'Nonbinary', 'Attack helicopter ', 'Non Binary', 'M', 'no binary',\n",
       "       'Macho lady gaga', 'PANZER V TANK', 'shemale', 'Nunya', 'Ai',\n",
       "       'unclear', 'mard', 'Agender', 'Bot', 'Your Highness',\n",
       "       'my sex is male (no idea about \"gender\")', 'Transgender Female',\n",
       "       'genderless', 'Female', 'Nonbinary (born female)', 'Testosterone',\n",
       "       'bigender', 'Megatron', 'agender', 'XGBoost', 'attack helicopter',\n",
       "       'Male', 'Transgender woman', 'Non-Binary', 'gaseous',\n",
       "       'Who are you to insinuate I have a gender ?  ', 'Neutrois', 'NOYB',\n",
       "       'Male Computer', 'bisexual',\n",
       "       'Transgender-fluid transracial black apache fox', 'Double male',\n",
       "       'helicopter', 'JEDI', 'baba yaga', 'Apache Helicopter',\n",
       "       'Surly Tomato', 'nonbinary', 'Helicopter',\n",
       "       'Male but asking this at the begining of surveys is going to cause priming and distort your answers. Google it. 😀',\n",
       "       'transgender', 'Transgender male', 'Gelatinous blob',\n",
       "       'fhjdfjhdfhj', 'Non-binary', 'Trollogender', 'Hermaphrodite',\n",
       "       'Apache helicopter', 'Apache Attack Helicopter '], dtype=object)"
      ]
     },
     "execution_count": 49,
     "metadata": {},
     "output_type": "execute_result"
    }
   ],
   "source": [
    "FFR.Q1_OTHER_TEXT.unique()"
   ]
  },
  {
   "cell_type": "markdown",
   "metadata": {},
   "source": [
    "The first impression of seeing these values is that it seems like these people have more awareness on political issue and self-consciousness which a good data scientist should have. But also, some of the values show the respondent might be not serious about the survey, then the other respond might also be unreliable and be the noise in the data. Since the sample size of this group is small, we cannot get any conclusion from this view by now.\n",
    "\n",
    "p.s. The 'Helicopter' appeared many times in the responds is actually a meme from the internet, which is a sarcasm on the current politcal correctness about the sex identification. ABC News once released a list of gender options which contains 58 different genders."
   ]
  },
  {
   "cell_type": "code",
   "execution_count": 50,
   "metadata": {},
   "outputs": [],
   "source": [
    "MCR_male = MCR_original[MCR_original.Q1 == 'Male']\n",
    "MCR_female = MCR_original[MCR_original.Q1 == 'Female']"
   ]
  },
  {
   "cell_type": "markdown",
   "metadata": {},
   "source": [
    "From the scale of the factorplot above, we cannot tell if the males' compensation is significantly higher than female, thus a statistical test is necessary. If we want to use t-test, the assumption is that the samples need to be normal distributed. QQ plot is done below."
   ]
  },
  {
   "cell_type": "code",
   "execution_count": 51,
   "metadata": {},
   "outputs": [
    {
     "data": {
      "image/png": "[encoded data removed]",
      "text/plain": [
       "<Figure size 432x288 with 1 Axes>"
      ]
     },
     "execution_count": 51,
     "metadata": {},
     "output_type": "execute_result"
    },
    {
     "data": {
      "image/png": "[encoded data removed]",
      "text/plain": [
       "<Figure size 432x288 with 1 Axes>"
      ]
     },
     "execution_count": 51,
     "metadata": {},
     "output_type": "execute_result"
    },
    {
     "data": {
      "image/png": "[encoded data removed]",
      "text/plain": [
       "<Figure size 432x288 with 1 Axes>"
      ]
     },
     "metadata": {
      "needs_background": "light"
     },
     "output_type": "display_data"
    },
    {
     "data": {
      "image/png": "[encoded data removed]",
      "text/plain": [
       "<Figure size 432x288 with 1 Axes>"
      ]
     },
     "metadata": {
      "needs_background": "light"
     },
     "output_type": "display_data"
    }
   ],
   "source": [
    "# check the qq plot to see if they are normal distributed\n",
    "sm.qqplot(MCR_male.compensation, loc = 1, line='s')\n",
    "sm.qqplot(MCR_female.compensation, loc = 1, line='s')\n",
    "# apparently, they are not normal distributed, thus Wilcoxon rank sum test is used instead of t test"
   ]
  },
  {
   "cell_type": "code",
   "execution_count": 52,
   "metadata": {
    "scrolled": false
   },
   "outputs": [
    {
     "data": {
      "text/plain": [
       "RanksumsResult(statistic=7.188831718920807, pvalue=6.534805542492327e-13)"
      ]
     },
     "execution_count": 52,
     "metadata": {},
     "output_type": "execute_result"
    }
   ],
   "source": [
    "### (Wilcoxon) rank sum test \n",
    "scipy.stats.ranksums(MCR_male.compensation, MCR_female.compensation)"
   ]
  },
  {
   "cell_type": "markdown",
   "metadata": {},
   "source": [
    "P-value is much smaller than 0.05 which indicates the compensation of female is signficantly less than male. This might imply a sex discrimination in the area. However, since the data scope is limited and there is much less female included in the survey, we cannot tell if there really is apparent discrimination. More data and statistical test is required to get the answer."
   ]
  },
  {
   "cell_type": "markdown",
   "metadata": {},
   "source": [
    "The highest education is checked next:"
   ]
  },
  {
   "cell_type": "code",
   "execution_count": 53,
   "metadata": {},
   "outputs": [
    {
     "data": {
      "text/html": [
       "<div>\n",
       "<style scoped>\n",
       "    .dataframe tbody tr th:only-of-type {\n",
       "        vertical-align: middle;\n",
       "    }\n",
       "\n",
       "    .dataframe tbody tr th {\n",
       "        vertical-align: top;\n",
       "    }\n",
       "\n",
       "    .dataframe thead th {\n",
       "        text-align: right;\n",
       "    }\n",
       "</style>\n",
       "<table border=\"1\" class=\"dataframe\">\n",
       "  <thead>\n",
       "    <tr style=\"text-align: right;\">\n",
       "      <th></th>\n",
       "      <th>size</th>\n",
       "      <th>mean</th>\n",
       "    </tr>\n",
       "    <tr>\n",
       "      <th>Q4</th>\n",
       "      <th></th>\n",
       "      <th></th>\n",
       "    </tr>\n",
       "  </thead>\n",
       "  <tbody>\n",
       "    <tr>\n",
       "      <th>No formal education past high school</th>\n",
       "      <td>232</td>\n",
       "      <td>68555.555556</td>\n",
       "    </tr>\n",
       "    <tr>\n",
       "      <th>Doctoral degree</th>\n",
       "      <td>3357</td>\n",
       "      <td>67175.852498</td>\n",
       "    </tr>\n",
       "    <tr>\n",
       "      <th>I prefer not to answer</th>\n",
       "      <td>345</td>\n",
       "      <td>54576.923077</td>\n",
       "    </tr>\n",
       "    <tr>\n",
       "      <th>Master’s degree</th>\n",
       "      <td>10855</td>\n",
       "      <td>52464.315125</td>\n",
       "    </tr>\n",
       "    <tr>\n",
       "      <th>Professional degree</th>\n",
       "      <td>599</td>\n",
       "      <td>43697.916667</td>\n",
       "    </tr>\n",
       "    <tr>\n",
       "      <th>Some college/university study without earning a bachelor’s degree</th>\n",
       "      <td>967</td>\n",
       "      <td>40212.224109</td>\n",
       "    </tr>\n",
       "    <tr>\n",
       "      <th>Bachelor’s degree</th>\n",
       "      <td>7083</td>\n",
       "      <td>40185.375314</td>\n",
       "    </tr>\n",
       "  </tbody>\n",
       "</table>\n",
       "</div>"
      ],
      "text/plain": [
       "                                                     size          mean\n",
       "Q4                                                                     \n",
       "No formal education past high school                  232  68555.555556\n",
       "Doctoral degree                                      3357  67175.852498\n",
       "I prefer not to answer                                345  54576.923077\n",
       "Master’s degree                                     10855  52464.315125\n",
       "Professional degree                                   599  43697.916667\n",
       "Some college/university study without earning a...    967  40212.224109\n",
       "Bachelor’s degree                                    7083  40185.375314"
      ]
     },
     "execution_count": 53,
     "metadata": {},
     "output_type": "execute_result"
    }
   ],
   "source": [
    "MCR_original.groupby(['Q4']).compensation.agg({'size','mean'}).sort_values(by = 'mean',ascending = False)"
   ]
  },
  {
   "cell_type": "code",
   "execution_count": 54,
   "metadata": {},
   "outputs": [
    {
     "data": {
      "text/plain": [
       "<seaborn.axisgrid.FacetGrid at 0x1c1f540d68>"
      ]
     },
     "execution_count": 54,
     "metadata": {},
     "output_type": "execute_result"
    },
    {
     "data": {
      "image/png": "[encoded data removed]",
      "text/plain": [
       "<Figure size 720x360 with 1 Axes>"
      ]
     },
     "metadata": {
      "needs_background": "light"
     },
     "output_type": "display_data"
    }
   ],
   "source": [
    "sns.factorplot(y='Q4', data=MCR_original, x='compensation',\\\n",
    "               aspect=2, kind='bar').set_xlabels('Compensation', fontsize= 15)\\\n",
    "                .set_ylabels('Education', fontsize= 15)"
   ]
  },
  {
   "cell_type": "markdown",
   "metadata": {},
   "source": [
    "Except for the group of 'No formal education past high school' (which has a small sample size and might be biased), 'Doctoral degree' has the highest value with 'Master' and 'Bachelor' following. This is consistent with common sense. "
   ]
  },
  {
   "cell_type": "markdown",
   "metadata": {},
   "source": [
    "When it comes to the undergraduate major, something unexpected is found. The respondents from Computer Science major has a quite low rank in the list which is contradictory to our intuition. However, respondents from 'Fine arts or performing arts' and 'Humanities' are having the highest average compensation."
   ]
  },
  {
   "cell_type": "code",
   "execution_count": 55,
   "metadata": {
    "scrolled": true
   },
   "outputs": [
    {
     "data": {
      "text/html": [
       "<div>\n",
       "<style scoped>\n",
       "    .dataframe tbody tr th:only-of-type {\n",
       "        vertical-align: middle;\n",
       "    }\n",
       "\n",
       "    .dataframe tbody tr th {\n",
       "        vertical-align: top;\n",
       "    }\n",
       "\n",
       "    .dataframe thead th {\n",
       "        text-align: right;\n",
       "    }\n",
       "</style>\n",
       "<table border=\"1\" class=\"dataframe\">\n",
       "  <thead>\n",
       "    <tr style=\"text-align: right;\">\n",
       "      <th></th>\n",
       "      <th>size</th>\n",
       "      <th>mean</th>\n",
       "    </tr>\n",
       "    <tr>\n",
       "      <th>Q5</th>\n",
       "      <th></th>\n",
       "      <th></th>\n",
       "    </tr>\n",
       "  </thead>\n",
       "  <tbody>\n",
       "    <tr>\n",
       "      <th>Fine arts or performing arts</th>\n",
       "      <td>87</td>\n",
       "      <td>102584.745763</td>\n",
       "    </tr>\n",
       "    <tr>\n",
       "      <th>Humanities (history, literature, philosophy, etc.)</th>\n",
       "      <td>269</td>\n",
       "      <td>77523.809524</td>\n",
       "    </tr>\n",
       "    <tr>\n",
       "      <th>Physics or astronomy</th>\n",
       "      <td>1110</td>\n",
       "      <td>66859.430605</td>\n",
       "    </tr>\n",
       "    <tr>\n",
       "      <th>Social sciences (anthropology, psychology, sociology, etc.)</th>\n",
       "      <td>554</td>\n",
       "      <td>66265.133172</td>\n",
       "    </tr>\n",
       "    <tr>\n",
       "      <th>I never declared a major</th>\n",
       "      <td>128</td>\n",
       "      <td>61654.411765</td>\n",
       "    </tr>\n",
       "    <tr>\n",
       "      <th>A business discipline (accounting, economics, finance, etc.)</th>\n",
       "      <td>1791</td>\n",
       "      <td>60604.651163</td>\n",
       "    </tr>\n",
       "    <tr>\n",
       "      <th>Medical or life sciences (biology, chemistry, medicine, etc.)</th>\n",
       "      <td>871</td>\n",
       "      <td>57471.544715</td>\n",
       "    </tr>\n",
       "    <tr>\n",
       "      <th>Mathematics or statistics</th>\n",
       "      <td>2950</td>\n",
       "      <td>55810.028930</td>\n",
       "    </tr>\n",
       "    <tr>\n",
       "      <th>Environmental science or geology</th>\n",
       "      <td>253</td>\n",
       "      <td>55257.142857</td>\n",
       "    </tr>\n",
       "    <tr>\n",
       "      <th>Engineering (non-computer focused)</th>\n",
       "      <td>3705</td>\n",
       "      <td>53310.044552</td>\n",
       "    </tr>\n",
       "    <tr>\n",
       "      <th>Other</th>\n",
       "      <td>770</td>\n",
       "      <td>51633.266533</td>\n",
       "    </tr>\n",
       "    <tr>\n",
       "      <th>Computer science (software engineering, etc.)</th>\n",
       "      <td>9430</td>\n",
       "      <td>41305.794172</td>\n",
       "    </tr>\n",
       "    <tr>\n",
       "      <th>Information technology, networking, or system administration</th>\n",
       "      <td>1029</td>\n",
       "      <td>36674.454829</td>\n",
       "    </tr>\n",
       "  </tbody>\n",
       "</table>\n",
       "</div>"
      ],
      "text/plain": [
       "                                                    size           mean\n",
       "Q5                                                                     \n",
       "Fine arts or performing arts                          87  102584.745763\n",
       "Humanities (history, literature, philosophy, etc.)   269   77523.809524\n",
       "Physics or astronomy                                1110   66859.430605\n",
       "Social sciences (anthropology, psychology, soci...   554   66265.133172\n",
       "I never declared a major                             128   61654.411765\n",
       "A business discipline (accounting, economics, f...  1791   60604.651163\n",
       "Medical or life sciences (biology, chemistry, m...   871   57471.544715\n",
       "Mathematics or statistics                           2950   55810.028930\n",
       "Environmental science or geology                     253   55257.142857\n",
       "Engineering (non-computer focused)                  3705   53310.044552\n",
       "Other                                                770   51633.266533\n",
       "Computer science (software engineering, etc.)       9430   41305.794172\n",
       "Information technology, networking, or system a...  1029   36674.454829"
      ]
     },
     "execution_count": 55,
     "metadata": {},
     "output_type": "execute_result"
    }
   ],
   "source": [
    "MCR_original.groupby(['Q5']).compensation.agg({'size','mean'}).sort_values(by = 'mean',ascending = False)"
   ]
  },
  {
   "cell_type": "code",
   "execution_count": 56,
   "metadata": {},
   "outputs": [
    {
     "data": {
      "text/plain": [
       "<seaborn.axisgrid.FacetGrid at 0x1c1cb3de10>"
      ]
     },
     "execution_count": 56,
     "metadata": {},
     "output_type": "execute_result"
    },
    {
     "data": {
      "image/png": "[encoded data removed]",
      "text/plain": [
       "<Figure size 720x360 with 1 Axes>"
      ]
     },
     "metadata": {
      "needs_background": "light"
     },
     "output_type": "display_data"
    }
   ],
   "source": [
    "sns.factorplot(y='Q5', data=MCR_original, x='compensation',aspect=2, kind='box')\\\n",
    "                .set_xlabels('Compensation', fontsize= 15)\\\n",
    "                .set_ylabels('Undergrad Major', fontsize= 15)"
   ]
  },
  {
   "cell_type": "markdown",
   "metadata": {},
   "source": [
    "In case there are more students (who might have very low compensation) in the group of Computer Science, the percentage of student is checked for both computer science and overall."
   ]
  },
  {
   "cell_type": "code",
   "execution_count": 57,
   "metadata": {},
   "outputs": [
    {
     "name": "stdout",
     "output_type": "stream",
     "text": [
      "Percentage of Student in Computer Science: 0.20987030486777833\n",
      "Percentage of Student Overall: 0.16981009786765183\n"
     ]
    }
   ],
   "source": [
    "print('Percentage of Student in Computer Science:',MCR_original\\\n",
    "[(MCR_original.Q5 == 'Computer science (software engineering, etc.)') & (MCR_original.Q6 == 'Student')].\\\n",
    "compensation.count() / MCR_original[MCR_original.Q5 == 'Computer science (software engineering, etc.)'].\\\n",
    "compensation.count())\n",
    "print('Percentage of Student Overall:',MCR_original[MCR_original.Q6 == 'Student'].\\\n",
    "compensation.count() / MCR_original.\\\n",
    "compensation.count())"
   ]
  },
  {
   "cell_type": "code",
   "execution_count": 58,
   "metadata": {},
   "outputs": [
    {
     "data": {
      "text/plain": [
       "49481.453847793644"
      ]
     },
     "execution_count": 58,
     "metadata": {},
     "output_type": "execute_result"
    }
   ],
   "source": [
    "MCR_original[(MCR_original.Q5 == 'Computer science (software engineering, etc.)')\\\n",
    "             & (MCR_original.Q6 != 'Student')].compensation.mean()"
   ]
  },
  {
   "cell_type": "markdown",
   "metadata": {},
   "source": [
    "It seems the percentage of students in computer science major is higher. Thus the average compensation of the non-student is checked. The result is still below $50,000 which is still below the average in the list."
   ]
  },
  {
   "cell_type": "markdown",
   "metadata": {},
   "source": [
    "To dig further, the heatmap in more dimensions is plotted as below. The darker color represents the higher compensation."
   ]
  },
  {
   "cell_type": "code",
   "execution_count": 59,
   "metadata": {},
   "outputs": [],
   "source": [
    "# function for generating heat map\n",
    "def heat_map_general(x_label, y_label, z_value, layout_title):\n",
    "    trace=[go.Heatmap(\n",
    "        z=z_value,\n",
    "        x = x_label,\n",
    "        y = y_label,\n",
    "        autocolorscale=True\n",
    "    )]\n",
    "    \n",
    "    layout=go.Layout(\n",
    "        title=layout_title\n",
    "    )\n",
    "    \n",
    "    py.iplot({'data':trace, 'layout': layout}, filename='labelled-heatmap')"
   ]
  },
  {
   "cell_type": "code",
   "execution_count": 91,
   "metadata": {},
   "outputs": [
    {
     "data": {
      "application/vnd.plotly.v1+json": {
       "config": {
        "linkText": "Export to plot.ly",
        "plotlyServerURL": "https://plot.ly",
        "responsive": true,
        "showLink": false
       },
       "data": [
        {
         "autocolorscale": true,
         "type": "heatmap",
         "uid": "d49407f3-14c5-4a03-8c72-7b3965450182",
         "x": [
          "Environmental science or geology",
          "A business discipline (accounting, economics, finance, etc.)",
          "Engineering (non-computer focused)",
          "Medical or life sciences (biology, chemistry, medicine, etc.)",
          "Mathematics or statistics",
          "Computer science (software engineering, etc.)",
          "Social sciences (anthropology, psychology, sociology, etc.)",
          "I never declared a major",
          "Physics or astronomy",
          "Other",
          "Information technology, networking, or system administration",
          "Fine arts or performing arts",
          "Humanities (history, literature, philosophy, etc.)"
         ],
         "y": [
          "Some college/university study without earning a bachelor’s degree",
          "Bachelor’s degree",
          "Master’s degree",
          "Doctoral degree",
          "I prefer not to answer",
          "Professional degree"
         ],
         "z": [
          [
           56620,
           33465,
           40207,
           44429,
           99853,
           68488,
           29464,
           37771,
           45315,
           55296,
           38811,
           46295,
           65176
          ],
          [
           80225,
           52843,
           64476,
           71402,
           98125,
           88812,
           171250,
           44104,
           75305,
           64827,
           80469,
           79902,
           80794
          ],
          [
           50000,
           34015,
           36875,
           88750,
           279375,
           null,
           20000,
           36000,
           79808,
           20000,
           375000,
           37000,
           15000
          ],
          [
           61346,
           45560,
           59264,
           53547,
           87083,
           76392,
           46923,
           36541,
           53623,
           50740,
           52455,
           58867,
           60261
          ],
          [
           45221,
           42971,
           23200,
           36000,
           null,
           86000,
           30000,
           16905,
           44479,
           68065,
           32167,
           79412,
           63333
          ],
          [
           38382,
           30019,
           42412,
           45000,
           75500,
           75000,
           78793,
           31378,
           56741,
           53750,
           31500,
           50781,
           58636
          ]
         ]
        }
       ],
       "layout": {
        "title": {
         "text": "Compensation of different undergrad major and education level"
        }
       }
      },
      "text/html": [
       "<div>\n",
       "        \n",
       "        \n",
       "            <div id=\"19a4afc5-d0f6-476b-81e7-b1e65965add7\" class=\"plotly-graph-div\" style=\"height:525px; width:100%;\"></div>\n",
       "            <script type=\"text/javascript\">\n",
       "                require([\"plotly\"], function(Plotly) {\n",
       "                    window.PLOTLYENV=window.PLOTLYENV || {};\n",
       "                    window.PLOTLYENV.BASE_URL='https://plot.ly';\n",
       "                    \n",
       "                if (document.getElementById(\"19a4afc5-d0f6-476b-81e7-b1e65965add7\")) {\n",
       "                    Plotly.newPlot(\n",
       "                        '19a4afc5-d0f6-476b-81e7-b1e65965add7',\n",
       "                        [{\"autocolorscale\": true, \"type\": \"heatmap\", \"uid\": \"15d5c861-e324-4976-8326-b2373c57c631\", \"x\": [\"Environmental science or geology\", \"A business discipline (accounting, economics, finance, etc.)\", \"Engineering (non-computer focused)\", \"Medical or life sciences (biology, chemistry, medicine, etc.)\", \"Mathematics or statistics\", \"Computer science (software engineering, etc.)\", \"Social sciences (anthropology, psychology, sociology, etc.)\", \"I never declared a major\", \"Physics or astronomy\", \"Other\", \"Information technology, networking, or system administration\", \"Fine arts or performing arts\", \"Humanities (history, literature, philosophy, etc.)\"], \"y\": [\"Some college/university study without earning a bachelor\\u2019s degree\", \"Bachelor\\u2019s degree\", \"Master\\u2019s degree\", \"Doctoral degree\", \"I prefer not to answer\", \"Professional degree\"], \"z\": [[56620.0, 33465.0, 40207.0, 44429.0, 99853.0, 68488.0, 29464.0, 37771.0, 45315.0, 55296.0, 38811.0, 46295.0, 65176.0], [80225.0, 52843.0, 64476.0, 71402.0, 98125.0, 88812.0, 171250.0, 44104.0, 75305.0, 64827.0, 80469.0, 79902.0, 80794.0], [50000.0, 34015.0, 36875.0, 88750.0, 279375.0, null, 20000.0, 36000.0, 79808.0, 20000.0, 375000.0, 37000.0, 15000.0], [61346.0, 45560.0, 59264.0, 53547.0, 87083.0, 76392.0, 46923.0, 36541.0, 53623.0, 50740.0, 52455.0, 58867.0, 60261.0], [45221.0, 42971.0, 23200.0, 36000.0, null, 86000.0, 30000.0, 16905.0, 44479.0, 68065.0, 32167.0, 79412.0, 63333.0], [38382.0, 30019.0, 42412.0, 45000.0, 75500.0, 75000.0, 78793.0, 31378.0, 56741.0, 53750.0, 31500.0, 50781.0, 58636.0]]}],\n",
       "                        {\"title\": {\"text\": \"Compensation of different undergrad major and education level\"}},\n",
       "                        {\"showLink\": false, \"linkText\": \"Export to plot.ly\", \"plotlyServerURL\": \"https://plot.ly\", \"responsive\": true}\n",
       "                    ).then(function(){\n",
       "                            \n",
       "var gd = document.getElementById('19a4afc5-d0f6-476b-81e7-b1e65965add7');\n",
       "var x = new MutationObserver(function (mutations, observer) {{\n",
       "        var display = window.getComputedStyle(gd).display;\n",
       "        if (!display || display === 'none') {{\n",
       "            console.log([gd, 'removed!']);\n",
       "            Plotly.purge(gd);\n",
       "            observer.disconnect();\n",
       "        }}\n",
       "}});\n",
       "\n",
       "// Listen for the removal of the full notebook cells\n",
       "var notebookContainer = gd.closest('#notebook-container');\n",
       "if (notebookContainer) {{\n",
       "    x.observe(notebookContainer, {childList: true});\n",
       "}}\n",
       "\n",
       "// Listen for the clearing of the current output cell\n",
       "var outputEl = gd.closest('.output');\n",
       "if (outputEl) {{\n",
       "    x.observe(outputEl, {childList: true});\n",
       "}}\n",
       "\n",
       "                        })\n",
       "                };\n",
       "                });\n",
       "            </script>\n",
       "        </div>"
      ]
     },
     "metadata": {},
     "output_type": "display_data"
    }
   ],
   "source": [
    "MCR_Q5_Q4 = MCR_original.groupby(['Q4','Q5']).compensation.mean().reset_index(name='count')\n",
    "heat_map_general(np.array(MCR_Q5_Q4['Q5'].value_counts().index), np.array(MCR_Q5_Q4['Q4'].value_counts().index),\\\n",
    "                 np.array(np.round(pd.pivot_table(data=MCR_Q5_Q4, columns=\"Q5\", index=\"Q4\", aggfunc=np.sum))), \\\n",
    "                 'Compensation of different undergrad major and education level')"
   ]
  },
  {
   "cell_type": "markdown",
   "metadata": {},
   "source": [
    "Except for the 'Other' group, the 'Fine arts or performing arts' with the highest education of Bachelor's degree have the highest average compensation. This means those people didn't get any further education after graduating from the undergraduate major. However, after they enter the data science area, they have a quite good career development.\n",
    "\n",
    "The whole line of 'Humanities' is also having a dark color which indicates they are above the average."
   ]
  },
  {
   "cell_type": "code",
   "execution_count": 96,
   "metadata": {},
   "outputs": [
    {
     "data": {
      "application/vnd.plotly.v1+json": {
       "config": {
        "linkText": "Export to plot.ly",
        "plotlyServerURL": "https://plot.ly",
        "responsive": true,
        "showLink": false
       },
       "data": [
        {
         "autocolorscale": true,
         "type": "heatmap",
         "uid": "e3a80776-4773-43d1-b89e-e1603de018bc",
         "x": [
          "Academics/Education",
          "Accounting/Finance",
          "Broadcasting/Communications",
          "Computers/Technology",
          "Energy/Mining",
          "Government/Public Service",
          "Hospitality/Entertainment/Sports",
          "I am a student",
          "Insurance/Risk Assessment",
          "Manufacturing/Fabrication",
          "Marketing/CRM",
          "Medical/Pharmaceutical",
          "Military/Security/Defense",
          "Non-profit/Service",
          "Online Business/Internet-based Sales",
          "Online Service/Internet-based Services",
          "Other",
          "Retail/Sales",
          "Shipping/Transportation"
         ],
         "y": [
          "A business discipline (accounting, economics, finance, etc.)",
          "Computer science (software engineering, etc.)",
          "Engineering (non-computer focused)",
          "Environmental science or geology",
          "Fine arts or performing arts",
          "Humanities (history, literature, philosophy, etc.)",
          "I never declared a major",
          "Information technology, networking, or system administration",
          "Mathematics or statistics",
          "Medical or life sciences (biology, chemistry, medicine, etc.)",
          "Other",
          "Physics or astronomy",
          "Social sciences (anthropology, psychology, sociology, etc.)"
         ],
         "z": [
          [
           54540,
           68468,
           52586,
           65650,
           80556,
           63289,
           85114,
           12230,
           64154,
           56419,
           78279,
           79000,
           131562,
           53889,
           48793,
           55224,
           57570,
           55714,
           86061
          ],
          [
           26461,
           61334,
           54043,
           47694,
           62405,
           54081,
           63355,
           11523,
           58842,
           57227,
           56929,
           55382,
           57250,
           38017,
           45876,
           63488,
           52728,
           49464,
           55158
          ],
          [
           31594,
           78153,
           49440,
           59055,
           59008,
           59722,
           87024,
           10572,
           77371,
           63439,
           44148,
           75000,
           63000,
           44432,
           69773,
           73776,
           55208,
           73158,
           57188
          ],
          [
           39062,
           52250,
           null,
           88984,
           83690,
           52609,
           48333,
           7222,
           60833,
           21667,
           78750,
           69583,
           95000,
           25000,
           40000,
           63750,
           41667,
           21667,
           40000
          ],
          [
           45000,
           170500,
           165000,
           79722,
           103750,
           152500,
           15000,
           28333,
           55000,
           231000,
           96667,
           84375,
           112500,
           55000,
           null,
           45000,
           103333,
           51667,
           95000
          ],
          [
           62266,
           83438,
           101667,
           92174,
           116500,
           51562,
           68438,
           23000,
           77250,
           78333,
           83056,
           103409,
           63125,
           39500,
           103500,
           90192,
           68833,
           59375,
           92000
          ],
          [
           15000,
           122500,
           25000,
           63523,
           65000,
           69167,
           null,
           7500,
           37500,
           322500,
           40000,
           10000,
           null,
           null,
           80000,
           65833,
           65000,
           40000,
           40000
          ],
          [
           36655,
           51222,
           44531,
           35811,
           36111,
           37258,
           30000,
           14025,
           56944,
           47375,
           19667,
           60625,
           21000,
           45909,
           102917,
           45288,
           70288,
           28000,
           48333
          ],
          [
           42358,
           64314,
           67581,
           68594,
           68429,
           59382,
           56316,
           12964,
           76484,
           55172,
           53900,
           71723,
           76375,
           45789,
           48587,
           64214,
           72233,
           56681,
           77500
          ],
          [
           41473,
           76842,
           139583,
           80762,
           63409,
           62027,
           92500,
           14524,
           72969,
           48000,
           49833,
           67708,
           55000,
           52143,
           135833,
           81413,
           68966,
           63750,
           77500
          ],
          [
           40643,
           83971,
           50357,
           59214,
           62188,
           71875,
           99375,
           18500,
           89318,
           52500,
           89107,
           67206,
           38333,
           48182,
           51786,
           62875,
           51989,
           37750,
           42750
          ],
          [
           39110,
           101176,
           74524,
           80060,
           49583,
           86000,
           152708,
           11418,
           81524,
           64167,
           65208,
           89911,
           100500,
           54750,
           65147,
           89444,
           63415,
           43958,
           78281
          ],
          [
           48946,
           75278,
           54286,
           91115,
           60000,
           66250,
           59500,
           13333,
           68611,
           82917,
           65119,
           87727,
           123000,
           51471,
           85278,
           84375,
           68235,
           57500,
           106667
          ]
         ]
        }
       ],
       "layout": {
        "title": {
         "text": "Compensation of different undergrad major and industry"
        }
       }
      },
      "text/html": [
       "<div>\n",
       "        \n",
       "        \n",
       "            <div id=\"7359d67a-bc81-414b-acdd-051a82bab072\" class=\"plotly-graph-div\" style=\"height:525px; width:100%;\"></div>\n",
       "            <script type=\"text/javascript\">\n",
       "                require([\"plotly\"], function(Plotly) {\n",
       "                    window.PLOTLYENV=window.PLOTLYENV || {};\n",
       "                    window.PLOTLYENV.BASE_URL='https://plot.ly';\n",
       "                    \n",
       "                if (document.getElementById(\"7359d67a-bc81-414b-acdd-051a82bab072\")) {\n",
       "                    Plotly.newPlot(\n",
       "                        '7359d67a-bc81-414b-acdd-051a82bab072',\n",
       "                        [{\"autocolorscale\": true, \"type\": \"heatmap\", \"uid\": \"045c4165-82e9-458d-9a5e-ec5e4fff1c29\", \"x\": [\"Academics/Education\", \"Accounting/Finance\", \"Broadcasting/Communications\", \"Computers/Technology\", \"Energy/Mining\", \"Government/Public Service\", \"Hospitality/Entertainment/Sports\", \"I am a student\", \"Insurance/Risk Assessment\", \"Manufacturing/Fabrication\", \"Marketing/CRM\", \"Medical/Pharmaceutical\", \"Military/Security/Defense\", \"Non-profit/Service\", \"Online Business/Internet-based Sales\", \"Online Service/Internet-based Services\", \"Other\", \"Retail/Sales\", \"Shipping/Transportation\"], \"y\": [\"A business discipline (accounting, economics, finance, etc.)\", \"Computer science (software engineering, etc.)\", \"Engineering (non-computer focused)\", \"Environmental science or geology\", \"Fine arts or performing arts\", \"Humanities (history, literature, philosophy, etc.)\", \"I never declared a major\", \"Information technology, networking, or system administration\", \"Mathematics or statistics\", \"Medical or life sciences (biology, chemistry, medicine, etc.)\", \"Other\", \"Physics or astronomy\", \"Social sciences (anthropology, psychology, sociology, etc.)\"], \"z\": [[54540.0, 68468.0, 52586.0, 65650.0, 80556.0, 63289.0, 85114.0, 12230.0, 64154.0, 56419.0, 78279.0, 79000.0, 131562.0, 53889.0, 48793.0, 55224.0, 57570.0, 55714.0, 86061.0], [26461.0, 61334.0, 54043.0, 47694.0, 62405.0, 54081.0, 63355.0, 11523.0, 58842.0, 57227.0, 56929.0, 55382.0, 57250.0, 38017.0, 45876.0, 63488.0, 52728.0, 49464.0, 55158.0], [31594.0, 78153.0, 49440.0, 59055.0, 59008.0, 59722.0, 87024.0, 10572.0, 77371.0, 63439.0, 44148.0, 75000.0, 63000.0, 44432.0, 69773.0, 73776.0, 55208.0, 73158.0, 57188.0], [39062.0, 52250.0, null, 88984.0, 83690.0, 52609.0, 48333.0, 7222.0, 60833.0, 21667.0, 78750.0, 69583.0, 95000.0, 25000.0, 40000.0, 63750.0, 41667.0, 21667.0, 40000.0], [45000.0, 170500.0, 165000.0, 79722.0, 103750.0, 152500.0, 15000.0, 28333.0, 55000.0, 231000.0, 96667.0, 84375.0, 112500.0, 55000.0, null, 45000.0, 103333.0, 51667.0, 95000.0], [62266.0, 83438.0, 101667.0, 92174.0, 116500.0, 51562.0, 68438.0, 23000.0, 77250.0, 78333.0, 83056.0, 103409.0, 63125.0, 39500.0, 103500.0, 90192.0, 68833.0, 59375.0, 92000.0], [15000.0, 122500.0, 25000.0, 63523.0, 65000.0, 69167.0, null, 7500.0, 37500.0, 322500.0, 40000.0, 10000.0, null, null, 80000.0, 65833.0, 65000.0, 40000.0, 40000.0], [36655.0, 51222.0, 44531.0, 35811.0, 36111.0, 37258.0, 30000.0, 14025.0, 56944.0, 47375.0, 19667.0, 60625.0, 21000.0, 45909.0, 102917.0, 45288.0, 70288.0, 28000.0, 48333.0], [42358.0, 64314.0, 67581.0, 68594.0, 68429.0, 59382.0, 56316.0, 12964.0, 76484.0, 55172.0, 53900.0, 71723.0, 76375.0, 45789.0, 48587.0, 64214.0, 72233.0, 56681.0, 77500.0], [41473.0, 76842.0, 139583.0, 80762.0, 63409.0, 62027.0, 92500.0, 14524.0, 72969.0, 48000.0, 49833.0, 67708.0, 55000.0, 52143.0, 135833.0, 81413.0, 68966.0, 63750.0, 77500.0], [40643.0, 83971.0, 50357.0, 59214.0, 62188.0, 71875.0, 99375.0, 18500.0, 89318.0, 52500.0, 89107.0, 67206.0, 38333.0, 48182.0, 51786.0, 62875.0, 51989.0, 37750.0, 42750.0], [39110.0, 101176.0, 74524.0, 80060.0, 49583.0, 86000.0, 152708.0, 11418.0, 81524.0, 64167.0, 65208.0, 89911.0, 100500.0, 54750.0, 65147.0, 89444.0, 63415.0, 43958.0, 78281.0], [48946.0, 75278.0, 54286.0, 91115.0, 60000.0, 66250.0, 59500.0, 13333.0, 68611.0, 82917.0, 65119.0, 87727.0, 123000.0, 51471.0, 85278.0, 84375.0, 68235.0, 57500.0, 106667.0]]}],\n",
       "                        {\"title\": {\"text\": \"Compensation of different undergrad major and industry\"}},\n",
       "                        {\"showLink\": false, \"linkText\": \"Export to plot.ly\", \"plotlyServerURL\": \"https://plot.ly\", \"responsive\": true}\n",
       "                    ).then(function(){\n",
       "                            \n",
       "var gd = document.getElementById('7359d67a-bc81-414b-acdd-051a82bab072');\n",
       "var x = new MutationObserver(function (mutations, observer) {{\n",
       "        var display = window.getComputedStyle(gd).display;\n",
       "        if (!display || display === 'none') {{\n",
       "            console.log([gd, 'removed!']);\n",
       "            Plotly.purge(gd);\n",
       "            observer.disconnect();\n",
       "        }}\n",
       "}});\n",
       "\n",
       "// Listen for the removal of the full notebook cells\n",
       "var notebookContainer = gd.closest('#notebook-container');\n",
       "if (notebookContainer) {{\n",
       "    x.observe(notebookContainer, {childList: true});\n",
       "}}\n",
       "\n",
       "// Listen for the clearing of the current output cell\n",
       "var outputEl = gd.closest('.output');\n",
       "if (outputEl) {{\n",
       "    x.observe(outputEl, {childList: true});\n",
       "}}\n",
       "\n",
       "                        })\n",
       "                };\n",
       "                });\n",
       "            </script>\n",
       "        </div>"
      ]
     },
     "metadata": {},
     "output_type": "display_data"
    }
   ],
   "source": [
    "MCR_Q5_Q7 = MCR_original.groupby(['Q5','Q7']).compensation.mean().reset_index(name='count')\n",
    "heat_map_general(np.array(MCR_Q5_Q7['Q7'].unique()), np.array(MCR_Q5_Q7['Q5'].unique()),\\\n",
    "                 np.array(np.round(pd.pivot_table(data=MCR_Q5_Q7, columns=\"Q7\", index=\"Q5\", aggfunc=np.sum))), \\\n",
    "                 'Compensation of different undergrad major and industry')"
   ]
  },
  {
   "cell_type": "markdown",
   "metadata": {},
   "source": [
    "The heatmap above shows the respondents from many non IT-related industry are actually earning more money than the 'Computers/Technology' industry"
   ]
  },
  {
   "cell_type": "code",
   "execution_count": 97,
   "metadata": {
    "scrolled": false
   },
   "outputs": [
    {
     "data": {
      "application/vnd.plotly.v1+json": {
       "config": {
        "linkText": "Export to plot.ly",
        "plotlyServerURL": "https://plot.ly",
        "responsive": true,
        "showLink": false
       },
       "data": [
        {
         "autocolorscale": true,
         "type": "heatmap",
         "uid": "6b292986-1fd8-4c4f-a56c-2b2b26bfb767",
         "x": [
          "Business Analyst",
          "Chief Officer",
          "Consultant",
          "DBA/Database Engineer",
          "Data Analyst",
          "Data Engineer",
          "Data Journalist",
          "Data Scientist",
          "Developer Advocate",
          "Manager",
          "Marketing Analyst",
          "Not employed",
          "Other",
          "Principal Investigator",
          "Product/Project Manager",
          "Research Assistant",
          "Research Scientist",
          "Salesperson",
          "Software Engineer",
          "Statistician",
          "Student"
         ],
         "y": [
          "A business discipline (accounting, economics, finance, etc.)",
          "Computer science (software engineering, etc.)",
          "Engineering (non-computer focused)",
          "Environmental science or geology",
          "Fine arts or performing arts",
          "Humanities (history, literature, philosophy, etc.)",
          "I never declared a major",
          "Information technology, networking, or system administration",
          "Mathematics or statistics",
          "Medical or life sciences (biology, chemistry, medicine, etc.)",
          "Other",
          "Physics or astronomy",
          "Social sciences (anthropology, psychology, sociology, etc.)"
         ],
         "z": [
          [
           50941,
           122721,
           77939,
           65000,
           50969,
           78750,
           137500,
           74868,
           119000,
           86969,
           59444,
           0,
           57867,
           156250,
           65938,
           28462,
           66912,
           52361,
           69500,
           60455,
           13435
          ],
          [
           43443,
           107355,
           63274,
           45375,
           32126,
           50215,
           57000,
           52502,
           39082,
           89707,
           19000,
           0,
           48646,
           67315,
           68873,
           21744,
           51749,
           36346,
           46391,
           59583,
           10526
          ],
          [
           49747,
           143696,
           70878,
           39833,
           44389,
           62764,
           5000,
           64559,
           67500,
           86486,
           32500,
           0,
           58246,
           130114,
           69464,
           20600,
           53733,
           46667,
           52625,
           72708,
           11829
          ],
          [
           83000,
           207500,
           87955,
           65000,
           33190,
           47000,
           null,
           81429,
           30000,
           48333,
           48333,
           0,
           59688,
           40000,
           81875,
           33000,
           56618,
           55000,
           50357,
           85000,
           12407
          ],
          [
           52500,
           199167,
           101250,
           null,
           77500,
           0,
           275000,
           96667,
           null,
           125000,
           75000,
           0,
           169167,
           5000,
           76000,
           25000,
           110000,
           65000,
           125000,
           null,
           48500
          ],
          [
           68594,
           136250,
           116458,
           null,
           57159,
           101667,
           0,
           96489,
           20000,
           75962,
           105000,
           0,
           59875,
           0,
           113611,
           40000,
           71250,
           140000,
           73375,
           88750,
           20625
          ],
          [
           31667,
           307500,
           70000,
           95000,
           22500,
           83125,
           0,
           28636,
           null,
           116250,
           null,
           0,
           36429,
           297500,
           0,
           25000,
           0,
           60000,
           69821,
           null,
           7000
          ],
          [
           42643,
           92500,
           51848,
           52000,
           32500,
           38200,
           25000,
           53801,
           21667,
           76607,
           51500,
           0,
           35250,
           70000,
           45000,
           41579,
           55972,
           0,
           36990,
           0,
           14083
          ],
          [
           44281,
           159100,
           73675,
           51500,
           40727,
           63980,
           null,
           68294,
           53000,
           118136,
           54000,
           0,
           68524,
           110625,
           80417,
           28140,
           55222,
           57500,
           71000,
           49554,
           12975
          ],
          [
           55500,
           236667,
           98478,
           93750,
           49074,
           79583,
           null,
           81809,
           0,
           80769,
           95000,
           0,
           64951,
           87500,
           67500,
           29571,
           55142,
           20714,
           57241,
           63125,
           15949
          ],
          [
           30455,
           94688,
           54792,
           10000,
           54185,
           59038,
           null,
           73551,
           10000,
           69333,
           28333,
           0,
           76094,
           107000,
           71786,
           11364,
           66087,
           15000,
           54722,
           75000,
           16261
          ],
          [
           55000,
           218750,
           66481,
           77500,
           50469,
           50333,
           0,
           82797,
           115000,
           129118,
           40625,
           0,
           71688,
           160312,
           79667,
           31750,
           55371,
           206667,
           57804,
           95000,
           13750
          ],
          [
           60833,
           108333,
           87024,
           30000,
           53106,
           82321,
           5000,
           88533,
           112500,
           120167,
           37500,
           0,
           61736,
           129375,
           81250,
           25833,
           59605,
           50000,
           90526,
           20000,
           14333
          ]
         ]
        }
       ],
       "layout": {
        "title": {
         "text": "Compensation of different undergrad major and job title"
        }
       }
      },
      "text/html": [
       "<div>\n",
       "        \n",
       "        \n",
       "            <div id=\"099006e9-a219-4505-bdd1-dc8360529758\" class=\"plotly-graph-div\" style=\"height:525px; width:100%;\"></div>\n",
       "            <script type=\"text/javascript\">\n",
       "                require([\"plotly\"], function(Plotly) {\n",
       "                    window.PLOTLYENV=window.PLOTLYENV || {};\n",
       "                    window.PLOTLYENV.BASE_URL='https://plot.ly';\n",
       "                    \n",
       "                if (document.getElementById(\"099006e9-a219-4505-bdd1-dc8360529758\")) {\n",
       "                    Plotly.newPlot(\n",
       "                        '099006e9-a219-4505-bdd1-dc8360529758',\n",
       "                        [{\"autocolorscale\": true, \"type\": \"heatmap\", \"uid\": \"9bbaec8a-9d86-4e2f-ac55-0a9bdc32fa66\", \"x\": [\"Business Analyst\", \"Chief Officer\", \"Consultant\", \"DBA/Database Engineer\", \"Data Analyst\", \"Data Engineer\", \"Data Journalist\", \"Data Scientist\", \"Developer Advocate\", \"Manager\", \"Marketing Analyst\", \"Not employed\", \"Other\", \"Principal Investigator\", \"Product/Project Manager\", \"Research Assistant\", \"Research Scientist\", \"Salesperson\", \"Software Engineer\", \"Statistician\", \"Student\"], \"y\": [\"A business discipline (accounting, economics, finance, etc.)\", \"Computer science (software engineering, etc.)\", \"Engineering (non-computer focused)\", \"Environmental science or geology\", \"Fine arts or performing arts\", \"Humanities (history, literature, philosophy, etc.)\", \"I never declared a major\", \"Information technology, networking, or system administration\", \"Mathematics or statistics\", \"Medical or life sciences (biology, chemistry, medicine, etc.)\", \"Other\", \"Physics or astronomy\", \"Social sciences (anthropology, psychology, sociology, etc.)\"], \"z\": [[50941.0, 122721.0, 77939.0, 65000.0, 50969.0, 78750.0, 137500.0, 74868.0, 119000.0, 86969.0, 59444.0, 0.0, 57867.0, 156250.0, 65938.0, 28462.0, 66912.0, 52361.0, 69500.0, 60455.0, 13435.0], [43443.0, 107355.0, 63274.0, 45375.0, 32126.0, 50215.0, 57000.0, 52502.0, 39082.0, 89707.0, 19000.0, 0.0, 48646.0, 67315.0, 68873.0, 21744.0, 51749.0, 36346.0, 46391.0, 59583.0, 10526.0], [49747.0, 143696.0, 70878.0, 39833.0, 44389.0, 62764.0, 5000.0, 64559.0, 67500.0, 86486.0, 32500.0, 0.0, 58246.0, 130114.0, 69464.0, 20600.0, 53733.0, 46667.0, 52625.0, 72708.0, 11829.0], [83000.0, 207500.0, 87955.0, 65000.0, 33190.0, 47000.0, null, 81429.0, 30000.0, 48333.0, 48333.0, 0.0, 59688.0, 40000.0, 81875.0, 33000.0, 56618.0, 55000.0, 50357.0, 85000.0, 12407.0], [52500.0, 199167.0, 101250.0, null, 77500.0, 0.0, 275000.0, 96667.0, null, 125000.0, 75000.0, 0.0, 169167.0, 5000.0, 76000.0, 25000.0, 110000.0, 65000.0, 125000.0, null, 48500.0], [68594.0, 136250.0, 116458.0, null, 57159.0, 101667.0, 0.0, 96489.0, 20000.0, 75962.0, 105000.0, 0.0, 59875.0, 0.0, 113611.0, 40000.0, 71250.0, 140000.0, 73375.0, 88750.0, 20625.0], [31667.0, 307500.0, 70000.0, 95000.0, 22500.0, 83125.0, 0.0, 28636.0, null, 116250.0, null, 0.0, 36429.0, 297500.0, 0.0, 25000.0, 0.0, 60000.0, 69821.0, null, 7000.0], [42643.0, 92500.0, 51848.0, 52000.0, 32500.0, 38200.0, 25000.0, 53801.0, 21667.0, 76607.0, 51500.0, 0.0, 35250.0, 70000.0, 45000.0, 41579.0, 55972.0, 0.0, 36990.0, 0.0, 14083.0], [44281.0, 159100.0, 73675.0, 51500.0, 40727.0, 63980.0, null, 68294.0, 53000.0, 118136.0, 54000.0, 0.0, 68524.0, 110625.0, 80417.0, 28140.0, 55222.0, 57500.0, 71000.0, 49554.0, 12975.0], [55500.0, 236667.0, 98478.0, 93750.0, 49074.0, 79583.0, null, 81809.0, 0.0, 80769.0, 95000.0, 0.0, 64951.0, 87500.0, 67500.0, 29571.0, 55142.0, 20714.0, 57241.0, 63125.0, 15949.0], [30455.0, 94688.0, 54792.0, 10000.0, 54185.0, 59038.0, null, 73551.0, 10000.0, 69333.0, 28333.0, 0.0, 76094.0, 107000.0, 71786.0, 11364.0, 66087.0, 15000.0, 54722.0, 75000.0, 16261.0], [55000.0, 218750.0, 66481.0, 77500.0, 50469.0, 50333.0, 0.0, 82797.0, 115000.0, 129118.0, 40625.0, 0.0, 71688.0, 160312.0, 79667.0, 31750.0, 55371.0, 206667.0, 57804.0, 95000.0, 13750.0], [60833.0, 108333.0, 87024.0, 30000.0, 53106.0, 82321.0, 5000.0, 88533.0, 112500.0, 120167.0, 37500.0, 0.0, 61736.0, 129375.0, 81250.0, 25833.0, 59605.0, 50000.0, 90526.0, 20000.0, 14333.0]]}],\n",
       "                        {\"title\": {\"text\": \"Compensation of different undergrad major and job title\"}},\n",
       "                        {\"showLink\": false, \"linkText\": \"Export to plot.ly\", \"plotlyServerURL\": \"https://plot.ly\", \"responsive\": true}\n",
       "                    ).then(function(){\n",
       "                            \n",
       "var gd = document.getElementById('099006e9-a219-4505-bdd1-dc8360529758');\n",
       "var x = new MutationObserver(function (mutations, observer) {{\n",
       "        var display = window.getComputedStyle(gd).display;\n",
       "        if (!display || display === 'none') {{\n",
       "            console.log([gd, 'removed!']);\n",
       "            Plotly.purge(gd);\n",
       "            observer.disconnect();\n",
       "        }}\n",
       "}});\n",
       "\n",
       "// Listen for the removal of the full notebook cells\n",
       "var notebookContainer = gd.closest('#notebook-container');\n",
       "if (notebookContainer) {{\n",
       "    x.observe(notebookContainer, {childList: true});\n",
       "}}\n",
       "\n",
       "// Listen for the clearing of the current output cell\n",
       "var outputEl = gd.closest('.output');\n",
       "if (outputEl) {{\n",
       "    x.observe(outputEl, {childList: true});\n",
       "}}\n",
       "\n",
       "                        })\n",
       "                };\n",
       "                });\n",
       "            </script>\n",
       "        </div>"
      ]
     },
     "metadata": {},
     "output_type": "display_data"
    }
   ],
   "source": [
    "MCR_Q6_Q5 = MCR_original.groupby(['Q6','Q5']).compensation.mean().reset_index(name='count')\n",
    "heat_map_general(np.array(MCR_Q6_Q5['Q6'].unique()), np.array(MCR_Q6_Q5['Q5'].unique()),\\\n",
    "                 np.array(np.round(pd.pivot_table(data=MCR_Q6_Q5, columns=\"Q6\", index=\"Q5\", aggfunc=np.sum))), \\\n",
    "                 'Compensation of different undergrad major and job title')"
   ]
  },
  {
   "cell_type": "markdown",
   "metadata": {},
   "source": [
    "Obviously, respondents who are chief officers have the highest average compensations. Besides, principle investigators are also having high compensations."
   ]
  },
  {
   "cell_type": "markdown",
   "metadata": {},
   "source": [
    "Although the sample size of respondents from the top 2 majors is not large enough (Fine arts or performing arts:87, Humanities:269) which may lead to a bias in the analysis, we can still tell a trend according to the heatmaps above that the computer science major and computer related industries are not a gurantee of high compensation in the data science area. While many people with different background are entering the data science area and having a good career development."
   ]
  },
  {
   "cell_type": "markdown",
   "metadata": {},
   "source": [
    "### Managerial Insights"
   ]
  },
  {
   "cell_type": "markdown",
   "metadata": {},
   "source": [
    "<div class=\"alert alert-block alert-info\">\n",
    "<br>\n",
    "**  **\n",
    "Using the above finding, we believe that it will be very beneficial for students with non computer focused majors to explore a job in data science related field too.\n",
    "\n",
    "\n",
    "<br>\n",
    "</div>"
   ]
  },
  {
   "cell_type": "markdown",
   "metadata": {},
   "source": [
    "### *Finding #2: For experienced coders, AWS is best choice for Cloud Computing Services"
   ]
  },
  {
   "cell_type": "markdown",
   "metadata": {},
   "source": [
    "Among the ML models, firstly, an unsupervised model is attempted to built to see if there is any characteristic in common for some of the data."
   ]
  },
  {
   "cell_type": "code",
   "execution_count": 62,
   "metadata": {},
   "outputs": [],
   "source": [
    "# K-Means Clusering\n",
    "clu = KMeans(n_clusters=3)"
   ]
  },
  {
   "cell_type": "code",
   "execution_count": 63,
   "metadata": {},
   "outputs": [],
   "source": [
    "listcol3 = listcol2.copy()\n",
    "listcol3.append('compensation')\n",
    "listcol3.append('consumingCapicity')"
   ]
  },
  {
   "cell_type": "code",
   "execution_count": 64,
   "metadata": {},
   "outputs": [
    {
     "data": {
      "text/plain": [
       "KMeans(algorithm='auto', copy_x=True, init='k-means++', max_iter=300,\n",
       "    n_clusters=3, n_init=10, n_jobs=1, precompute_distances='auto',\n",
       "    random_state=None, tol=0.0001, verbose=0)"
      ]
     },
     "execution_count": 64,
     "metadata": {},
     "output_type": "execute_result"
    }
   ],
   "source": [
    "dd = MCR_model[listcol3]\n",
    "clu.fit(dd)"
   ]
  },
  {
   "cell_type": "code",
   "execution_count": 65,
   "metadata": {},
   "outputs": [],
   "source": [
    "dd['cluster'] = clu.labels_"
   ]
  },
  {
   "cell_type": "code",
   "execution_count": 66,
   "metadata": {},
   "outputs": [
    {
     "data": {
      "text/plain": [
       "<seaborn.axisgrid.FacetGrid at 0x1c182e3e10>"
      ]
     },
     "execution_count": 66,
     "metadata": {},
     "output_type": "execute_result"
    },
    {
     "data": {
      "text/plain": [
       "<seaborn.axisgrid.FacetGrid at 0x1a10385080>"
      ]
     },
     "execution_count": 66,
     "metadata": {},
     "output_type": "execute_result"
    },
    {
     "data": {
      "text/plain": [
       "<seaborn.axisgrid.FacetGrid at 0x1c15ace080>"
      ]
     },
     "execution_count": 66,
     "metadata": {},
     "output_type": "execute_result"
    },
    {
     "data": {
      "image/png": "[encoded data removed]",
      "text/plain": [
       "<Figure size 432x288 with 1 Axes>"
      ]
     },
     "metadata": {},
     "output_type": "display_data"
    },
    {
     "data": {
      "image/png": "[encoded data removed]",
      "text/plain": [
       "<Figure size 432x288 with 1 Axes>"
      ]
     },
     "metadata": {},
     "output_type": "display_data"
    },
    {
     "data": {
      "image/png": "[encoded data removed]",
      "text/plain": [
       "<Figure size 432x288 with 1 Axes>"
      ]
     },
     "metadata": {},
     "output_type": "display_data"
    }
   ],
   "source": [
    "sns.factorplot(y='Q2', data=dd, x='cluster',\\\n",
    "               aspect=1.5, kind='box').set_ylabels('Age', fontsize= 15).set_xlabels('Cluster', fontsize= 15)\n",
    "sns.factorplot(y='compensation', data=dd, x='cluster',\\\n",
    "               aspect=1.5, kind='box').set_xlabels('Cluster', fontsize= 15).set_ylabels('Compensation', fontsize= 15)\n",
    "sns.factorplot(y='consumingCapicity', data=dd, x='cluster',\\\n",
    "               aspect=1.5, kind='box').set_xlabels('Cluster', fontsize= 15).set_ylabels('Consuming Capicity', fontsize= 15)"
   ]
  },
  {
   "cell_type": "code",
   "execution_count": 67,
   "metadata": {},
   "outputs": [
    {
     "data": {
      "text/plain": [
       "Text(0.5,0,'Age')"
      ]
     },
     "execution_count": 67,
     "metadata": {},
     "output_type": "execute_result"
    },
    {
     "data": {
      "text/plain": [
       "Text(0,0.5,'Compensation')"
      ]
     },
     "execution_count": 67,
     "metadata": {},
     "output_type": "execute_result"
    },
    {
     "data": {
      "text/plain": [
       "<matplotlib.colorbar.Colorbar at 0x1c18b3a860>"
      ]
     },
     "execution_count": 67,
     "metadata": {},
     "output_type": "execute_result"
    },
    {
     "data": {
      "image/png": "[encoded data removed]",
      "text/plain": [
       "<Figure size 432x288 with 2 Axes>"
      ]
     },
     "metadata": {},
     "output_type": "display_data"
    }
   ],
   "source": [
    "fig = plt.figure()\n",
    "ax = fig.add_subplot(111)\n",
    "scatter = ax.scatter(dd.Q2,dd.compensation,c=dd.cluster,s=10)\n",
    "ax.set_xlabel('Age')\n",
    "ax.set_ylabel('Compensation')\n",
    "plt.colorbar(scatter)\n",
    "fig.show()"
   ]
  },
  {
   "cell_type": "markdown",
   "metadata": {},
   "source": [
    "According to the cluster labels given by the K-means clustering model, we can see Cluster 0 are the younger people with less experiences, Cluster 2 are the older people with more experiences, and Cluster 1 is in the middle. We can tell that definitely the respondents in the same cluster group have something in common. (The order of the clusters might change sometimes when run multiple times)"
   ]
  },
  {
   "cell_type": "markdown",
   "metadata": {},
   "source": [
    "To go further, decision trees are built targeted on the compensation. In the first attempt, the compensation is splitted into 3 bins according to the common sense on compensation."
   ]
  },
  {
   "cell_type": "code",
   "execution_count": 68,
   "metadata": {},
   "outputs": [],
   "source": [
    "# Decision Tree 1"
   ]
  },
  {
   "cell_type": "code",
   "execution_count": 69,
   "metadata": {},
   "outputs": [],
   "source": [
    "Y = MCR_model.compensation.apply(lambda x: 0 if x< 50000 else 2 if x>100000 else 1 )"
   ]
  },
  {
   "cell_type": "code",
   "execution_count": 70,
   "metadata": {},
   "outputs": [],
   "source": [
    "X = MCR_model[listcol2]"
   ]
  },
  {
   "cell_type": "code",
   "execution_count": 71,
   "metadata": {},
   "outputs": [],
   "source": [
    "X_train, X_test, Y_train, Y_test = train_test_split(X, Y, test_size=0.2, random_state=100)"
   ]
  },
  {
   "cell_type": "code",
   "execution_count": 72,
   "metadata": {},
   "outputs": [],
   "source": [
    "dt = tree.DecisionTreeClassifier(max_depth=3)"
   ]
  },
  {
   "cell_type": "code",
   "execution_count": 73,
   "metadata": {},
   "outputs": [
    {
     "data": {
      "text/plain": [
       "DecisionTreeClassifier(class_weight=None, criterion='gini', max_depth=3,\n",
       "            max_features=None, max_leaf_nodes=None,\n",
       "            min_impurity_decrease=0.0, min_impurity_split=None,\n",
       "            min_samples_leaf=1, min_samples_split=2,\n",
       "            min_weight_fraction_leaf=0.0, presort=False, random_state=None,\n",
       "            splitter='best')"
      ]
     },
     "execution_count": 73,
     "metadata": {},
     "output_type": "execute_result"
    }
   ],
   "source": [
    "dt.fit(X_train,Y_train)"
   ]
  },
  {
   "cell_type": "code",
   "execution_count": 74,
   "metadata": {},
   "outputs": [
    {
     "data": {
      "image/png": "[encoded data removed]",
      "text/plain": [
       "<IPython.core.display.Image object>"
      ]
     },
     "execution_count": 74,
     "metadata": {},
     "output_type": "execute_result"
    }
   ],
   "source": [
    "dt_feature_names = list(X_train.columns)\n",
    "dt_target_names = [str(s) for s in Y_train.unique()]\n",
    "tree.export_graphviz(dt, out_file='tree.dot', \n",
    "    feature_names=dt_feature_names, class_names=dt_target_names,\n",
    "    filled=True)  \n",
    "graph = pydotplus.graph_from_dot_file('tree.dot')\n",
    "Image(graph.create_png())"
   ]
  },
  {
   "cell_type": "code",
   "execution_count": 75,
   "metadata": {
    "scrolled": true
   },
   "outputs": [
    {
     "data": {
      "text/plain": [
       "0.7160071649568475"
      ]
     },
     "execution_count": 75,
     "metadata": {},
     "output_type": "execute_result"
    },
    {
     "data": {
      "text/plain": [
       "0.7212634321068055"
      ]
     },
     "execution_count": 75,
     "metadata": {},
     "output_type": "execute_result"
    }
   ],
   "source": [
    "# accuracy of the training data \n",
    "(dt.predict(X_train) == Y_train).mean()\n",
    "# accuracy of the test data \n",
    "(dt.predict(X_test) == Y_test).mean()"
   ]
  },
  {
   "cell_type": "markdown",
   "metadata": {},
   "source": [
    "The accuracy of the decision tree on both train and test data is over 70% which are acceptable. \n",
    "\n",
    "The first interesting thing observed is that among the branches of the decision tree, only one is class = 2. This branch refers to people are: \n",
    "    1. From United States \n",
    "    2. Non-student \n",
    "    3. Less than 30 years old"
   ]
  },
  {
   "cell_type": "markdown",
   "metadata": {},
   "source": [
    "This is contradictory to the intuition that older people earn more. \n",
    "However, when we observe deeper, it is strange to find actually among the US non-student people, still the older people have a higher average compensation. This means the decision tree might give us a wrong information. Also, if check the value list in the end of that branch, Class 1 is actually the largest class, instead of Class 2."
   ]
  },
  {
   "cell_type": "code",
   "execution_count": 76,
   "metadata": {},
   "outputs": [
    {
     "data": {
      "text/plain": [
       "<seaborn.axisgrid.FacetGrid at 0x1c18ef02b0>"
      ]
     },
     "execution_count": 76,
     "metadata": {},
     "output_type": "execute_result"
    },
    {
     "data": {
      "image/png": "[encoded data removed]",
      "text/plain": [
       "<Figure size 288x288 with 1 Axes>"
      ]
     },
     "metadata": {},
     "output_type": "display_data"
    }
   ],
   "source": [
    "usNonStudent = MCR_model[(MCR_model['Q3_United States of America']==1)\\\n",
    "                       & (MCR_model.Q6_Student == 0)]\n",
    "usNonStudent['AgeRange'] = MCR_model.Q2.apply(lambda x: 'Less than 30' if x<30 else 'More than 30')\n",
    "sns.factorplot(x='AgeRange', y='compensation', data=usNonStudent,kind='box',aspect=1)"
   ]
  },
  {
   "cell_type": "markdown",
   "metadata": {},
   "source": [
    "No matter we use the gini or entropy method, the same result of decision tree is given. If we dig into the algorithm of decision tree, it is found that, mathematically this would happen due to a bad situation of group splitting. Therefore this finding may not give us any practical meaningful information on the compensation.\n",
    "\n",
    "\n",
    "Since the first node is whether the respondent is in United States, we are interested to know if United States is the important factor."
   ]
  },
  {
   "cell_type": "code",
   "execution_count": 77,
   "metadata": {},
   "outputs": [
    {
     "data": {
      "text/html": [
       "<script type=\"text/javascript\">window.PlotlyConfig = {MathJaxConfig: 'local'};</script><script type=\"text/javascript\">if (window.MathJax) {MathJax.Hub.Config({SVG: {font: \"STIX-Web\"}});}</script><script>requirejs.config({paths: { 'plotly': ['https://cdn.plot.ly/plotly-latest.min']},});if(!window._Plotly) {require(['plotly'],function(plotly) {window._Plotly=plotly;});}</script>"
      ],
      "text/vnd.plotly.v1+html": [
       "<script type=\"text/javascript\">window.PlotlyConfig = {MathJaxConfig: 'local'};</script><script type=\"text/javascript\">if (window.MathJax) {MathJax.Hub.Config({SVG: {font: \"STIX-Web\"}});}</script><script>requirejs.config({paths: { 'plotly': ['https://cdn.plot.ly/plotly-latest.min']},});if(!window._Plotly) {require(['plotly'],function(plotly) {window._Plotly=plotly;});}</script>"
      ]
     },
     "metadata": {},
     "output_type": "display_data"
    },
    {
     "data": {
      "application/vnd.plotly.v1+json": {
       "config": {
        "linkText": "Export to plot.ly",
        "plotlyServerURL": "https://plot.ly",
        "showLink": false
       },
       "data": [
        {
         "colorbar": {
          "title": {
           "text": "Yearly Compensation"
          }
         },
         "colorscale": "Earth",
         "locationmode": "country names",
         "locations": [
          "Argentina",
          "Australia",
          "Austria",
          "Bangladesh",
          "Belarus",
          "Belgium",
          "Brazil",
          "Canada",
          "Chile",
          "China",
          "Colombia",
          "Czech Republic",
          "Denmark",
          "Egypt",
          "Finland",
          "France",
          "Germany",
          "Greece",
          "Hong Kong (S.A.R.)",
          "Hungary",
          "I do not wish to disclose my location",
          "India",
          "Indonesia",
          "Iran, Islamic Republic of...",
          "Ireland",
          "Israel",
          "Italy",
          "Japan",
          "Kenya",
          "Malaysia",
          "Mexico",
          "Morocco",
          "Netherlands",
          "New Zealand",
          "Nigeria",
          "Norway",
          "Other",
          "Pakistan",
          "Peru",
          "Philippines",
          "Poland",
          "Portugal",
          "Republic of Korea",
          "Romania",
          "Russia",
          "Singapore",
          "South Africa",
          "South Korea",
          "Spain",
          "Sweden",
          "Switzerland",
          "Thailand",
          "Tunisia",
          "Turkey",
          "Ukraine",
          "United Kingdom of Great Britain and Northern Ireland",
          "United States of America",
          "Viet Nam"
         ],
         "marker": {
          "line": {
           "color": "rgb(0,0,0)",
           "width": 0.4
          }
         },
         "text": [
          "Argentina",
          "Australia",
          "Austria",
          "Bangladesh",
          "Belarus",
          "Belgium",
          "Brazil",
          "Canada",
          "Chile",
          "China",
          "Colombia",
          "Czech Republic",
          "Denmark",
          "Egypt",
          "Finland",
          "France",
          "Germany",
          "Greece",
          "Hong Kong (S.A.R.)",
          "Hungary",
          "I do not wish to disclose my location",
          "India",
          "Indonesia",
          "Iran, Islamic Republic of...",
          "Ireland",
          "Israel",
          "Italy",
          "Japan",
          "Kenya",
          "Malaysia",
          "Mexico",
          "Morocco",
          "Netherlands",
          "New Zealand",
          "Nigeria",
          "Norway",
          "Other",
          "Pakistan",
          "Peru",
          "Philippines",
          "Poland",
          "Portugal",
          "Republic of Korea",
          "Romania",
          "Russia",
          "Singapore",
          "South Africa",
          "South Korea",
          "Spain",
          "Sweden",
          "Switzerland",
          "Thailand",
          "Tunisia",
          "Turkey",
          "Ukraine",
          "United Kingdom of Great Britain and Northern Ireland",
          "United States of America",
          "Viet Nam"
         ],
         "type": "choropleth",
         "uid": "f2ebcd95-4a81-46ce-9292-baf2add46c87",
         "z": [
          26363.636363636364,
          86420.94017094017,
          44125,
          13000,
          20692.30769230769,
          55479.45205479452,
          26876.12208258528,
          69024.9433106576,
          46916.666666666664,
          24054.597701149425,
          31831.68316831683,
          32916.666666666664,
          69845.67901234567,
          12318.181818181818,
          48221.153846153844,
          50508.274231678486,
          57900.197628458496,
          18855.421686746988,
          71279.06976744186,
          30000,
          47550.67567567567,
          22687.5,
          20703.88349514563,
          12590.90909090909,
          66875,
          85100.80645161291,
          37028.688524590165,
          56450.2427184466,
          36415.09433962264,
          20233.333333333332,
          27796.052631578947,
          17285.714285714286,
          58924.87046632124,
          50818.181818181816,
          10719.69696969697,
          69811.32075471699,
          29176.514032496307,
          15583.333333333334,
          25138.88888888889,
          25510.20408163265,
          29205.607476635512,
          23833.333333333332,
          55055.555555555555,
          20686.274509803923,
          23868.330464716008,
          57405.30303030303,
          37633.92857142857,
          47017.54385964912,
          38255.494505494506,
          59851.69491525424,
          99369.56521739131,
          26555.555555555555,
          17000,
          15213.56783919598,
          22818.18181818182,
          64959.59595959596,
          98630.26819923372,
          12500
         ]
        }
       ],
       "layout": {
        "geo": {
         "landcolor": "rgb(220,220,0)",
         "showcoastlines": true,
         "showland": true
        },
        "title": {
         "text": "Yearly Compensation of the respondents from different countries"
        }
       }
      },
      "text/html": [
       "<div id=\"c82118ed-575d-48bb-bc06-7c69d536a604\" style=\"height: 525px; width: 100%;\" class=\"plotly-graph-div\"></div><script type=\"text/javascript\">require([\"plotly\"], function(Plotly) { window.PLOTLYENV=window.PLOTLYENV || {};window.PLOTLYENV.BASE_URL=\"https://plot.ly\";\n",
       "if (document.getElementById(\"c82118ed-575d-48bb-bc06-7c69d536a604\")) {\n",
       "    Plotly.newPlot(\"c82118ed-575d-48bb-bc06-7c69d536a604\", [{\"colorbar\": {\"title\": {\"text\": \"Yearly Compensation\"}}, \"colorscale\": \"Earth\", \"locationmode\": \"country names\", \"locations\": [\"Argentina\", \"Australia\", \"Austria\", \"Bangladesh\", \"Belarus\", \"Belgium\", \"Brazil\", \"Canada\", \"Chile\", \"China\", \"Colombia\", \"Czech Republic\", \"Denmark\", \"Egypt\", \"Finland\", \"France\", \"Germany\", \"Greece\", \"Hong Kong (S.A.R.)\", \"Hungary\", \"I do not wish to disclose my location\", \"India\", \"Indonesia\", \"Iran, Islamic Republic of...\", \"Ireland\", \"Israel\", \"Italy\", \"Japan\", \"Kenya\", \"Malaysia\", \"Mexico\", \"Morocco\", \"Netherlands\", \"New Zealand\", \"Nigeria\", \"Norway\", \"Other\", \"Pakistan\", \"Peru\", \"Philippines\", \"Poland\", \"Portugal\", \"Republic of Korea\", \"Romania\", \"Russia\", \"Singapore\", \"South Africa\", \"South Korea\", \"Spain\", \"Sweden\", \"Switzerland\", \"Thailand\", \"Tunisia\", \"Turkey\", \"Ukraine\", \"United Kingdom of Great Britain and Northern Ireland\", \"United States of America\", \"Viet Nam\"], \"marker\": {\"line\": {\"color\": \"rgb(0,0,0)\", \"width\": 0.4}}, \"text\": [\"Argentina\", \"Australia\", \"Austria\", \"Bangladesh\", \"Belarus\", \"Belgium\", \"Brazil\", \"Canada\", \"Chile\", \"China\", \"Colombia\", \"Czech Republic\", \"Denmark\", \"Egypt\", \"Finland\", \"France\", \"Germany\", \"Greece\", \"Hong Kong (S.A.R.)\", \"Hungary\", \"I do not wish to disclose my location\", \"India\", \"Indonesia\", \"Iran, Islamic Republic of...\", \"Ireland\", \"Israel\", \"Italy\", \"Japan\", \"Kenya\", \"Malaysia\", \"Mexico\", \"Morocco\", \"Netherlands\", \"New Zealand\", \"Nigeria\", \"Norway\", \"Other\", \"Pakistan\", \"Peru\", \"Philippines\", \"Poland\", \"Portugal\", \"Republic of Korea\", \"Romania\", \"Russia\", \"Singapore\", \"South Africa\", \"South Korea\", \"Spain\", \"Sweden\", \"Switzerland\", \"Thailand\", \"Tunisia\", \"Turkey\", \"Ukraine\", \"United Kingdom of Great Britain and Northern Ireland\", \"United States of America\", \"Viet Nam\"], \"z\": [26363.636363636364, 86420.94017094017, 44125.0, 13000.0, 20692.30769230769, 55479.45205479452, 26876.12208258528, 69024.9433106576, 46916.666666666664, 24054.597701149425, 31831.68316831683, 32916.666666666664, 69845.67901234567, 12318.181818181818, 48221.153846153844, 50508.274231678486, 57900.197628458496, 18855.421686746988, 71279.06976744186, 30000.0, 47550.67567567567, 22687.5, 20703.88349514563, 12590.90909090909, 66875.0, 85100.80645161291, 37028.688524590165, 56450.2427184466, 36415.09433962264, 20233.333333333332, 27796.052631578947, 17285.714285714286, 58924.87046632124, 50818.181818181816, 10719.69696969697, 69811.32075471699, 29176.514032496307, 15583.333333333334, 25138.88888888889, 25510.20408163265, 29205.607476635512, 23833.333333333332, 55055.555555555555, 20686.274509803923, 23868.330464716008, 57405.30303030303, 37633.92857142857, 47017.54385964912, 38255.494505494506, 59851.69491525424, 99369.56521739131, 26555.555555555555, 17000.0, 15213.56783919598, 22818.18181818182, 64959.59595959596, 98630.26819923372, 12500.0], \"type\": \"choropleth\", \"uid\": \"d43f9ab5-cdd0-4d56-9dc8-370fc0525268\"}], {\"geo\": {\"landcolor\": \"rgb(220,220,0)\", \"showcoastlines\": true, \"showland\": true}, \"title\": {\"text\": \"Yearly Compensation of the respondents from different countries\"}}, {\"showLink\": false, \"linkText\": \"Export to plot.ly\", \"plotlyServerURL\": \"https://plot.ly\"}); \n",
       "}\n",
       "});</script><script type=\"text/javascript\">window.addEventListener(\"resize\", function(){if (document.getElementById(\"c82118ed-575d-48bb-bc06-7c69d536a604\")) {window._Plotly.Plots.resize(document.getElementById(\"c82118ed-575d-48bb-bc06-7c69d536a604\"));};})</script>"
      ],
      "text/vnd.plotly.v1+html": [
       "<div id=\"c82118ed-575d-48bb-bc06-7c69d536a604\" style=\"height: 525px; width: 100%;\" class=\"plotly-graph-div\"></div><script type=\"text/javascript\">require([\"plotly\"], function(Plotly) { window.PLOTLYENV=window.PLOTLYENV || {};window.PLOTLYENV.BASE_URL=\"https://plot.ly\";\n",
       "if (document.getElementById(\"c82118ed-575d-48bb-bc06-7c69d536a604\")) {\n",
       "    Plotly.newPlot(\"c82118ed-575d-48bb-bc06-7c69d536a604\", [{\"colorbar\": {\"title\": {\"text\": \"Yearly Compensation\"}}, \"colorscale\": \"Earth\", \"locationmode\": \"country names\", \"locations\": [\"Argentina\", \"Australia\", \"Austria\", \"Bangladesh\", \"Belarus\", \"Belgium\", \"Brazil\", \"Canada\", \"Chile\", \"China\", \"Colombia\", \"Czech Republic\", \"Denmark\", \"Egypt\", \"Finland\", \"France\", \"Germany\", \"Greece\", \"Hong Kong (S.A.R.)\", \"Hungary\", \"I do not wish to disclose my location\", \"India\", \"Indonesia\", \"Iran, Islamic Republic of...\", \"Ireland\", \"Israel\", \"Italy\", \"Japan\", \"Kenya\", \"Malaysia\", \"Mexico\", \"Morocco\", \"Netherlands\", \"New Zealand\", \"Nigeria\", \"Norway\", \"Other\", \"Pakistan\", \"Peru\", \"Philippines\", \"Poland\", \"Portugal\", \"Republic of Korea\", \"Romania\", \"Russia\", \"Singapore\", \"South Africa\", \"South Korea\", \"Spain\", \"Sweden\", \"Switzerland\", \"Thailand\", \"Tunisia\", \"Turkey\", \"Ukraine\", \"United Kingdom of Great Britain and Northern Ireland\", \"United States of America\", \"Viet Nam\"], \"marker\": {\"line\": {\"color\": \"rgb(0,0,0)\", \"width\": 0.4}}, \"text\": [\"Argentina\", \"Australia\", \"Austria\", \"Bangladesh\", \"Belarus\", \"Belgium\", \"Brazil\", \"Canada\", \"Chile\", \"China\", \"Colombia\", \"Czech Republic\", \"Denmark\", \"Egypt\", \"Finland\", \"France\", \"Germany\", \"Greece\", \"Hong Kong (S.A.R.)\", \"Hungary\", \"I do not wish to disclose my location\", \"India\", \"Indonesia\", \"Iran, Islamic Republic of...\", \"Ireland\", \"Israel\", \"Italy\", \"Japan\", \"Kenya\", \"Malaysia\", \"Mexico\", \"Morocco\", \"Netherlands\", \"New Zealand\", \"Nigeria\", \"Norway\", \"Other\", \"Pakistan\", \"Peru\", \"Philippines\", \"Poland\", \"Portugal\", \"Republic of Korea\", \"Romania\", \"Russia\", \"Singapore\", \"South Africa\", \"South Korea\", \"Spain\", \"Sweden\", \"Switzerland\", \"Thailand\", \"Tunisia\", \"Turkey\", \"Ukraine\", \"United Kingdom of Great Britain and Northern Ireland\", \"United States of America\", \"Viet Nam\"], \"z\": [26363.636363636364, 86420.94017094017, 44125.0, 13000.0, 20692.30769230769, 55479.45205479452, 26876.12208258528, 69024.9433106576, 46916.666666666664, 24054.597701149425, 31831.68316831683, 32916.666666666664, 69845.67901234567, 12318.181818181818, 48221.153846153844, 50508.274231678486, 57900.197628458496, 18855.421686746988, 71279.06976744186, 30000.0, 47550.67567567567, 22687.5, 20703.88349514563, 12590.90909090909, 66875.0, 85100.80645161291, 37028.688524590165, 56450.2427184466, 36415.09433962264, 20233.333333333332, 27796.052631578947, 17285.714285714286, 58924.87046632124, 50818.181818181816, 10719.69696969697, 69811.32075471699, 29176.514032496307, 15583.333333333334, 25138.88888888889, 25510.20408163265, 29205.607476635512, 23833.333333333332, 55055.555555555555, 20686.274509803923, 23868.330464716008, 57405.30303030303, 37633.92857142857, 47017.54385964912, 38255.494505494506, 59851.69491525424, 99369.56521739131, 26555.555555555555, 17000.0, 15213.56783919598, 22818.18181818182, 64959.59595959596, 98630.26819923372, 12500.0], \"type\": \"choropleth\", \"uid\": \"d43f9ab5-cdd0-4d56-9dc8-370fc0525268\"}], {\"geo\": {\"landcolor\": \"rgb(220,220,0)\", \"showcoastlines\": true, \"showland\": true}, \"title\": {\"text\": \"Yearly Compensation of the respondents from different countries\"}}, {\"showLink\": false, \"linkText\": \"Export to plot.ly\", \"plotlyServerURL\": \"https://plot.ly\"}); \n",
       "}\n",
       "});</script><script type=\"text/javascript\">window.addEventListener(\"resize\", function(){if (document.getElementById(\"c82118ed-575d-48bb-bc06-7c69d536a604\")) {window._Plotly.Plots.resize(document.getElementById(\"c82118ed-575d-48bb-bc06-7c69d536a604\"));};})</script>"
      ]
     },
     "metadata": {},
     "output_type": "display_data"
    }
   ],
   "source": [
    "py.init_notebook_mode(connected=True)\n",
    "def choropleth_map(map_key, map_value, color_scale, title, layout_title):\n",
    "    data = [dict(type='choropleth',\n",
    "               colorscale=color_scale,\n",
    "               locations=map_key,\n",
    "               locationmode='country names',\n",
    "               z=map_value,\n",
    "               text=map_key,\n",
    "               colorbar={'title':title},\n",
    "               marker=dict(line=dict(color='rgb(0,0,0)', width=0.4)))]\n",
    "    \n",
    "    layout = dict(title=layout_title,\n",
    "                 geo=dict(showland=True,\n",
    "                         landcolor='rgb(220,220,0)',\n",
    "                         showcoastlines=True))\n",
    "    \n",
    "    py.iplot({'data':data, 'layout': layout}, filename='world-map')\n",
    "    \n",
    "choropleth_map(MCR_original.groupby('Q3').compensation.mean().index, MCR_original.groupby('Q3')\\\n",
    ".compensation.mean().values, 'Earth','Yearly Compensation', 'Yearly Compensation\\\n",
    " of the respondents from different countries')"
   ]
  },
  {
   "cell_type": "markdown",
   "metadata": {},
   "source": [
    "United Stataes do have the top average compensation according to the choropleth map."
   ]
  },
  {
   "cell_type": "markdown",
   "metadata": {},
   "source": [
    "p.s. We've tried different parameters of color, but found impossible to make them in one single color scheme. Please consider the scale just adjacent to the image. Countries with yearly comensation above \"80K\" is on the higher region. We see USA to fall in that category. Similiarly, the yearly compensation below \"20K\" is low. We see Egypt to fall in that category. "
   ]
  },
  {
   "cell_type": "code",
   "execution_count": 78,
   "metadata": {},
   "outputs": [
    {
     "data": {
      "application/vnd.plotly.v1+json": {
       "config": {
        "linkText": "Export to plot.ly",
        "plotlyServerURL": "https://plot.ly",
        "showLink": false
       },
       "data": [
        {
         "colorbar": {
          "title": {
           "text": "Consuming Capicity"
          }
         },
         "colorscale": "Earth",
         "locationmode": "country names",
         "locations": [
          "Argentina",
          "Australia",
          "Austria",
          "Bangladesh",
          "Belarus",
          "Belgium",
          "Brazil",
          "Canada",
          "Chile",
          "China",
          "Colombia",
          "Czech Republic",
          "Denmark",
          "Egypt",
          "Finland",
          "France",
          "Germany",
          "Greece",
          "Hong Kong (S.A.R.)",
          "Hungary",
          "I do not wish to disclose my location",
          "India",
          "Indonesia",
          "Iran, Islamic Republic of...",
          "Ireland",
          "Israel",
          "Italy",
          "Japan",
          "Kenya",
          "Malaysia",
          "Mexico",
          "Morocco",
          "Netherlands",
          "New Zealand",
          "Nigeria",
          "Norway",
          "Other",
          "Pakistan",
          "Peru",
          "Philippines",
          "Poland",
          "Portugal",
          "Republic of Korea",
          "Romania",
          "Russia",
          "Singapore",
          "South Africa",
          "South Korea",
          "Spain",
          "Sweden",
          "Switzerland",
          "Thailand",
          "Tunisia",
          "Turkey",
          "Ukraine",
          "United Kingdom of Great Britain and Northern Ireland",
          "United States of America",
          "Viet Nam"
         ],
         "marker": {
          "line": {
           "color": "rgb(0,0,0)",
           "width": 0.4
          }
         },
         "text": [
          "Argentina",
          "Australia",
          "Austria",
          "Bangladesh",
          "Belarus",
          "Belgium",
          "Brazil",
          "Canada",
          "Chile",
          "China",
          "Colombia",
          "Czech Republic",
          "Denmark",
          "Egypt",
          "Finland",
          "France",
          "Germany",
          "Greece",
          "Hong Kong (S.A.R.)",
          "Hungary",
          "I do not wish to disclose my location",
          "India",
          "Indonesia",
          "Iran, Islamic Republic of...",
          "Ireland",
          "Israel",
          "Italy",
          "Japan",
          "Kenya",
          "Malaysia",
          "Mexico",
          "Morocco",
          "Netherlands",
          "New Zealand",
          "Nigeria",
          "Norway",
          "Other",
          "Pakistan",
          "Peru",
          "Philippines",
          "Poland",
          "Portugal",
          "Republic of Korea",
          "Romania",
          "Russia",
          "Singapore",
          "South Africa",
          "South Korea",
          "Spain",
          "Sweden",
          "Switzerland",
          "Thailand",
          "Tunisia",
          "Turkey",
          "Ukraine",
          "United Kingdom of Great Britain and Northern Ireland",
          "United States of America",
          "Viet Nam"
         ],
         "type": "choropleth",
         "uid": "976125dd-3efa-41cf-af0c-c493f358e79d",
         "z": [
          139.0413815918802,
          757.4140242851894,
          378.1062553556126,
          49.739822467095216,
          45.779441797140834,
          512.8913012368914,
          5.230852877108876,
          514.3438398707725,
          465.4893011872871,
          236.9911103561545,
          314.60449859969196,
          306.7722895309103,
          680.0942454950894,
          46.483704974271035,
          471.3700278216407,
          487.10844084944017,
          516.0445421431235,
          179.28517340255786,
          659.3808489125057,
          280.6886227544909,
          null,
          162.51790830945154,
          152.54850792179207,
          81.97206439393943,
          666.0856573705182,
          840.9170597985473,
          361.60828637295083,
          556.1600267827256,
          186.00007324355218,
          167.91147994467485,
          269.65514776463823,
          156.2621070847431,
          561.3496281444336,
          49.578713968957885,
          38.75523127150017,
          632.3489198796826,
          null,
          65.58365949805699,
          197.58617377103596,
          213.83238961972043,
          166.224288427066,
          233.24851569126395,
          525.891255664873,
          205.24133852370198,
          133.6412679995291,
          574.5126404153631,
          344.6330455259028,
          449.1120819529012,
          371.160323134709,
          180.8099054898624,
          977.469655886203,
          248.34523104419299,
          111.11111111111116,
          38.57102106633878,
          96.97484835606375,
          612.8263769773223,
          390.35211223822023,
          111.75681716584698
         ]
        }
       ],
       "layout": {
        "geo": {
         "landcolor": "rgb(220,220,0)",
         "showcoastlines": true,
         "showland": true
        },
        "title": {
         "text": "Consuming Capicity of the respondents from different countries"
        }
       }
      },
      "text/html": [
       "<div id=\"b1ff3141-4edb-4be2-88f8-42208802c056\" style=\"height: 525px; width: 100%;\" class=\"plotly-graph-div\"></div><script type=\"text/javascript\">require([\"plotly\"], function(Plotly) { window.PLOTLYENV=window.PLOTLYENV || {};window.PLOTLYENV.BASE_URL=\"https://plot.ly\";\n",
       "if (document.getElementById(\"b1ff3141-4edb-4be2-88f8-42208802c056\")) {\n",
       "    Plotly.newPlot(\"b1ff3141-4edb-4be2-88f8-42208802c056\", [{\"colorbar\": {\"title\": {\"text\": \"Consuming Capicity\"}}, \"colorscale\": \"Earth\", \"locationmode\": \"country names\", \"locations\": [\"Argentina\", \"Australia\", \"Austria\", \"Bangladesh\", \"Belarus\", \"Belgium\", \"Brazil\", \"Canada\", \"Chile\", \"China\", \"Colombia\", \"Czech Republic\", \"Denmark\", \"Egypt\", \"Finland\", \"France\", \"Germany\", \"Greece\", \"Hong Kong (S.A.R.)\", \"Hungary\", \"I do not wish to disclose my location\", \"India\", \"Indonesia\", \"Iran, Islamic Republic of...\", \"Ireland\", \"Israel\", \"Italy\", \"Japan\", \"Kenya\", \"Malaysia\", \"Mexico\", \"Morocco\", \"Netherlands\", \"New Zealand\", \"Nigeria\", \"Norway\", \"Other\", \"Pakistan\", \"Peru\", \"Philippines\", \"Poland\", \"Portugal\", \"Republic of Korea\", \"Romania\", \"Russia\", \"Singapore\", \"South Africa\", \"South Korea\", \"Spain\", \"Sweden\", \"Switzerland\", \"Thailand\", \"Tunisia\", \"Turkey\", \"Ukraine\", \"United Kingdom of Great Britain and Northern Ireland\", \"United States of America\", \"Viet Nam\"], \"marker\": {\"line\": {\"color\": \"rgb(0,0,0)\", \"width\": 0.4}}, \"text\": [\"Argentina\", \"Australia\", \"Austria\", \"Bangladesh\", \"Belarus\", \"Belgium\", \"Brazil\", \"Canada\", \"Chile\", \"China\", \"Colombia\", \"Czech Republic\", \"Denmark\", \"Egypt\", \"Finland\", \"France\", \"Germany\", \"Greece\", \"Hong Kong (S.A.R.)\", \"Hungary\", \"I do not wish to disclose my location\", \"India\", \"Indonesia\", \"Iran, Islamic Republic of...\", \"Ireland\", \"Israel\", \"Italy\", \"Japan\", \"Kenya\", \"Malaysia\", \"Mexico\", \"Morocco\", \"Netherlands\", \"New Zealand\", \"Nigeria\", \"Norway\", \"Other\", \"Pakistan\", \"Peru\", \"Philippines\", \"Poland\", \"Portugal\", \"Republic of Korea\", \"Romania\", \"Russia\", \"Singapore\", \"South Africa\", \"South Korea\", \"Spain\", \"Sweden\", \"Switzerland\", \"Thailand\", \"Tunisia\", \"Turkey\", \"Ukraine\", \"United Kingdom of Great Britain and Northern Ireland\", \"United States of America\", \"Viet Nam\"], \"z\": [139.0413815918802, 757.4140242851894, 378.1062553556126, 49.739822467095216, 45.779441797140834, 512.8913012368914, 5.230852877108876, 514.3438398707725, 465.4893011872871, 236.9911103561545, 314.60449859969196, 306.7722895309103, 680.0942454950894, 46.483704974271035, 471.3700278216407, 487.10844084944017, 516.0445421431235, 179.28517340255786, 659.3808489125057, 280.6886227544909, null, 162.51790830945154, 152.54850792179207, 81.97206439393943, 666.0856573705182, 840.9170597985473, 361.60828637295083, 556.1600267827256, 186.00007324355218, 167.91147994467485, 269.65514776463823, 156.2621070847431, 561.3496281444336, 49.578713968957885, 38.75523127150017, 632.3489198796826, null, 65.58365949805699, 197.58617377103596, 213.83238961972043, 166.224288427066, 233.24851569126395, 525.891255664873, 205.24133852370198, 133.6412679995291, 574.5126404153631, 344.6330455259028, 449.1120819529012, 371.160323134709, 180.8099054898624, 977.469655886203, 248.34523104419299, 111.11111111111116, 38.57102106633878, 96.97484835606375, 612.8263769773223, 390.35211223822023, 111.75681716584698], \"type\": \"choropleth\", \"uid\": \"235a4f13-e71f-4f0a-9066-7068d6ca4971\"}], {\"geo\": {\"landcolor\": \"rgb(220,220,0)\", \"showcoastlines\": true, \"showland\": true}, \"title\": {\"text\": \"Consuming Capicity of the respondents from different countries\"}}, {\"showLink\": false, \"linkText\": \"Export to plot.ly\", \"plotlyServerURL\": \"https://plot.ly\"}); \n",
       "}\n",
       "});</script><script type=\"text/javascript\">window.addEventListener(\"resize\", function(){if (document.getElementById(\"b1ff3141-4edb-4be2-88f8-42208802c056\")) {window._Plotly.Plots.resize(document.getElementById(\"b1ff3141-4edb-4be2-88f8-42208802c056\"));};})</script>"
      ],
      "text/vnd.plotly.v1+html": [
       "<div id=\"b1ff3141-4edb-4be2-88f8-42208802c056\" style=\"height: 525px; width: 100%;\" class=\"plotly-graph-div\"></div><script type=\"text/javascript\">require([\"plotly\"], function(Plotly) { window.PLOTLYENV=window.PLOTLYENV || {};window.PLOTLYENV.BASE_URL=\"https://plot.ly\";\n",
       "if (document.getElementById(\"b1ff3141-4edb-4be2-88f8-42208802c056\")) {\n",
       "    Plotly.newPlot(\"b1ff3141-4edb-4be2-88f8-42208802c056\", [{\"colorbar\": {\"title\": {\"text\": \"Consuming Capicity\"}}, \"colorscale\": \"Earth\", \"locationmode\": \"country names\", \"locations\": [\"Argentina\", \"Australia\", \"Austria\", \"Bangladesh\", \"Belarus\", \"Belgium\", \"Brazil\", \"Canada\", \"Chile\", \"China\", \"Colombia\", \"Czech Republic\", \"Denmark\", \"Egypt\", \"Finland\", \"France\", \"Germany\", \"Greece\", \"Hong Kong (S.A.R.)\", \"Hungary\", \"I do not wish to disclose my location\", \"India\", \"Indonesia\", \"Iran, Islamic Republic of...\", \"Ireland\", \"Israel\", \"Italy\", \"Japan\", \"Kenya\", \"Malaysia\", \"Mexico\", \"Morocco\", \"Netherlands\", \"New Zealand\", \"Nigeria\", \"Norway\", \"Other\", \"Pakistan\", \"Peru\", \"Philippines\", \"Poland\", \"Portugal\", \"Republic of Korea\", \"Romania\", \"Russia\", \"Singapore\", \"South Africa\", \"South Korea\", \"Spain\", \"Sweden\", \"Switzerland\", \"Thailand\", \"Tunisia\", \"Turkey\", \"Ukraine\", \"United Kingdom of Great Britain and Northern Ireland\", \"United States of America\", \"Viet Nam\"], \"marker\": {\"line\": {\"color\": \"rgb(0,0,0)\", \"width\": 0.4}}, \"text\": [\"Argentina\", \"Australia\", \"Austria\", \"Bangladesh\", \"Belarus\", \"Belgium\", \"Brazil\", \"Canada\", \"Chile\", \"China\", \"Colombia\", \"Czech Republic\", \"Denmark\", \"Egypt\", \"Finland\", \"France\", \"Germany\", \"Greece\", \"Hong Kong (S.A.R.)\", \"Hungary\", \"I do not wish to disclose my location\", \"India\", \"Indonesia\", \"Iran, Islamic Republic of...\", \"Ireland\", \"Israel\", \"Italy\", \"Japan\", \"Kenya\", \"Malaysia\", \"Mexico\", \"Morocco\", \"Netherlands\", \"New Zealand\", \"Nigeria\", \"Norway\", \"Other\", \"Pakistan\", \"Peru\", \"Philippines\", \"Poland\", \"Portugal\", \"Republic of Korea\", \"Romania\", \"Russia\", \"Singapore\", \"South Africa\", \"South Korea\", \"Spain\", \"Sweden\", \"Switzerland\", \"Thailand\", \"Tunisia\", \"Turkey\", \"Ukraine\", \"United Kingdom of Great Britain and Northern Ireland\", \"United States of America\", \"Viet Nam\"], \"z\": [139.0413815918802, 757.4140242851894, 378.1062553556126, 49.739822467095216, 45.779441797140834, 512.8913012368914, 5.230852877108876, 514.3438398707725, 465.4893011872871, 236.9911103561545, 314.60449859969196, 306.7722895309103, 680.0942454950894, 46.483704974271035, 471.3700278216407, 487.10844084944017, 516.0445421431235, 179.28517340255786, 659.3808489125057, 280.6886227544909, null, 162.51790830945154, 152.54850792179207, 81.97206439393943, 666.0856573705182, 840.9170597985473, 361.60828637295083, 556.1600267827256, 186.00007324355218, 167.91147994467485, 269.65514776463823, 156.2621070847431, 561.3496281444336, 49.578713968957885, 38.75523127150017, 632.3489198796826, null, 65.58365949805699, 197.58617377103596, 213.83238961972043, 166.224288427066, 233.24851569126395, 525.891255664873, 205.24133852370198, 133.6412679995291, 574.5126404153631, 344.6330455259028, 449.1120819529012, 371.160323134709, 180.8099054898624, 977.469655886203, 248.34523104419299, 111.11111111111116, 38.57102106633878, 96.97484835606375, 612.8263769773223, 390.35211223822023, 111.75681716584698], \"type\": \"choropleth\", \"uid\": \"235a4f13-e71f-4f0a-9066-7068d6ca4971\"}], {\"geo\": {\"landcolor\": \"rgb(220,220,0)\", \"showcoastlines\": true, \"showland\": true}, \"title\": {\"text\": \"Consuming Capicity of the respondents from different countries\"}}, {\"showLink\": false, \"linkText\": \"Export to plot.ly\", \"plotlyServerURL\": \"https://plot.ly\"}); \n",
       "}\n",
       "});</script><script type=\"text/javascript\">window.addEventListener(\"resize\", function(){if (document.getElementById(\"b1ff3141-4edb-4be2-88f8-42208802c056\")) {window._Plotly.Plots.resize(document.getElementById(\"b1ff3141-4edb-4be2-88f8-42208802c056\"));};})</script>"
      ]
     },
     "metadata": {},
     "output_type": "display_data"
    }
   ],
   "source": [
    "MCR_original['consumingCapicity'] = MCR_original.compensation/MCR_original.CPI\n",
    "choropleth_map(MCR_original.groupby('Q3').compensation.mean().index, MCR_original.groupby('Q3')\\\n",
    ".consumingCapicity.mean().values, 'Earth','Consuming Capicity', 'Consuming Capicity\\\n",
    " of the respondents from different countries')"
   ]
  },
  {
   "cell_type": "markdown",
   "metadata": {},
   "source": [
    "However, as we mentioned before, the compensation in different countries might have different consuming capicity in different countries due to its economy. Thus, the consuming capicity value is also checked. Surprisingly, in this map, the United States is only around the middle."
   ]
  },
  {
   "cell_type": "code",
   "execution_count": 79,
   "metadata": {},
   "outputs": [
    {
     "data": {
      "text/plain": [
       "Q3\n",
       "Switzerland                                             99369.565217\n",
       "United States of America                                98630.268199\n",
       "Australia                                               86420.940171\n",
       "Israel                                                  85100.806452\n",
       "Hong Kong (S.A.R.)                                      71279.069767\n",
       "Denmark                                                 69845.679012\n",
       "Norway                                                  69811.320755\n",
       "Canada                                                  69024.943311\n",
       "Ireland                                                 66875.000000\n",
       "United Kingdom of Great Britain and Northern Ireland    64959.595960\n",
       "Name: compensation, dtype: float64"
      ]
     },
     "execution_count": 79,
     "metadata": {},
     "output_type": "execute_result"
    }
   ],
   "source": [
    "MCR_original.groupby('Q3').compensation.mean().nlargest(10)"
   ]
  },
  {
   "cell_type": "code",
   "execution_count": 80,
   "metadata": {},
   "outputs": [
    {
     "data": {
      "text/plain": [
       "Q3\n",
       "Switzerland                                             977.469656\n",
       "Israel                                                  840.917060\n",
       "Australia                                               757.414024\n",
       "Denmark                                                 680.094245\n",
       "Ireland                                                 666.085657\n",
       "Hong Kong (S.A.R.)                                      659.380849\n",
       "Norway                                                  632.348920\n",
       "United Kingdom of Great Britain and Northern Ireland    612.826377\n",
       "Singapore                                               574.512640\n",
       "Netherlands                                             561.349628\n",
       "Name: consumingCapicity, dtype: float64"
      ]
     },
     "execution_count": 80,
     "metadata": {},
     "output_type": "execute_result"
    }
   ],
   "source": [
    "MCR_original.groupby('Q3').consumingCapicity.mean().nlargest(10)"
   ]
  },
  {
   "cell_type": "markdown",
   "metadata": {},
   "source": [
    "After check the particular number of the compensation and consuming capicity among different countries, we can see the United State have the second high average compensation.\n",
    "But when it comes to consuming capicity, the US is not in the top 10. While, Switzerland is in the top 1 for both list."
   ]
  },
  {
   "cell_type": "markdown",
   "metadata": {},
   "source": [
    "Since the information from the first decision tree is quite limited and disappointing, more efforts are made to build more decision trees. The parameters are modified repeatedly and at last we get the following one."
   ]
  },
  {
   "cell_type": "code",
   "execution_count": 81,
   "metadata": {},
   "outputs": [],
   "source": [
    "# Decision Tree 2"
   ]
  },
  {
   "cell_type": "code",
   "execution_count": 82,
   "metadata": {},
   "outputs": [],
   "source": [
    "Y = MCR_model.compensation.apply(lambda x: 0 if x< 5001 else 2 if x>75000 else 1 )\n",
    "X = MCR_model[listcol2].drop(columns = ['Q6_Student','Q3_United States of America'])"
   ]
  },
  {
   "cell_type": "code",
   "execution_count": 83,
   "metadata": {},
   "outputs": [],
   "source": [
    "X_train, X_test, Y_train, Y_test = train_test_split(X, Y, test_size=0.2, random_state=100)"
   ]
  },
  {
   "cell_type": "code",
   "execution_count": 84,
   "metadata": {},
   "outputs": [
    {
     "data": {
      "text/plain": [
       "DecisionTreeClassifier(class_weight=None, criterion='gini', max_depth=3,\n",
       "            max_features=None, max_leaf_nodes=None,\n",
       "            min_impurity_decrease=0.0, min_impurity_split=None,\n",
       "            min_samples_leaf=1, min_samples_split=2,\n",
       "            min_weight_fraction_leaf=0.0, presort=False, random_state=None,\n",
       "            splitter='best')"
      ]
     },
     "execution_count": 84,
     "metadata": {},
     "output_type": "execute_result"
    },
    {
     "data": {
      "image/png": "[encoded data removed]",
      "text/plain": [
       "<IPython.core.display.Image object>"
      ]
     },
     "execution_count": 84,
     "metadata": {},
     "output_type": "execute_result"
    }
   ],
   "source": [
    "dt.fit(X_train,Y_train)\n",
    "dt_feature_names = list(X_train.columns)\n",
    "dt_target_names = [str(s) for s in Y_train.unique()]\n",
    "tree.export_graphviz(dt, out_file='tree.dot', \n",
    "    feature_names=dt_feature_names, class_names=dt_target_names,\n",
    "    filled=True)  \n",
    "graph = pydotplus.graph_from_dot_file('tree.dot')\n",
    "Image(graph.create_png())"
   ]
  },
  {
   "cell_type": "markdown",
   "metadata": {},
   "source": [
    "In the last branch we can tell that respondents over 25 years old (Q2), having coding experience more than 5 years and using AWS have the highest average compensation. Then we are interested in dig deeper on the cloud computing services."
   ]
  },
  {
   "cell_type": "code",
   "execution_count": 85,
   "metadata": {},
   "outputs": [
    {
     "data": {
      "application/vnd.plotly.v1+json": {
       "config": {
        "linkText": "Export to plot.ly",
        "plotlyServerURL": "https://plot.ly",
        "showLink": false
       },
       "data": [
        {
         "hole": 0.7,
         "hoverinfo": "label+percent",
         "labels": [
          "Google Cloud Platform (GCP)",
          "Amazon Web Services (AWS)",
          "Microsoft Azure",
          "IBM Cloud",
          "Alibaba Cloud",
          "Other"
         ],
         "marker": {
          "line": {
           "color": "black",
           "width": 0.5
          }
         },
         "textposition": "outside",
         "type": "pie",
         "uid": "15648e75-406e-4a64-b6ef-c475d59eca40",
         "values": [
          4783,
          7460,
          3805,
          1204,
          549,
          776
         ]
        }
       ],
       "layout": {
        "showlegend": true,
        "title": {
         "text": "Percentage of Cloud Computing Service usage overall"
        }
       }
      },
      "text/html": [
       "<div id=\"6385bfd1-d18b-4f73-bef0-81faea8b11bf\" style=\"height: 525px; width: 100%;\" class=\"plotly-graph-div\"></div><script type=\"text/javascript\">require([\"plotly\"], function(Plotly) { window.PLOTLYENV=window.PLOTLYENV || {};window.PLOTLYENV.BASE_URL=\"https://plot.ly\";\n",
       "if (document.getElementById(\"6385bfd1-d18b-4f73-bef0-81faea8b11bf\")) {\n",
       "    Plotly.newPlot(\"6385bfd1-d18b-4f73-bef0-81faea8b11bf\", [{\"hole\": 0.7, \"hoverinfo\": \"label+percent\", \"labels\": [\"Google Cloud Platform (GCP)\", \"Amazon Web Services (AWS)\", \"Microsoft Azure\", \"IBM Cloud\", \"Alibaba Cloud\", \"Other\"], \"marker\": {\"line\": {\"color\": \"black\", \"width\": 0.5}}, \"textposition\": \"outside\", \"values\": [4783, 7460, 3805, 1204, 549, 776], \"type\": \"pie\", \"uid\": \"18b9887c-5106-4c2e-be25-6f9fd541b0c5\"}], {\"showlegend\": true, \"title\": {\"text\": \"Percentage of Cloud Computing Service usage overall\"}}, {\"showLink\": false, \"linkText\": \"Export to plot.ly\", \"plotlyServerURL\": \"https://plot.ly\"}); \n",
       "}\n",
       "});</script><script type=\"text/javascript\">window.addEventListener(\"resize\", function(){if (document.getElementById(\"6385bfd1-d18b-4f73-bef0-81faea8b11bf\")) {window._Plotly.Plots.resize(document.getElementById(\"6385bfd1-d18b-4f73-bef0-81faea8b11bf\"));};})</script>"
      ],
      "text/vnd.plotly.v1+html": [
       "<div id=\"6385bfd1-d18b-4f73-bef0-81faea8b11bf\" style=\"height: 525px; width: 100%;\" class=\"plotly-graph-div\"></div><script type=\"text/javascript\">require([\"plotly\"], function(Plotly) { window.PLOTLYENV=window.PLOTLYENV || {};window.PLOTLYENV.BASE_URL=\"https://plot.ly\";\n",
       "if (document.getElementById(\"6385bfd1-d18b-4f73-bef0-81faea8b11bf\")) {\n",
       "    Plotly.newPlot(\"6385bfd1-d18b-4f73-bef0-81faea8b11bf\", [{\"hole\": 0.7, \"hoverinfo\": \"label+percent\", \"labels\": [\"Google Cloud Platform (GCP)\", \"Amazon Web Services (AWS)\", \"Microsoft Azure\", \"IBM Cloud\", \"Alibaba Cloud\", \"Other\"], \"marker\": {\"line\": {\"color\": \"black\", \"width\": 0.5}}, \"textposition\": \"outside\", \"values\": [4783, 7460, 3805, 1204, 549, 776], \"type\": \"pie\", \"uid\": \"18b9887c-5106-4c2e-be25-6f9fd541b0c5\"}], {\"showlegend\": true, \"title\": {\"text\": \"Percentage of Cloud Computing Service usage overall\"}}, {\"showLink\": false, \"linkText\": \"Export to plot.ly\", \"plotlyServerURL\": \"https://plot.ly\"}); \n",
       "}\n",
       "});</script><script type=\"text/javascript\">window.addEventListener(\"resize\", function(){if (document.getElementById(\"6385bfd1-d18b-4f73-bef0-81faea8b11bf\")) {window._Plotly.Plots.resize(document.getElementById(\"6385bfd1-d18b-4f73-bef0-81faea8b11bf\"));};})</script>"
      ]
     },
     "metadata": {},
     "output_type": "display_data"
    }
   ],
   "source": [
    "MCR_original_Q15_index_arr = np.array([MCR_original['Q15_Part_1'].value_counts().index,\\\n",
    "                                         MCR_original['Q15_Part_2'].value_counts().index, \\\n",
    "                                         MCR_original['Q15_Part_3'].value_counts().index, \\\n",
    "                                         MCR_original['Q15_Part_4'].value_counts().index, \\\n",
    "                                         MCR_original['Q15_Part_5'].value_counts().index, \\\n",
    "                                         MCR_original['Q15_Part_7'].value_counts().index])\n",
    "MCR_original_Q15_index = pd.Series(map(lambda x:x[0], MCR_original_Q15_index_arr))\n",
    "\n",
    "MCR_original_Q15_value_arr = np.array([MCR_original['Q15_Part_1'].value_counts().values,\\\n",
    "                                       MCR_original['Q15_Part_2'].value_counts().values, \\\n",
    "                                       MCR_original['Q15_Part_3'].value_counts().values, \\\n",
    "                                       MCR_original['Q15_Part_4'].value_counts().values, \\\n",
    "                                       MCR_original['Q15_Part_5'].value_counts().values, \\\n",
    "                                       MCR_original['Q15_Part_7'].value_counts().values])\n",
    "MCR_original_Q15_value = pd.Series(map(lambda x:x[0], MCR_original_Q15_value_arr))\n",
    "\n",
    "donut_plot_general(MCR_original_Q15_index, MCR_original_Q15_value, 'Percentage of Cloud Computing Service usage overall',\\\n",
    "                   True)"
   ]
  },
  {
   "cell_type": "markdown",
   "metadata": {},
   "source": [
    "From the chart above, we can tell the most 3 popular cloud computing services are AWS, GCP and Microsoft Azure."
   ]
  },
  {
   "cell_type": "code",
   "execution_count": 86,
   "metadata": {},
   "outputs": [],
   "source": [
    "experiencedCoder = MCR_model[(MCR_model.Q2 > 25) & (MCR_model.Q24 > 5.75)]"
   ]
  },
  {
   "cell_type": "code",
   "execution_count": 87,
   "metadata": {},
   "outputs": [],
   "source": [
    "nonExpCoder = MCR_model[(MCR_model.Q2 <= 25) | (MCR_model.Q24 <= 5.75)]"
   ]
  },
  {
   "cell_type": "code",
   "execution_count": 88,
   "metadata": {},
   "outputs": [
    {
     "data": {
      "text/plain": [
       "Text(0.5,0,'AWS Usage')"
      ]
     },
     "execution_count": 88,
     "metadata": {},
     "output_type": "execute_result"
    },
    {
     "data": {
      "text/plain": [
       "Text(0,0.5,'Compensation')"
      ]
     },
     "execution_count": 88,
     "metadata": {},
     "output_type": "execute_result"
    },
    {
     "data": {
      "text/plain": [
       "Text(0.5,1,'Compensation by AWS usage')"
      ]
     },
     "execution_count": 88,
     "metadata": {},
     "output_type": "execute_result"
    },
    {
     "data": {
      "text/plain": [
       "([<matplotlib.axis.XTick at 0x1c2bb166a0>,\n",
       "  <matplotlib.axis.XTick at 0x1c2bb13f98>],\n",
       " <a list of 2 Text xticklabel objects>)"
      ]
     },
     "execution_count": 88,
     "metadata": {},
     "output_type": "execute_result"
    },
    {
     "data": {
      "text/plain": [
       "<matplotlib.legend.Legend at 0x1c2bb21c50>"
      ]
     },
     "execution_count": 88,
     "metadata": {},
     "output_type": "execute_result"
    },
    {
     "data": {
      "image/png": "[encoded data removed]",
      "text/plain": [
       "<Figure size 432x288 with 1 Axes>"
      ]
     },
     "metadata": {},
     "output_type": "display_data"
    }
   ],
   "source": [
    "n_groups = 2\n",
    "awsAvgComp = (experiencedCoder[experiencedCoder['Q15_Part_2_Amazon Web Services (AWS)'] == 1].compensation.mean(),\\\n",
    "            nonExpCoder[nonExpCoder['Q15_Part_2_Amazon Web Services (AWS)'] == 1].compensation.mean())\n",
    "nonawsAvgComp = (experiencedCoder[experiencedCoder['Q15_Part_2_Amazon Web Services (AWS)'] == 0].compensation.mean(),\\\n",
    "            nonExpCoder[nonExpCoder['Q15_Part_2_Amazon Web Services (AWS)'] == 0].compensation.mean())\n",
    " \n",
    "fig, ax = plt.subplots()\n",
    "index = np.arange(n_groups)\n",
    "bar_width = 0.35\n",
    "opacity = 0.8\n",
    " \n",
    "rects1 = plt.bar(index, awsAvgComp, bar_width,\n",
    "alpha=opacity,\n",
    "color='b',\n",
    "label='AWS user')\n",
    " \n",
    "rects2 = plt.bar(index + bar_width, nonawsAvgComp, bar_width,\n",
    "alpha=opacity,\n",
    "color='r',\n",
    "label='Not AWS user')\n",
    " \n",
    "plt.xlabel('AWS Usage')\n",
    "plt.ylabel('Compensation')\n",
    "plt.title('Compensation by AWS usage')\n",
    "plt.xticks(index + bar_width, ('Experienced Coder', 'Not experienced coder'))\n",
    "plt.legend()\n",
    " \n",
    "plt.tight_layout()\n",
    "plt.show()"
   ]
  },
  {
   "cell_type": "markdown",
   "metadata": {},
   "source": [
    "The graph above shows us among both experienced and not experienced coders, AWS users earn more than not AWS users. And the gap among experience coders are even larger."
   ]
  },
  {
   "cell_type": "code",
   "execution_count": 89,
   "metadata": {},
   "outputs": [
    {
     "data": {
      "text/plain": [
       "<BarContainer object of 5 artists>"
      ]
     },
     "execution_count": 89,
     "metadata": {},
     "output_type": "execute_result"
    },
    {
     "data": {
      "text/plain": [
       "([<matplotlib.axis.XTick at 0x1c3f0a9390>,\n",
       "  <matplotlib.axis.XTick at 0x1c3f098320>,\n",
       "  <matplotlib.axis.XTick at 0x1c3f098278>,\n",
       "  <matplotlib.axis.XTick at 0x1c3f6b32b0>,\n",
       "  <matplotlib.axis.XTick at 0x1c3f6b3780>],\n",
       " <a list of 5 Text xticklabel objects>)"
      ]
     },
     "execution_count": 89,
     "metadata": {},
     "output_type": "execute_result"
    },
    {
     "data": {
      "text/plain": [
       "Text(0,0.5,'Cloud Computing')"
      ]
     },
     "execution_count": 89,
     "metadata": {},
     "output_type": "execute_result"
    },
    {
     "data": {
      "text/plain": [
       "Text(0.5,1,'Average compensation of respondents using different clouding services among experience coders')"
      ]
     },
     "execution_count": 89,
     "metadata": {},
     "output_type": "execute_result"
    },
    {
     "data": {
      "image/png": "[encoded data removed]",
      "text/plain": [
       "<Figure size 432x288 with 1 Axes>"
      ]
     },
     "metadata": {},
     "output_type": "display_data"
    }
   ],
   "source": [
    "ecAvgCom = [experiencedCoder[experiencedCoder['Q15_Part_1_Google Cloud Platform (GCP)'] == 1].compensation.mean(),\\\n",
    "experiencedCoder[experiencedCoder['Q15_Part_2_Amazon Web Services (AWS)'] == 1].compensation.mean(),\\\n",
    "experiencedCoder[experiencedCoder['Q15_Part_3_Microsoft Azure'] == 1].compensation.mean(),\\\n",
    "experiencedCoder[experiencedCoder['Q15_Part_4_IBM Cloud'] == 1].compensation.mean(),\\\n",
    "experiencedCoder[experiencedCoder['Q15_Part_5_Alibaba Cloud'] == 1].compensation.mean()]\n",
    "cloud = ('GCP','AWS','Microsoft Azure',\\\n",
    "         'IBM Cloud','Alibaba Cloud')\n",
    "y_pos = np.arange(len(cloud))\n",
    "plt.bar(y_pos, ecAvgCom, align='center', alpha=0.5)\n",
    "plt.xticks(y_pos, cloud)\n",
    "plt.ylabel('Cloud Computing')\n",
    "plt.title('Average compensation of respondents using different clouding services among experience coders')\n",
    "plt.show()"
   ]
  },
  {
   "cell_type": "markdown",
   "metadata": {},
   "source": [
    "Among all respondents, the ones using IBM Cloud seems have the highest average compensation (AWS is second). However, the IBM Cloud users are only about 6% people among all, thus the AWS (which the most popular one) is still preferred."
   ]
  },
  {
   "cell_type": "markdown",
   "metadata": {},
   "source": [
    "### Managerial Insights"
   ]
  },
  {
   "cell_type": "markdown",
   "metadata": {},
   "source": [
    "<div class=\"alert alert-block alert-info\">\n",
    "<br>\n",
    "** \n",
    "If you are an experienced coder, and haven't used cloud computing service before, it will be better to start with AWS. And for those who are using other cloud computing services, it is worthwhile to consider using AWS as well. **\n",
    "\n",
    "\n",
    "<br>\n",
    "</div>\n"
   ]
  },
  {
   "cell_type": "markdown",
   "metadata": {},
   "source": [
    "### *Finding #3: Python is the most polpular programming tool for non-computer related major people"
   ]
  },
  {
   "cell_type": "markdown",
   "metadata": {},
   "source": [
    "Programming tool is another topic interest us to explore. The percentage of usage is checked first."
   ]
  },
  {
   "cell_type": "code",
   "execution_count": 90,
   "metadata": {},
   "outputs": [
    {
     "data": {
      "application/vnd.plotly.v1+json": {
       "config": {
        "linkText": "Export to plot.ly",
        "plotlyServerURL": "https://plot.ly",
        "showLink": false
       },
       "data": [
        {
         "hole": 0.7,
         "hoverinfo": "label+percent",
         "labels": [
          "Python",
          "R",
          "SQL",
          "Bash",
          "Java",
          "Javascript/Typescript",
          "Visual Basic/VBA",
          "C/C++",
          "MATLAB",
          "Scala",
          "Julia",
          "Go",
          "C#/.NET",
          "PHP",
          "Ruby",
          "SAS/STATA",
          "None",
          "Other"
         ],
         "marker": {
          "line": {
           "color": "black",
           "width": 0.5
          }
         },
         "textposition": "outside",
         "type": "pie",
         "uid": "1a55b907-a7c1-4cbb-bf1b-cf3f0f13830d",
         "values": [
          15711,
          6685,
          8267,
          2708,
          3999,
          3249,
          1274,
          4383,
          2652,
          788,
          230,
          394,
          1670,
          1208,
          342,
          1052,
          332,
          624
         ]
        }
       ],
       "layout": {
        "showlegend": true,
        "title": {
         "text": "Percentage of Programming Language Usage Overall"
        }
       }
      },
      "text/html": [
       "<div id=\"ce5225b2-c4d9-4ecf-b4c2-26ebb278cba0\" style=\"height: 525px; width: 100%;\" class=\"plotly-graph-div\"></div><script type=\"text/javascript\">require([\"plotly\"], function(Plotly) { window.PLOTLYENV=window.PLOTLYENV || {};window.PLOTLYENV.BASE_URL=\"https://plot.ly\";\n",
       "if (document.getElementById(\"ce5225b2-c4d9-4ecf-b4c2-26ebb278cba0\")) {\n",
       "    Plotly.newPlot(\"ce5225b2-c4d9-4ecf-b4c2-26ebb278cba0\", [{\"hole\": 0.7, \"hoverinfo\": \"label+percent\", \"labels\": [\"Python\", \"R\", \"SQL\", \"Bash\", \"Java\", \"Javascript/Typescript\", \"Visual Basic/VBA\", \"C/C++\", \"MATLAB\", \"Scala\", \"Julia\", \"Go\", \"C#/.NET\", \"PHP\", \"Ruby\", \"SAS/STATA\", \"None\", \"Other\"], \"marker\": {\"line\": {\"color\": \"black\", \"width\": 0.5}}, \"textposition\": \"outside\", \"values\": [15711, 6685, 8267, 2708, 3999, 3249, 1274, 4383, 2652, 788, 230, 394, 1670, 1208, 342, 1052, 332, 624], \"type\": \"pie\", \"uid\": \"bc49f739-fab3-4710-9179-3c863db7180d\"}], {\"showlegend\": true, \"title\": {\"text\": \"Percentage of Programming Language Usage Overall\"}}, {\"showLink\": false, \"linkText\": \"Export to plot.ly\", \"plotlyServerURL\": \"https://plot.ly\"}); \n",
       "}\n",
       "});</script><script type=\"text/javascript\">window.addEventListener(\"resize\", function(){if (document.getElementById(\"ce5225b2-c4d9-4ecf-b4c2-26ebb278cba0\")) {window._Plotly.Plots.resize(document.getElementById(\"ce5225b2-c4d9-4ecf-b4c2-26ebb278cba0\"));};})</script>"
      ],
      "text/vnd.plotly.v1+html": [
       "<div id=\"ce5225b2-c4d9-4ecf-b4c2-26ebb278cba0\" style=\"height: 525px; width: 100%;\" class=\"plotly-graph-div\"></div><script type=\"text/javascript\">require([\"plotly\"], function(Plotly) { window.PLOTLYENV=window.PLOTLYENV || {};window.PLOTLYENV.BASE_URL=\"https://plot.ly\";\n",
       "if (document.getElementById(\"ce5225b2-c4d9-4ecf-b4c2-26ebb278cba0\")) {\n",
       "    Plotly.newPlot(\"ce5225b2-c4d9-4ecf-b4c2-26ebb278cba0\", [{\"hole\": 0.7, \"hoverinfo\": \"label+percent\", \"labels\": [\"Python\", \"R\", \"SQL\", \"Bash\", \"Java\", \"Javascript/Typescript\", \"Visual Basic/VBA\", \"C/C++\", \"MATLAB\", \"Scala\", \"Julia\", \"Go\", \"C#/.NET\", \"PHP\", \"Ruby\", \"SAS/STATA\", \"None\", \"Other\"], \"marker\": {\"line\": {\"color\": \"black\", \"width\": 0.5}}, \"textposition\": \"outside\", \"values\": [15711, 6685, 8267, 2708, 3999, 3249, 1274, 4383, 2652, 788, 230, 394, 1670, 1208, 342, 1052, 332, 624], \"type\": \"pie\", \"uid\": \"bc49f739-fab3-4710-9179-3c863db7180d\"}], {\"showlegend\": true, \"title\": {\"text\": \"Percentage of Programming Language Usage Overall\"}}, {\"showLink\": false, \"linkText\": \"Export to plot.ly\", \"plotlyServerURL\": \"https://plot.ly\"}); \n",
       "}\n",
       "});</script><script type=\"text/javascript\">window.addEventListener(\"resize\", function(){if (document.getElementById(\"ce5225b2-c4d9-4ecf-b4c2-26ebb278cba0\")) {window._Plotly.Plots.resize(document.getElementById(\"ce5225b2-c4d9-4ecf-b4c2-26ebb278cba0\"));};})</script>"
      ]
     },
     "metadata": {},
     "output_type": "display_data"
    }
   ],
   "source": [
    "MCR_Q16_arr = np.array([MCR_original['Q16_Part_1'].value_counts().index, \\\n",
    "                        MCR_original['Q16_Part_2'].value_counts().index, \\\n",
    "                        MCR_original['Q16_Part_3'].value_counts().index, \\\n",
    "                        MCR_original['Q16_Part_4'].value_counts().index, \\\n",
    "                        MCR_original['Q16_Part_5'].value_counts().index, \\\n",
    "                        MCR_original['Q16_Part_6'].value_counts().index, \\\n",
    "                        MCR_original['Q16_Part_7'].value_counts().index, \\\n",
    "                        MCR_original['Q16_Part_8'].value_counts().index, \\\n",
    "                        MCR_original['Q16_Part_9'].value_counts().index, \\\n",
    "                        MCR_original['Q16_Part_10'].value_counts().index, \\\n",
    "                        MCR_original['Q16_Part_11'].value_counts().index, \\\n",
    "                        MCR_original['Q16_Part_12'].value_counts().index, \\\n",
    "                        MCR_original['Q16_Part_13'].value_counts().index, \\\n",
    "                        MCR_original['Q16_Part_14'].value_counts().index, \\\n",
    "                        MCR_original['Q16_Part_15'].value_counts().index, \\\n",
    "                        MCR_original['Q16_Part_16'].value_counts().index, \\\n",
    "                        MCR_original['Q16_Part_17'].value_counts().index, \\\n",
    "                        MCR_original['Q16_Part_18'].value_counts().index, ])\n",
    "\n",
    "MCR_Q16_index = pd.Series(map(lambda x: x[0], MCR_Q16_arr))\n",
    "\n",
    "\n",
    "MCR_Q16_value_arr = np.array([MCR_original['Q16_Part_1'].value_counts().values, \\\n",
    "                              MCR_original['Q16_Part_2'].value_counts().values, \\\n",
    "                              MCR_original['Q16_Part_3'].value_counts().values, \\\n",
    "                              MCR_original['Q16_Part_4'].value_counts().values, \\\n",
    "                              MCR_original['Q16_Part_5'].value_counts().values, \\\n",
    "                              MCR_original['Q16_Part_6'].value_counts().values, \\\n",
    "                              MCR_original['Q16_Part_7'].value_counts().values, \\\n",
    "                              MCR_original['Q16_Part_8'].value_counts().values, \\\n",
    "                              MCR_original['Q16_Part_9'].value_counts().values, \\\n",
    "                              MCR_original['Q16_Part_10'].value_counts().values, \\\n",
    "                              MCR_original['Q16_Part_11'].value_counts().values, \\\n",
    "                              MCR_original['Q16_Part_12'].value_counts().values, \\\n",
    "                              MCR_original['Q16_Part_13'].value_counts().values, \\\n",
    "                              MCR_original['Q16_Part_14'].value_counts().values, \\\n",
    "                              MCR_original['Q16_Part_15'].value_counts().values, \\\n",
    "                              MCR_original['Q16_Part_16'].value_counts().values, \\\n",
    "                              MCR_original['Q16_Part_17'].value_counts().values, \\\n",
    "                              MCR_original['Q16_Part_18'].value_counts().values, ])\n",
    "\n",
    "MCR_Q16_value = pd.Series(map(lambda x: x[0], MCR_Q16_value_arr))\n",
    "donut_plot_general(MCR_Q16_index, MCR_Q16_value, 'Percentage of Programming Language Usage Overall', True)"
   ]
  },
  {
   "cell_type": "markdown",
   "metadata": {},
   "source": [
    "The top 3 is python, sql and r. The following analysis will focus on this 3"
   ]
  },
  {
   "cell_type": "code",
   "execution_count": 91,
   "metadata": {},
   "outputs": [],
   "source": [
    "# Count the Programming Tool Usage by Age\n",
    "MCR_original['Python_Count'] = MCR_original.Q16_Part_1.apply(lambda x: 1 if x == 'Python' else 0)\n",
    "MCR_original['R_Count'] = MCR_original.Q16_Part_2.apply(lambda x: 1 if x == 'R' else 0)\n",
    "MCR_original['SQL_Count'] = MCR_original.Q16_Part_3.apply(lambda x: 1 if x == 'SQL' else 0)\n",
    "toolCount = MCR_original.groupby('Q2')[['Python_Count','R_Count','SQL_Count']].sum()\n",
    "toolCount.reset_index(level=0, inplace=True)\n",
    "python_C = toolCount.iloc[:,[0,1]].rename(columns={\"Python_Count\": \"Count\"})\n",
    "r_C = toolCount.iloc[:,[0,2]].rename(columns={\"R_Count\": \"Count\"})\n",
    "sql_C = toolCount.iloc[:,[0,3]].rename(columns={\"SQL_Count\": \"Count\"})\n",
    "python_C['tool'] = 'Python'\n",
    "r_C['tool'] = 'R'\n",
    "sql_C['tool'] = 'SQL'\n",
    "MCR_tool = python_C.append(r_C).append(sql_C)"
   ]
  },
  {
   "cell_type": "code",
   "execution_count": 92,
   "metadata": {},
   "outputs": [
    {
     "data": {
      "application/vnd.plotly.v1+json": {
       "config": {
        "linkText": "Export to plot.ly",
        "plotlyServerURL": "https://plot.ly",
        "showLink": false
       },
       "data": [
        {
         "marker": {
          "color": "#3D9970",
          "line": {
           "color": "black",
           "width": 1
          }
         },
         "name": "Python",
         "type": "bar",
         "uid": "fbecc2de-d472-47cd-84a5-06716984843d",
         "x": [
          "18-21",
          "22-24",
          "25-29",
          "30-34",
          "35-39",
          "40-44",
          "45-49",
          "50-54",
          "55-59",
          "60-69",
          "70-79",
          "80+"
         ],
         "y": [
          1737,
          3316,
          4250,
          2577,
          1498,
          911,
          592,
          384,
          216,
          188,
          29,
          13
         ]
        },
        {
         "marker": {
          "color": "#FF4136",
          "line": {
           "color": "black",
           "width": 1
          }
         },
         "name": "R",
         "type": "bar",
         "uid": "e48f8839-dc42-478c-bbb0-ab8a852224ec",
         "x": [
          "18-21",
          "22-24",
          "25-29",
          "30-34",
          "35-39",
          "40-44",
          "45-49",
          "50-54",
          "55-59",
          "60-69",
          "70-79",
          "80+"
         ],
         "y": [
          472,
          1219,
          1840,
          1177,
          739,
          460,
          287,
          225,
          130,
          109,
          20,
          7
         ]
        },
        {
         "marker": {
          "color": "#FF851B",
          "line": {
           "color": "black",
           "width": 1
          }
         },
         "name": "SQL",
         "type": "bar",
         "uid": "dcab24c9-d572-437f-a516-bbbdfeebef24",
         "x": [
          "18-21",
          "22-24",
          "25-29",
          "30-34",
          "35-39",
          "40-44",
          "45-49",
          "50-54",
          "55-59",
          "60-69",
          "70-79",
          "80+"
         ],
         "y": [
          661,
          1460,
          2239,
          1537,
          934,
          568,
          364,
          242,
          144,
          102,
          12,
          4
         ]
        }
       ],
       "layout": {
        "barmode": "group",
        "showlegend": true,
        "title": {
         "text": "Count of Programming Tool Usage by Age"
        },
        "xaxis": {
         "title": {
          "text": "Age"
         }
        },
        "yaxis": {
         "title": {
          "text": "Count"
         }
        }
       }
      },
      "text/html": [
       "<div id=\"577a1552-328f-4886-8882-d1c305775d0a\" style=\"height: 525px; width: 100%;\" class=\"plotly-graph-div\"></div><script type=\"text/javascript\">require([\"plotly\"], function(Plotly) { window.PLOTLYENV=window.PLOTLYENV || {};window.PLOTLYENV.BASE_URL=\"https://plot.ly\";\n",
       "if (document.getElementById(\"577a1552-328f-4886-8882-d1c305775d0a\")) {\n",
       "    Plotly.newPlot(\"577a1552-328f-4886-8882-d1c305775d0a\", [{\"marker\": {\"color\": \"#3D9970\", \"line\": {\"color\": \"black\", \"width\": 1}}, \"name\": \"Python\", \"x\": [\"18-21\", \"22-24\", \"25-29\", \"30-34\", \"35-39\", \"40-44\", \"45-49\", \"50-54\", \"55-59\", \"60-69\", \"70-79\", \"80+\"], \"y\": [1737, 3316, 4250, 2577, 1498, 911, 592, 384, 216, 188, 29, 13], \"type\": \"bar\", \"uid\": \"4d75941b-da92-4fe6-9b60-a685577989a9\"}, {\"marker\": {\"color\": \"#FF4136\", \"line\": {\"color\": \"black\", \"width\": 1}}, \"name\": \"R\", \"x\": [\"18-21\", \"22-24\", \"25-29\", \"30-34\", \"35-39\", \"40-44\", \"45-49\", \"50-54\", \"55-59\", \"60-69\", \"70-79\", \"80+\"], \"y\": [472, 1219, 1840, 1177, 739, 460, 287, 225, 130, 109, 20, 7], \"type\": \"bar\", \"uid\": \"c85780f1-b8db-433b-b801-ca405f19589f\"}, {\"marker\": {\"color\": \"#FF851B\", \"line\": {\"color\": \"black\", \"width\": 1}}, \"name\": \"SQL\", \"x\": [\"18-21\", \"22-24\", \"25-29\", \"30-34\", \"35-39\", \"40-44\", \"45-49\", \"50-54\", \"55-59\", \"60-69\", \"70-79\", \"80+\"], \"y\": [661, 1460, 2239, 1537, 934, 568, 364, 242, 144, 102, 12, 4], \"type\": \"bar\", \"uid\": \"929822f7-7405-4a31-b5a4-fa7379df1a40\"}], {\"barmode\": \"group\", \"showlegend\": true, \"title\": {\"text\": \"Count of Programming Tool Usage by Age\"}, \"xaxis\": {\"title\": {\"text\": \"Age\"}}, \"yaxis\": {\"title\": {\"text\": \"Count\"}}}, {\"showLink\": false, \"linkText\": \"Export to plot.ly\", \"plotlyServerURL\": \"https://plot.ly\"}); \n",
       "}\n",
       "});</script><script type=\"text/javascript\">window.addEventListener(\"resize\", function(){if (document.getElementById(\"577a1552-328f-4886-8882-d1c305775d0a\")) {window._Plotly.Plots.resize(document.getElementById(\"577a1552-328f-4886-8882-d1c305775d0a\"));};})</script>"
      ],
      "text/vnd.plotly.v1+html": [
       "<div id=\"577a1552-328f-4886-8882-d1c305775d0a\" style=\"height: 525px; width: 100%;\" class=\"plotly-graph-div\"></div><script type=\"text/javascript\">require([\"plotly\"], function(Plotly) { window.PLOTLYENV=window.PLOTLYENV || {};window.PLOTLYENV.BASE_URL=\"https://plot.ly\";\n",
       "if (document.getElementById(\"577a1552-328f-4886-8882-d1c305775d0a\")) {\n",
       "    Plotly.newPlot(\"577a1552-328f-4886-8882-d1c305775d0a\", [{\"marker\": {\"color\": \"#3D9970\", \"line\": {\"color\": \"black\", \"width\": 1}}, \"name\": \"Python\", \"x\": [\"18-21\", \"22-24\", \"25-29\", \"30-34\", \"35-39\", \"40-44\", \"45-49\", \"50-54\", \"55-59\", \"60-69\", \"70-79\", \"80+\"], \"y\": [1737, 3316, 4250, 2577, 1498, 911, 592, 384, 216, 188, 29, 13], \"type\": \"bar\", \"uid\": \"4d75941b-da92-4fe6-9b60-a685577989a9\"}, {\"marker\": {\"color\": \"#FF4136\", \"line\": {\"color\": \"black\", \"width\": 1}}, \"name\": \"R\", \"x\": [\"18-21\", \"22-24\", \"25-29\", \"30-34\", \"35-39\", \"40-44\", \"45-49\", \"50-54\", \"55-59\", \"60-69\", \"70-79\", \"80+\"], \"y\": [472, 1219, 1840, 1177, 739, 460, 287, 225, 130, 109, 20, 7], \"type\": \"bar\", \"uid\": \"c85780f1-b8db-433b-b801-ca405f19589f\"}, {\"marker\": {\"color\": \"#FF851B\", \"line\": {\"color\": \"black\", \"width\": 1}}, \"name\": \"SQL\", \"x\": [\"18-21\", \"22-24\", \"25-29\", \"30-34\", \"35-39\", \"40-44\", \"45-49\", \"50-54\", \"55-59\", \"60-69\", \"70-79\", \"80+\"], \"y\": [661, 1460, 2239, 1537, 934, 568, 364, 242, 144, 102, 12, 4], \"type\": \"bar\", \"uid\": \"929822f7-7405-4a31-b5a4-fa7379df1a40\"}], {\"barmode\": \"group\", \"showlegend\": true, \"title\": {\"text\": \"Count of Programming Tool Usage by Age\"}, \"xaxis\": {\"title\": {\"text\": \"Age\"}}, \"yaxis\": {\"title\": {\"text\": \"Count\"}}}, {\"showLink\": false, \"linkText\": \"Export to plot.ly\", \"plotlyServerURL\": \"https://plot.ly\"}); \n",
       "}\n",
       "});</script><script type=\"text/javascript\">window.addEventListener(\"resize\", function(){if (document.getElementById(\"577a1552-328f-4886-8882-d1c305775d0a\")) {window._Plotly.Plots.resize(document.getElementById(\"577a1552-328f-4886-8882-d1c305775d0a\"));};})</script>"
      ]
     },
     "metadata": {},
     "output_type": "display_data"
    }
   ],
   "source": [
    "# function for generate gruoped bar plot\n",
    "def grouped_bar_plot(x_axis, y_axis1, y_axis2, y_axis3, x_layout_name, y_layout_name, layout_title, show_legend):\n",
    "    trace1=go.Bar(\n",
    "        x=x_axis,\n",
    "        y=y_axis1,\n",
    "        name=\"Python\",\n",
    "        marker=dict(color='#3D9970', line=dict(color='black',width=1))\n",
    "    )\n",
    "\n",
    "    trace2=go.Bar(\n",
    "        x=x_axis,\n",
    "        y=y_axis2,\n",
    "        name=\"R\",\n",
    "        marker=dict(color='#FF4136', line=dict(color='black',width=1))\n",
    "    )\n",
    "\n",
    "    trace3=go.Bar(\n",
    "        x=x_axis,\n",
    "        y=y_axis3,\n",
    "        name=\"SQL\",\n",
    "        marker=dict(color='#FF851B', line=dict(color='black',width=1))\n",
    "    )\n",
    "\n",
    "    data=[trace1,trace2,trace3]\n",
    "\n",
    "    layout=go.Layout(\n",
    "        xaxis=dict(title=x_layout_name),\n",
    "        yaxis=dict(title=y_layout_name),\n",
    "        title=layout_title,\n",
    "        showlegend=show_legend,\n",
    "        barmode='group'\n",
    "    )\n",
    "\n",
    "    py.iplot({'data': data, 'layout': layout}, filename='grouped-bar-direct-labels')\n",
    "\n",
    "grouped_bar_plot(MCR_tool['Q2'].unique(), \\\n",
    "                                MCR_tool['Count'][MCR_tool['tool']==\"Python\"],\\\n",
    "                                MCR_tool['Count'][MCR_tool['tool']==\"R\"],\\\n",
    "                                MCR_tool['Count'][MCR_tool['tool']==\"SQL\"], \\\n",
    "                                'Age', 'Count', 'Count of Programming Tool Usage by Age', True)"
   ]
  },
  {
   "cell_type": "code",
   "execution_count": 93,
   "metadata": {
    "scrolled": true
   },
   "outputs": [
    {
     "data": {
      "text/html": [
       "<div>\n",
       "<style scoped>\n",
       "    .dataframe tbody tr th:only-of-type {\n",
       "        vertical-align: middle;\n",
       "    }\n",
       "\n",
       "    .dataframe tbody tr th {\n",
       "        vertical-align: top;\n",
       "    }\n",
       "\n",
       "    .dataframe thead th {\n",
       "        text-align: right;\n",
       "    }\n",
       "</style>\n",
       "<table border=\"1\" class=\"dataframe\">\n",
       "  <thead>\n",
       "    <tr style=\"text-align: right;\">\n",
       "      <th></th>\n",
       "      <th>Python_Count</th>\n",
       "      <th>R_Count</th>\n",
       "      <th>SQL_Count</th>\n",
       "    </tr>\n",
       "    <tr>\n",
       "      <th>Q4</th>\n",
       "      <th></th>\n",
       "      <th></th>\n",
       "      <th></th>\n",
       "    </tr>\n",
       "  </thead>\n",
       "  <tbody>\n",
       "    <tr>\n",
       "      <th>Doctoral degree</th>\n",
       "      <td>0.732797</td>\n",
       "      <td>0.362526</td>\n",
       "      <td>0.285672</td>\n",
       "    </tr>\n",
       "    <tr>\n",
       "      <th>Professional degree</th>\n",
       "      <td>0.686144</td>\n",
       "      <td>0.348915</td>\n",
       "      <td>0.420701</td>\n",
       "    </tr>\n",
       "    <tr>\n",
       "      <th>Master’s degree</th>\n",
       "      <td>0.683648</td>\n",
       "      <td>0.324182</td>\n",
       "      <td>0.383326</td>\n",
       "    </tr>\n",
       "    <tr>\n",
       "      <th>Bachelor’s degree</th>\n",
       "      <td>0.647748</td>\n",
       "      <td>0.216716</td>\n",
       "      <td>0.349569</td>\n",
       "    </tr>\n",
       "    <tr>\n",
       "      <th>Some college/university study without earning a bachelor’s degree</th>\n",
       "      <td>0.601861</td>\n",
       "      <td>0.154085</td>\n",
       "      <td>0.286453</td>\n",
       "    </tr>\n",
       "    <tr>\n",
       "      <th>I prefer not to answer</th>\n",
       "      <td>0.457971</td>\n",
       "      <td>0.110145</td>\n",
       "      <td>0.246377</td>\n",
       "    </tr>\n",
       "    <tr>\n",
       "      <th>No formal education past high school</th>\n",
       "      <td>0.392241</td>\n",
       "      <td>0.077586</td>\n",
       "      <td>0.245690</td>\n",
       "    </tr>\n",
       "  </tbody>\n",
       "</table>\n",
       "</div>"
      ],
      "text/plain": [
       "                                                    Python_Count   R_Count  \\\n",
       "Q4                                                                           \n",
       "Doctoral degree                                         0.732797  0.362526   \n",
       "Professional degree                                     0.686144  0.348915   \n",
       "Master’s degree                                         0.683648  0.324182   \n",
       "Bachelor’s degree                                       0.647748  0.216716   \n",
       "Some college/university study without earning a...      0.601861  0.154085   \n",
       "I prefer not to answer                                  0.457971  0.110145   \n",
       "No formal education past high school                    0.392241  0.077586   \n",
       "\n",
       "                                                    SQL_Count  \n",
       "Q4                                                             \n",
       "Doctoral degree                                      0.285672  \n",
       "Professional degree                                  0.420701  \n",
       "Master’s degree                                      0.383326  \n",
       "Bachelor’s degree                                    0.349569  \n",
       "Some college/university study without earning a...   0.286453  \n",
       "I prefer not to answer                               0.246377  \n",
       "No formal education past high school                 0.245690  "
      ]
     },
     "execution_count": 93,
     "metadata": {},
     "output_type": "execute_result"
    }
   ],
   "source": [
    "# The rate of programming tools by education\n",
    "toolEducation = MCR_original.groupby('Q4')[['Python_Count','R_Count','SQL_Count']].mean().\\\n",
    "sort_values(by='Python_Count', ascending = False)\n",
    "toolEducation"
   ]
  },
  {
   "cell_type": "code",
   "execution_count": 94,
   "metadata": {},
   "outputs": [],
   "source": [
    "toolEducation.reset_index(level=0, inplace=True)\n",
    "python_E = toolEducation.iloc[:,[0,1]].rename(columns={\"Python_Count\": \"Mean\"})\n",
    "r_E = toolEducation.iloc[:,[0,2]].rename(columns={\"R_Count\": \"Mean\"})\n",
    "sql_E = toolEducation.iloc[:,[0,3]].rename(columns={\"SQL_Count\": \"Mean\"})\n",
    "python_E['tool'] = 'Python'\n",
    "r_E['tool'] = 'R'\n",
    "sql_E['tool'] = 'SQL'\n",
    "MCR_tool_E = python_E.append(r_E).append(sql_E)"
   ]
  },
  {
   "cell_type": "code",
   "execution_count": 95,
   "metadata": {},
   "outputs": [
    {
     "data": {
      "application/vnd.plotly.v1+json": {
       "config": {
        "linkText": "Export to plot.ly",
        "plotlyServerURL": "https://plot.ly",
        "showLink": false
       },
       "data": [
        {
         "marker": {
          "color": "#3D9970",
          "line": {
           "color": "black",
           "width": 1
          }
         },
         "name": "Python",
         "type": "bar",
         "uid": "2131374a-bcd1-4963-884b-e8e4c127630b",
         "x": [
          "Doctoral degree",
          "Professional degree",
          "Master’s degree",
          "Bachelor’s degree",
          "Some college/university study without earning a bachelor’s degree",
          "I prefer not to answer",
          "No formal education past high school"
         ],
         "y": [
          0.7327971403038427,
          0.6861435726210351,
          0.6836480884385076,
          0.6477481293237329,
          0.6018614270941055,
          0.4579710144927536,
          0.3922413793103448
         ]
        },
        {
         "marker": {
          "color": "#FF4136",
          "line": {
           "color": "black",
           "width": 1
          }
         },
         "name": "R",
         "type": "bar",
         "uid": "bf516a77-aa45-4b65-a25d-e978bd64c011",
         "x": [
          "Doctoral degree",
          "Professional degree",
          "Master’s degree",
          "Bachelor’s degree",
          "Some college/university study without earning a bachelor’s degree",
          "I prefer not to answer",
          "No formal education past high school"
         ],
         "y": [
          0.3625260649389336,
          0.34891485809682804,
          0.32418240442192536,
          0.21671608075674148,
          0.15408479834539815,
          0.11014492753623188,
          0.07758620689655173
         ]
        },
        {
         "marker": {
          "color": "#FF851B",
          "line": {
           "color": "black",
           "width": 1
          }
         },
         "name": "SQL",
         "type": "bar",
         "uid": "96dd7d9a-30bd-4b00-a39a-846a2e26eebe",
         "x": [
          "Doctoral degree",
          "Professional degree",
          "Master’s degree",
          "Bachelor’s degree",
          "Some college/university study without earning a bachelor’s degree",
          "I prefer not to answer",
          "No formal education past high school"
         ],
         "y": [
          0.2856717307119452,
          0.42070116861435725,
          0.3833256563795486,
          0.3495693915007765,
          0.28645294725956566,
          0.2463768115942029,
          0.24568965517241378
         ]
        }
       ],
       "layout": {
        "barmode": "group",
        "showlegend": true,
        "title": {
         "text": "Rate of Programming Tool Usage by Education"
        },
        "xaxis": {
         "title": {
          "text": "Education"
         }
        },
        "yaxis": {
         "title": {
          "text": "Rate"
         }
        }
       }
      },
      "text/html": [
       "<div id=\"25f8a08c-16b2-4a82-9c73-58e2c71a2f51\" style=\"height: 525px; width: 100%;\" class=\"plotly-graph-div\"></div><script type=\"text/javascript\">require([\"plotly\"], function(Plotly) { window.PLOTLYENV=window.PLOTLYENV || {};window.PLOTLYENV.BASE_URL=\"https://plot.ly\";\n",
       "if (document.getElementById(\"25f8a08c-16b2-4a82-9c73-58e2c71a2f51\")) {\n",
       "    Plotly.newPlot(\"25f8a08c-16b2-4a82-9c73-58e2c71a2f51\", [{\"marker\": {\"color\": \"#3D9970\", \"line\": {\"color\": \"black\", \"width\": 1}}, \"name\": \"Python\", \"x\": [\"Doctoral degree\", \"Professional degree\", \"Master\\u2019s degree\", \"Bachelor\\u2019s degree\", \"Some college/university study without earning a bachelor\\u2019s degree\", \"I prefer not to answer\", \"No formal education past high school\"], \"y\": [0.7327971403038427, 0.6861435726210351, 0.6836480884385076, 0.6477481293237329, 0.6018614270941055, 0.4579710144927536, 0.3922413793103448], \"type\": \"bar\", \"uid\": \"eac9a8b2-5c0e-48ac-b6ca-365420f31eb9\"}, {\"marker\": {\"color\": \"#FF4136\", \"line\": {\"color\": \"black\", \"width\": 1}}, \"name\": \"R\", \"x\": [\"Doctoral degree\", \"Professional degree\", \"Master\\u2019s degree\", \"Bachelor\\u2019s degree\", \"Some college/university study without earning a bachelor\\u2019s degree\", \"I prefer not to answer\", \"No formal education past high school\"], \"y\": [0.3625260649389336, 0.34891485809682804, 0.32418240442192536, 0.21671608075674148, 0.15408479834539815, 0.11014492753623188, 0.07758620689655173], \"type\": \"bar\", \"uid\": \"a4afba5a-23f9-4a54-84be-9fdbbd759024\"}, {\"marker\": {\"color\": \"#FF851B\", \"line\": {\"color\": \"black\", \"width\": 1}}, \"name\": \"SQL\", \"x\": [\"Doctoral degree\", \"Professional degree\", \"Master\\u2019s degree\", \"Bachelor\\u2019s degree\", \"Some college/university study without earning a bachelor\\u2019s degree\", \"I prefer not to answer\", \"No formal education past high school\"], \"y\": [0.2856717307119452, 0.42070116861435725, 0.3833256563795486, 0.3495693915007765, 0.28645294725956566, 0.2463768115942029, 0.24568965517241378], \"type\": \"bar\", \"uid\": \"e8a2e960-0287-4bbd-b457-579fae141611\"}], {\"barmode\": \"group\", \"showlegend\": true, \"title\": {\"text\": \"Rate of Programming Tool Usage by Education\"}, \"xaxis\": {\"title\": {\"text\": \"Education\"}}, \"yaxis\": {\"title\": {\"text\": \"Rate\"}}}, {\"showLink\": false, \"linkText\": \"Export to plot.ly\", \"plotlyServerURL\": \"https://plot.ly\"}); \n",
       "}\n",
       "});</script><script type=\"text/javascript\">window.addEventListener(\"resize\", function(){if (document.getElementById(\"25f8a08c-16b2-4a82-9c73-58e2c71a2f51\")) {window._Plotly.Plots.resize(document.getElementById(\"25f8a08c-16b2-4a82-9c73-58e2c71a2f51\"));};})</script>"
      ],
      "text/vnd.plotly.v1+html": [
       "<div id=\"25f8a08c-16b2-4a82-9c73-58e2c71a2f51\" style=\"height: 525px; width: 100%;\" class=\"plotly-graph-div\"></div><script type=\"text/javascript\">require([\"plotly\"], function(Plotly) { window.PLOTLYENV=window.PLOTLYENV || {};window.PLOTLYENV.BASE_URL=\"https://plot.ly\";\n",
       "if (document.getElementById(\"25f8a08c-16b2-4a82-9c73-58e2c71a2f51\")) {\n",
       "    Plotly.newPlot(\"25f8a08c-16b2-4a82-9c73-58e2c71a2f51\", [{\"marker\": {\"color\": \"#3D9970\", \"line\": {\"color\": \"black\", \"width\": 1}}, \"name\": \"Python\", \"x\": [\"Doctoral degree\", \"Professional degree\", \"Master\\u2019s degree\", \"Bachelor\\u2019s degree\", \"Some college/university study without earning a bachelor\\u2019s degree\", \"I prefer not to answer\", \"No formal education past high school\"], \"y\": [0.7327971403038427, 0.6861435726210351, 0.6836480884385076, 0.6477481293237329, 0.6018614270941055, 0.4579710144927536, 0.3922413793103448], \"type\": \"bar\", \"uid\": \"eac9a8b2-5c0e-48ac-b6ca-365420f31eb9\"}, {\"marker\": {\"color\": \"#FF4136\", \"line\": {\"color\": \"black\", \"width\": 1}}, \"name\": \"R\", \"x\": [\"Doctoral degree\", \"Professional degree\", \"Master\\u2019s degree\", \"Bachelor\\u2019s degree\", \"Some college/university study without earning a bachelor\\u2019s degree\", \"I prefer not to answer\", \"No formal education past high school\"], \"y\": [0.3625260649389336, 0.34891485809682804, 0.32418240442192536, 0.21671608075674148, 0.15408479834539815, 0.11014492753623188, 0.07758620689655173], \"type\": \"bar\", \"uid\": \"a4afba5a-23f9-4a54-84be-9fdbbd759024\"}, {\"marker\": {\"color\": \"#FF851B\", \"line\": {\"color\": \"black\", \"width\": 1}}, \"name\": \"SQL\", \"x\": [\"Doctoral degree\", \"Professional degree\", \"Master\\u2019s degree\", \"Bachelor\\u2019s degree\", \"Some college/university study without earning a bachelor\\u2019s degree\", \"I prefer not to answer\", \"No formal education past high school\"], \"y\": [0.2856717307119452, 0.42070116861435725, 0.3833256563795486, 0.3495693915007765, 0.28645294725956566, 0.2463768115942029, 0.24568965517241378], \"type\": \"bar\", \"uid\": \"e8a2e960-0287-4bbd-b457-579fae141611\"}], {\"barmode\": \"group\", \"showlegend\": true, \"title\": {\"text\": \"Rate of Programming Tool Usage by Education\"}, \"xaxis\": {\"title\": {\"text\": \"Education\"}}, \"yaxis\": {\"title\": {\"text\": \"Rate\"}}}, {\"showLink\": false, \"linkText\": \"Export to plot.ly\", \"plotlyServerURL\": \"https://plot.ly\"}); \n",
       "}\n",
       "});</script><script type=\"text/javascript\">window.addEventListener(\"resize\", function(){if (document.getElementById(\"25f8a08c-16b2-4a82-9c73-58e2c71a2f51\")) {window._Plotly.Plots.resize(document.getElementById(\"25f8a08c-16b2-4a82-9c73-58e2c71a2f51\"));};})</script>"
      ]
     },
     "metadata": {},
     "output_type": "display_data"
    }
   ],
   "source": [
    "grouped_bar_plot(MCR_tool_E['Q4'].unique(), \\\n",
    "                                MCR_tool_E['Mean'][MCR_tool_E['tool']==\"Python\"],\\\n",
    "                                MCR_tool_E['Mean'][MCR_tool_E['tool']==\"R\"],\\\n",
    "                                MCR_tool_E['Mean'][MCR_tool_E['tool']==\"SQL\"], \\\n",
    "                                'Education', 'Rate', 'Rate of Programming Tool Usage by Education', True)"
   ]
  },
  {
   "cell_type": "markdown",
   "metadata": {},
   "source": [
    "For Phd students, R usage is even higher than SQL."
   ]
  },
  {
   "cell_type": "code",
   "execution_count": 96,
   "metadata": {},
   "outputs": [],
   "source": [
    "# tool by major"
   ]
  },
  {
   "cell_type": "code",
   "execution_count": 97,
   "metadata": {},
   "outputs": [
    {
     "data": {
      "text/html": [
       "<div>\n",
       "<style scoped>\n",
       "    .dataframe tbody tr th:only-of-type {\n",
       "        vertical-align: middle;\n",
       "    }\n",
       "\n",
       "    .dataframe tbody tr th {\n",
       "        vertical-align: top;\n",
       "    }\n",
       "\n",
       "    .dataframe thead th {\n",
       "        text-align: right;\n",
       "    }\n",
       "</style>\n",
       "<table border=\"1\" class=\"dataframe\">\n",
       "  <thead>\n",
       "    <tr style=\"text-align: right;\">\n",
       "      <th></th>\n",
       "      <th>Python_Count</th>\n",
       "      <th>R_Count</th>\n",
       "      <th>SQL_Count</th>\n",
       "    </tr>\n",
       "    <tr>\n",
       "      <th>Q5</th>\n",
       "      <th></th>\n",
       "      <th></th>\n",
       "      <th></th>\n",
       "    </tr>\n",
       "  </thead>\n",
       "  <tbody>\n",
       "    <tr>\n",
       "      <th>Physics or astronomy</th>\n",
       "      <td>0.789189</td>\n",
       "      <td>0.264865</td>\n",
       "      <td>0.344144</td>\n",
       "    </tr>\n",
       "    <tr>\n",
       "      <th>Engineering (non-computer focused)</th>\n",
       "      <td>0.707962</td>\n",
       "      <td>0.263698</td>\n",
       "      <td>0.320378</td>\n",
       "    </tr>\n",
       "    <tr>\n",
       "      <th>Environmental science or geology</th>\n",
       "      <td>0.695652</td>\n",
       "      <td>0.422925</td>\n",
       "      <td>0.355731</td>\n",
       "    </tr>\n",
       "    <tr>\n",
       "      <th>Computer science (software engineering, etc.)</th>\n",
       "      <td>0.687169</td>\n",
       "      <td>0.186214</td>\n",
       "      <td>0.345281</td>\n",
       "    </tr>\n",
       "    <tr>\n",
       "      <th>Medical or life sciences (biology, chemistry, medicine, etc.)</th>\n",
       "      <td>0.684271</td>\n",
       "      <td>0.431688</td>\n",
       "      <td>0.298507</td>\n",
       "    </tr>\n",
       "    <tr>\n",
       "      <th>Other</th>\n",
       "      <td>0.664935</td>\n",
       "      <td>0.329870</td>\n",
       "      <td>0.368831</td>\n",
       "    </tr>\n",
       "    <tr>\n",
       "      <th>Information technology, networking, or system administration</th>\n",
       "      <td>0.659864</td>\n",
       "      <td>0.206025</td>\n",
       "      <td>0.386783</td>\n",
       "    </tr>\n",
       "    <tr>\n",
       "      <th>Mathematics or statistics</th>\n",
       "      <td>0.655593</td>\n",
       "      <td>0.505763</td>\n",
       "      <td>0.396271</td>\n",
       "    </tr>\n",
       "    <tr>\n",
       "      <th>Humanities (history, literature, philosophy, etc.)</th>\n",
       "      <td>0.654275</td>\n",
       "      <td>0.353160</td>\n",
       "      <td>0.442379</td>\n",
       "    </tr>\n",
       "    <tr>\n",
       "      <th>Social sciences (anthropology, psychology, sociology, etc.)</th>\n",
       "      <td>0.635379</td>\n",
       "      <td>0.510830</td>\n",
       "      <td>0.395307</td>\n",
       "    </tr>\n",
       "    <tr>\n",
       "      <th>A business discipline (accounting, economics, finance, etc.)</th>\n",
       "      <td>0.611949</td>\n",
       "      <td>0.433277</td>\n",
       "      <td>0.434394</td>\n",
       "    </tr>\n",
       "    <tr>\n",
       "      <th>Fine arts or performing arts</th>\n",
       "      <td>0.597701</td>\n",
       "      <td>0.287356</td>\n",
       "      <td>0.425287</td>\n",
       "    </tr>\n",
       "    <tr>\n",
       "      <th>I never declared a major</th>\n",
       "      <td>0.531250</td>\n",
       "      <td>0.156250</td>\n",
       "      <td>0.242188</td>\n",
       "    </tr>\n",
       "  </tbody>\n",
       "</table>\n",
       "</div>"
      ],
      "text/plain": [
       "                                                    Python_Count   R_Count  \\\n",
       "Q5                                                                           \n",
       "Physics or astronomy                                    0.789189  0.264865   \n",
       "Engineering (non-computer focused)                      0.707962  0.263698   \n",
       "Environmental science or geology                        0.695652  0.422925   \n",
       "Computer science (software engineering, etc.)           0.687169  0.186214   \n",
       "Medical or life sciences (biology, chemistry, m...      0.684271  0.431688   \n",
       "Other                                                   0.664935  0.329870   \n",
       "Information technology, networking, or system a...      0.659864  0.206025   \n",
       "Mathematics or statistics                               0.655593  0.505763   \n",
       "Humanities (history, literature, philosophy, etc.)      0.654275  0.353160   \n",
       "Social sciences (anthropology, psychology, soci...      0.635379  0.510830   \n",
       "A business discipline (accounting, economics, f...      0.611949  0.433277   \n",
       "Fine arts or performing arts                            0.597701  0.287356   \n",
       "I never declared a major                                0.531250  0.156250   \n",
       "\n",
       "                                                    SQL_Count  \n",
       "Q5                                                             \n",
       "Physics or astronomy                                 0.344144  \n",
       "Engineering (non-computer focused)                   0.320378  \n",
       "Environmental science or geology                     0.355731  \n",
       "Computer science (software engineering, etc.)        0.345281  \n",
       "Medical or life sciences (biology, chemistry, m...   0.298507  \n",
       "Other                                                0.368831  \n",
       "Information technology, networking, or system a...   0.386783  \n",
       "Mathematics or statistics                            0.396271  \n",
       "Humanities (history, literature, philosophy, etc.)   0.442379  \n",
       "Social sciences (anthropology, psychology, soci...   0.395307  \n",
       "A business discipline (accounting, economics, f...   0.434394  \n",
       "Fine arts or performing arts                         0.425287  \n",
       "I never declared a major                             0.242188  "
      ]
     },
     "execution_count": 97,
     "metadata": {},
     "output_type": "execute_result"
    }
   ],
   "source": [
    "toolMajor = MCR_original.groupby('Q5')[['Python_Count','R_Count','SQL_Count']].mean().\\\n",
    "sort_values(by='Python_Count', ascending = False)\n",
    "toolMajor"
   ]
  },
  {
   "cell_type": "code",
   "execution_count": 98,
   "metadata": {},
   "outputs": [
    {
     "data": {
      "application/vnd.plotly.v1+json": {
       "config": {
        "linkText": "Export to plot.ly",
        "plotlyServerURL": "https://plot.ly",
        "showLink": false
       },
       "data": [
        {
         "marker": {
          "color": "#3D9970",
          "line": {
           "color": "black",
           "width": 1
          }
         },
         "name": "Python",
         "type": "bar",
         "uid": "cdd51a62-01fc-4699-89aa-27c97e83cf6d",
         "x": [
          "Physics or astronomy",
          "Engineering (non-computer focused)",
          "Environmental science or geology",
          "Computer science (software engineering, etc.)",
          "Medical or life sciences (biology, chemistry, medicine, etc.)",
          "Other",
          "Information technology, networking, or system administration",
          "Mathematics or statistics",
          "Humanities (history, literature, philosophy, etc.)",
          "Social sciences (anthropology, psychology, sociology, etc.)",
          "A business discipline (accounting, economics, finance, etc.)",
          "Fine arts or performing arts",
          "I never declared a major"
         ],
         "y": [
          0.7891891891891892,
          0.7079622132253711,
          0.6956521739130435,
          0.6871686108165429,
          0.6842709529276694,
          0.6649350649350649,
          0.6598639455782312,
          0.655593220338983,
          0.654275092936803,
          0.6353790613718412,
          0.6119486320491345,
          0.5977011494252874,
          0.53125
         ]
        },
        {
         "marker": {
          "color": "#FF4136",
          "line": {
           "color": "black",
           "width": 1
          }
         },
         "name": "R",
         "type": "bar",
         "uid": "32ded984-f12d-460b-961c-33f4471e519a",
         "x": [
          "Physics or astronomy",
          "Engineering (non-computer focused)",
          "Environmental science or geology",
          "Computer science (software engineering, etc.)",
          "Medical or life sciences (biology, chemistry, medicine, etc.)",
          "Other",
          "Information technology, networking, or system administration",
          "Mathematics or statistics",
          "Humanities (history, literature, philosophy, etc.)",
          "Social sciences (anthropology, psychology, sociology, etc.)",
          "A business discipline (accounting, economics, finance, etc.)",
          "Fine arts or performing arts",
          "I never declared a major"
         ],
         "y": [
          0.2648648648648649,
          0.263697705802969,
          0.42292490118577075,
          0.18621420996818663,
          0.4316877152698048,
          0.32987012987012987,
          0.20602526724975703,
          0.5057627118644068,
          0.35315985130111527,
          0.5108303249097473,
          0.4332774986041318,
          0.28735632183908044,
          0.15625
         ]
        },
        {
         "marker": {
          "color": "#FF851B",
          "line": {
           "color": "black",
           "width": 1
          }
         },
         "name": "SQL",
         "type": "bar",
         "uid": "046f0a1a-71b9-41a0-90a6-e34967b8b0f1",
         "x": [
          "Physics or astronomy",
          "Engineering (non-computer focused)",
          "Environmental science or geology",
          "Computer science (software engineering, etc.)",
          "Medical or life sciences (biology, chemistry, medicine, etc.)",
          "Other",
          "Information technology, networking, or system administration",
          "Mathematics or statistics",
          "Humanities (history, literature, philosophy, etc.)",
          "Social sciences (anthropology, psychology, sociology, etc.)",
          "A business discipline (accounting, economics, finance, etc.)",
          "Fine arts or performing arts",
          "I never declared a major"
         ],
         "y": [
          0.3441441441441441,
          0.3203778677462888,
          0.3557312252964427,
          0.3452810180275716,
          0.29850746268656714,
          0.36883116883116884,
          0.3867832847424684,
          0.396271186440678,
          0.4423791821561338,
          0.3953068592057762,
          0.434394193188163,
          0.42528735632183906,
          0.2421875
         ]
        }
       ],
       "layout": {
        "barmode": "group",
        "showlegend": true,
        "title": {
         "text": "Rate of Programming Tool Usage by Undergrad Major"
        },
        "xaxis": {
         "title": {
          "text": ""
         }
        },
        "yaxis": {
         "title": {
          "text": "Rate"
         }
        }
       }
      },
      "text/html": [
       "<div id=\"8eaf136f-f07f-4064-9b0f-d6f68e7fca09\" style=\"height: 525px; width: 100%;\" class=\"plotly-graph-div\"></div><script type=\"text/javascript\">require([\"plotly\"], function(Plotly) { window.PLOTLYENV=window.PLOTLYENV || {};window.PLOTLYENV.BASE_URL=\"https://plot.ly\";\n",
       "if (document.getElementById(\"8eaf136f-f07f-4064-9b0f-d6f68e7fca09\")) {\n",
       "    Plotly.newPlot(\"8eaf136f-f07f-4064-9b0f-d6f68e7fca09\", [{\"marker\": {\"color\": \"#3D9970\", \"line\": {\"color\": \"black\", \"width\": 1}}, \"name\": \"Python\", \"x\": [\"Physics or astronomy\", \"Engineering (non-computer focused)\", \"Environmental science or geology\", \"Computer science (software engineering, etc.)\", \"Medical or life sciences (biology, chemistry, medicine, etc.)\", \"Other\", \"Information technology, networking, or system administration\", \"Mathematics or statistics\", \"Humanities (history, literature, philosophy, etc.)\", \"Social sciences (anthropology, psychology, sociology, etc.)\", \"A business discipline (accounting, economics, finance, etc.)\", \"Fine arts or performing arts\", \"I never declared a major\"], \"y\": [0.7891891891891892, 0.7079622132253711, 0.6956521739130435, 0.6871686108165429, 0.6842709529276694, 0.6649350649350649, 0.6598639455782312, 0.655593220338983, 0.654275092936803, 0.6353790613718412, 0.6119486320491345, 0.5977011494252874, 0.53125], \"type\": \"bar\", \"uid\": \"efd94b94-2515-49cc-bfa8-c9bff000aed2\"}, {\"marker\": {\"color\": \"#FF4136\", \"line\": {\"color\": \"black\", \"width\": 1}}, \"name\": \"R\", \"x\": [\"Physics or astronomy\", \"Engineering (non-computer focused)\", \"Environmental science or geology\", \"Computer science (software engineering, etc.)\", \"Medical or life sciences (biology, chemistry, medicine, etc.)\", \"Other\", \"Information technology, networking, or system administration\", \"Mathematics or statistics\", \"Humanities (history, literature, philosophy, etc.)\", \"Social sciences (anthropology, psychology, sociology, etc.)\", \"A business discipline (accounting, economics, finance, etc.)\", \"Fine arts or performing arts\", \"I never declared a major\"], \"y\": [0.2648648648648649, 0.263697705802969, 0.42292490118577075, 0.18621420996818663, 0.4316877152698048, 0.32987012987012987, 0.20602526724975703, 0.5057627118644068, 0.35315985130111527, 0.5108303249097473, 0.4332774986041318, 0.28735632183908044, 0.15625], \"type\": \"bar\", \"uid\": \"25df2c66-5377-443b-b5e1-cb12944d71dd\"}, {\"marker\": {\"color\": \"#FF851B\", \"line\": {\"color\": \"black\", \"width\": 1}}, \"name\": \"SQL\", \"x\": [\"Physics or astronomy\", \"Engineering (non-computer focused)\", \"Environmental science or geology\", \"Computer science (software engineering, etc.)\", \"Medical or life sciences (biology, chemistry, medicine, etc.)\", \"Other\", \"Information technology, networking, or system administration\", \"Mathematics or statistics\", \"Humanities (history, literature, philosophy, etc.)\", \"Social sciences (anthropology, psychology, sociology, etc.)\", \"A business discipline (accounting, economics, finance, etc.)\", \"Fine arts or performing arts\", \"I never declared a major\"], \"y\": [0.3441441441441441, 0.3203778677462888, 0.3557312252964427, 0.3452810180275716, 0.29850746268656714, 0.36883116883116884, 0.3867832847424684, 0.396271186440678, 0.4423791821561338, 0.3953068592057762, 0.434394193188163, 0.42528735632183906, 0.2421875], \"type\": \"bar\", \"uid\": \"67e65dc5-9361-4927-ad2d-544a4d6c9ff9\"}], {\"barmode\": \"group\", \"showlegend\": true, \"title\": {\"text\": \"Rate of Programming Tool Usage by Undergrad Major\"}, \"xaxis\": {\"title\": {\"text\": \"\"}}, \"yaxis\": {\"title\": {\"text\": \"Rate\"}}}, {\"showLink\": false, \"linkText\": \"Export to plot.ly\", \"plotlyServerURL\": \"https://plot.ly\"}); \n",
       "}\n",
       "});</script><script type=\"text/javascript\">window.addEventListener(\"resize\", function(){if (document.getElementById(\"8eaf136f-f07f-4064-9b0f-d6f68e7fca09\")) {window._Plotly.Plots.resize(document.getElementById(\"8eaf136f-f07f-4064-9b0f-d6f68e7fca09\"));};})</script>"
      ],
      "text/vnd.plotly.v1+html": [
       "<div id=\"8eaf136f-f07f-4064-9b0f-d6f68e7fca09\" style=\"height: 525px; width: 100%;\" class=\"plotly-graph-div\"></div><script type=\"text/javascript\">require([\"plotly\"], function(Plotly) { window.PLOTLYENV=window.PLOTLYENV || {};window.PLOTLYENV.BASE_URL=\"https://plot.ly\";\n",
       "if (document.getElementById(\"8eaf136f-f07f-4064-9b0f-d6f68e7fca09\")) {\n",
       "    Plotly.newPlot(\"8eaf136f-f07f-4064-9b0f-d6f68e7fca09\", [{\"marker\": {\"color\": \"#3D9970\", \"line\": {\"color\": \"black\", \"width\": 1}}, \"name\": \"Python\", \"x\": [\"Physics or astronomy\", \"Engineering (non-computer focused)\", \"Environmental science or geology\", \"Computer science (software engineering, etc.)\", \"Medical or life sciences (biology, chemistry, medicine, etc.)\", \"Other\", \"Information technology, networking, or system administration\", \"Mathematics or statistics\", \"Humanities (history, literature, philosophy, etc.)\", \"Social sciences (anthropology, psychology, sociology, etc.)\", \"A business discipline (accounting, economics, finance, etc.)\", \"Fine arts or performing arts\", \"I never declared a major\"], \"y\": [0.7891891891891892, 0.7079622132253711, 0.6956521739130435, 0.6871686108165429, 0.6842709529276694, 0.6649350649350649, 0.6598639455782312, 0.655593220338983, 0.654275092936803, 0.6353790613718412, 0.6119486320491345, 0.5977011494252874, 0.53125], \"type\": \"bar\", \"uid\": \"efd94b94-2515-49cc-bfa8-c9bff000aed2\"}, {\"marker\": {\"color\": \"#FF4136\", \"line\": {\"color\": \"black\", \"width\": 1}}, \"name\": \"R\", \"x\": [\"Physics or astronomy\", \"Engineering (non-computer focused)\", \"Environmental science or geology\", \"Computer science (software engineering, etc.)\", \"Medical or life sciences (biology, chemistry, medicine, etc.)\", \"Other\", \"Information technology, networking, or system administration\", \"Mathematics or statistics\", \"Humanities (history, literature, philosophy, etc.)\", \"Social sciences (anthropology, psychology, sociology, etc.)\", \"A business discipline (accounting, economics, finance, etc.)\", \"Fine arts or performing arts\", \"I never declared a major\"], \"y\": [0.2648648648648649, 0.263697705802969, 0.42292490118577075, 0.18621420996818663, 0.4316877152698048, 0.32987012987012987, 0.20602526724975703, 0.5057627118644068, 0.35315985130111527, 0.5108303249097473, 0.4332774986041318, 0.28735632183908044, 0.15625], \"type\": \"bar\", \"uid\": \"25df2c66-5377-443b-b5e1-cb12944d71dd\"}, {\"marker\": {\"color\": \"#FF851B\", \"line\": {\"color\": \"black\", \"width\": 1}}, \"name\": \"SQL\", \"x\": [\"Physics or astronomy\", \"Engineering (non-computer focused)\", \"Environmental science or geology\", \"Computer science (software engineering, etc.)\", \"Medical or life sciences (biology, chemistry, medicine, etc.)\", \"Other\", \"Information technology, networking, or system administration\", \"Mathematics or statistics\", \"Humanities (history, literature, philosophy, etc.)\", \"Social sciences (anthropology, psychology, sociology, etc.)\", \"A business discipline (accounting, economics, finance, etc.)\", \"Fine arts or performing arts\", \"I never declared a major\"], \"y\": [0.3441441441441441, 0.3203778677462888, 0.3557312252964427, 0.3452810180275716, 0.29850746268656714, 0.36883116883116884, 0.3867832847424684, 0.396271186440678, 0.4423791821561338, 0.3953068592057762, 0.434394193188163, 0.42528735632183906, 0.2421875], \"type\": \"bar\", \"uid\": \"67e65dc5-9361-4927-ad2d-544a4d6c9ff9\"}], {\"barmode\": \"group\", \"showlegend\": true, \"title\": {\"text\": \"Rate of Programming Tool Usage by Undergrad Major\"}, \"xaxis\": {\"title\": {\"text\": \"\"}}, \"yaxis\": {\"title\": {\"text\": \"Rate\"}}}, {\"showLink\": false, \"linkText\": \"Export to plot.ly\", \"plotlyServerURL\": \"https://plot.ly\"}); \n",
       "}\n",
       "});</script><script type=\"text/javascript\">window.addEventListener(\"resize\", function(){if (document.getElementById(\"8eaf136f-f07f-4064-9b0f-d6f68e7fca09\")) {window._Plotly.Plots.resize(document.getElementById(\"8eaf136f-f07f-4064-9b0f-d6f68e7fca09\"));};})</script>"
      ]
     },
     "metadata": {},
     "output_type": "display_data"
    }
   ],
   "source": [
    "toolMajor.reset_index(level=0, inplace=True)\n",
    "python_M = toolMajor.iloc[:,[0,1]].rename(columns={\"Python_Count\": \"Mean\"})\n",
    "r_M = toolMajor.iloc[:,[0,2]].rename(columns={\"R_Count\": \"Mean\"})\n",
    "sql_M = toolMajor.iloc[:,[0,3]].rename(columns={\"SQL_Count\": \"Mean\"})\n",
    "python_M['tool'] = 'Python'\n",
    "r_M['tool'] = 'R'\n",
    "sql_M['tool'] = 'SQL'\n",
    "MCR_tool_M = python_M.append(r_M).append(sql_M)\n",
    "\n",
    "grouped_bar_plot(MCR_tool_M['Q5'].unique(), \\\n",
    "                                MCR_tool_M['Mean'][MCR_tool_M['tool']==\"Python\"],\\\n",
    "                                MCR_tool_M['Mean'][MCR_tool_M['tool']==\"R\"],\\\n",
    "                                MCR_tool_M['Mean'][MCR_tool_M['tool']==\"SQL\"], \\\n",
    "                                '', 'Rate', 'Rate of Programming Tool Usage by Undergrad Major', True)"
   ]
  },
  {
   "cell_type": "markdown",
   "metadata": {},
   "source": [
    "Respondents major on Physics or astronomy having the highest rate of python usage. While for R, Math/Statistics and Social science students use R the most."
   ]
  },
  {
   "cell_type": "markdown",
   "metadata": {},
   "source": [
    "We are also curious to explore: In which area these different undergard major respondents use Python the most?"
   ]
  },
  {
   "cell_type": "code",
   "execution_count": 99,
   "metadata": {},
   "outputs": [],
   "source": [
    "MCR_New = MCR_original[MCR_original.Python_Count == 1]\n",
    "MCR_New['Q11_1'] = MCR_New.Q11_Part_1.apply(lambda x: 1 if \\\n",
    "                                    x == 'Analyze and understand data to influence product or business decisions' else 0)\n",
    "MCR_New['Q11_2'] = MCR_New.Q11_Part_2.apply(lambda x: 1 if \\\n",
    "     x == 'Build and/or run a machine learning service that operationally improves my product or workflows' else 0)\n",
    "MCR_New['Q11_3'] = MCR_New.Q11_Part_3.apply(lambda x: 1 if x == 'Build and/or run the data infrastructure that my business \\\n",
    "uses for storing, analyzing, and operationalizing data' else 0)\n",
    "MCR_New['Q11_4'] = MCR_New.Q11_Part_4.apply(lambda x: 1 if \\\n",
    "                                    x == 'Build prototypes to explore applying machine learning to new areas' else 0)\n",
    "MCR_New['Q11_5'] = MCR_New.Q11_Part_5.apply(lambda x: 1 if \\\n",
    "                                    x == 'Do research that advances the state of the art of machine learning' else 0)\n",
    "MCR_New['Q11_6'] = MCR_New.Q11_Part_6.apply(lambda x: 1 if \\\n",
    "                                    x == 'None of these activities are an important part of my role at work' else 0)\n",
    "majorWork = MCR_New.groupby('Q5')[['Q11_1','Q11_2','Q11_3','Q11_4','Q11_5','Q11_6']].mean()"
   ]
  },
  {
   "cell_type": "code",
   "execution_count": 100,
   "metadata": {},
   "outputs": [
    {
     "data": {
      "text/html": [
       "<div>\n",
       "<style scoped>\n",
       "    .dataframe tbody tr th:only-of-type {\n",
       "        vertical-align: middle;\n",
       "    }\n",
       "\n",
       "    .dataframe tbody tr th {\n",
       "        vertical-align: top;\n",
       "    }\n",
       "\n",
       "    .dataframe thead th {\n",
       "        text-align: right;\n",
       "    }\n",
       "</style>\n",
       "<table border=\"1\" class=\"dataframe\">\n",
       "  <thead>\n",
       "    <tr style=\"text-align: right;\">\n",
       "      <th></th>\n",
       "      <th>Q11_1</th>\n",
       "      <th>Q11_2</th>\n",
       "      <th>Q11_3</th>\n",
       "      <th>Q11_4</th>\n",
       "      <th>Q11_5</th>\n",
       "      <th>Q11_6</th>\n",
       "    </tr>\n",
       "    <tr>\n",
       "      <th>Q5</th>\n",
       "      <th></th>\n",
       "      <th></th>\n",
       "      <th></th>\n",
       "      <th></th>\n",
       "      <th></th>\n",
       "      <th></th>\n",
       "    </tr>\n",
       "  </thead>\n",
       "  <tbody>\n",
       "    <tr>\n",
       "      <th>A business discipline (accounting, economics, finance, etc.)</th>\n",
       "      <td>0.677920</td>\n",
       "      <td>0.289234</td>\n",
       "      <td>0.302007</td>\n",
       "      <td>0.343066</td>\n",
       "      <td>0.168796</td>\n",
       "      <td>0.121350</td>\n",
       "    </tr>\n",
       "    <tr>\n",
       "      <th>Computer science (software engineering, etc.)</th>\n",
       "      <td>0.398457</td>\n",
       "      <td>0.305710</td>\n",
       "      <td>0.268673</td>\n",
       "      <td>0.404630</td>\n",
       "      <td>0.322685</td>\n",
       "      <td>0.161265</td>\n",
       "    </tr>\n",
       "    <tr>\n",
       "      <th>Engineering (non-computer focused)</th>\n",
       "      <td>0.483416</td>\n",
       "      <td>0.298132</td>\n",
       "      <td>0.237133</td>\n",
       "      <td>0.404499</td>\n",
       "      <td>0.237514</td>\n",
       "      <td>0.165841</td>\n",
       "    </tr>\n",
       "    <tr>\n",
       "      <th>Environmental science or geology</th>\n",
       "      <td>0.568182</td>\n",
       "      <td>0.323864</td>\n",
       "      <td>0.295455</td>\n",
       "      <td>0.420455</td>\n",
       "      <td>0.153409</td>\n",
       "      <td>0.102273</td>\n",
       "    </tr>\n",
       "    <tr>\n",
       "      <th>Fine arts or performing arts</th>\n",
       "      <td>0.615385</td>\n",
       "      <td>0.192308</td>\n",
       "      <td>0.269231</td>\n",
       "      <td>0.403846</td>\n",
       "      <td>0.211538</td>\n",
       "      <td>0.134615</td>\n",
       "    </tr>\n",
       "    <tr>\n",
       "      <th>Humanities (history, literature, philosophy, etc.)</th>\n",
       "      <td>0.602273</td>\n",
       "      <td>0.318182</td>\n",
       "      <td>0.318182</td>\n",
       "      <td>0.437500</td>\n",
       "      <td>0.198864</td>\n",
       "      <td>0.119318</td>\n",
       "    </tr>\n",
       "    <tr>\n",
       "      <th>I never declared a major</th>\n",
       "      <td>0.338235</td>\n",
       "      <td>0.205882</td>\n",
       "      <td>0.176471</td>\n",
       "      <td>0.235294</td>\n",
       "      <td>0.117647</td>\n",
       "      <td>0.264706</td>\n",
       "    </tr>\n",
       "    <tr>\n",
       "      <th>Information technology, networking, or system administration</th>\n",
       "      <td>0.413844</td>\n",
       "      <td>0.228277</td>\n",
       "      <td>0.262150</td>\n",
       "      <td>0.287187</td>\n",
       "      <td>0.222386</td>\n",
       "      <td>0.210604</td>\n",
       "    </tr>\n",
       "    <tr>\n",
       "      <th>Mathematics or statistics</th>\n",
       "      <td>0.562048</td>\n",
       "      <td>0.337125</td>\n",
       "      <td>0.283868</td>\n",
       "      <td>0.422958</td>\n",
       "      <td>0.265770</td>\n",
       "      <td>0.101861</td>\n",
       "    </tr>\n",
       "    <tr>\n",
       "      <th>Medical or life sciences (biology, chemistry, medicine, etc.)</th>\n",
       "      <td>0.493289</td>\n",
       "      <td>0.260067</td>\n",
       "      <td>0.253356</td>\n",
       "      <td>0.411074</td>\n",
       "      <td>0.209732</td>\n",
       "      <td>0.164430</td>\n",
       "    </tr>\n",
       "    <tr>\n",
       "      <th>Other</th>\n",
       "      <td>0.425781</td>\n",
       "      <td>0.279297</td>\n",
       "      <td>0.248047</td>\n",
       "      <td>0.359375</td>\n",
       "      <td>0.240234</td>\n",
       "      <td>0.171875</td>\n",
       "    </tr>\n",
       "    <tr>\n",
       "      <th>Physics or astronomy</th>\n",
       "      <td>0.537671</td>\n",
       "      <td>0.339041</td>\n",
       "      <td>0.279680</td>\n",
       "      <td>0.525114</td>\n",
       "      <td>0.256849</td>\n",
       "      <td>0.133562</td>\n",
       "    </tr>\n",
       "    <tr>\n",
       "      <th>Social sciences (anthropology, psychology, sociology, etc.)</th>\n",
       "      <td>0.667614</td>\n",
       "      <td>0.255682</td>\n",
       "      <td>0.323864</td>\n",
       "      <td>0.360795</td>\n",
       "      <td>0.193182</td>\n",
       "      <td>0.110795</td>\n",
       "    </tr>\n",
       "  </tbody>\n",
       "</table>\n",
       "</div>"
      ],
      "text/plain": [
       "                                                       Q11_1     Q11_2  \\\n",
       "Q5                                                                       \n",
       "A business discipline (accounting, economics, f...  0.677920  0.289234   \n",
       "Computer science (software engineering, etc.)       0.398457  0.305710   \n",
       "Engineering (non-computer focused)                  0.483416  0.298132   \n",
       "Environmental science or geology                    0.568182  0.323864   \n",
       "Fine arts or performing arts                        0.615385  0.192308   \n",
       "Humanities (history, literature, philosophy, etc.)  0.602273  0.318182   \n",
       "I never declared a major                            0.338235  0.205882   \n",
       "Information technology, networking, or system a...  0.413844  0.228277   \n",
       "Mathematics or statistics                           0.562048  0.337125   \n",
       "Medical or life sciences (biology, chemistry, m...  0.493289  0.260067   \n",
       "Other                                               0.425781  0.279297   \n",
       "Physics or astronomy                                0.537671  0.339041   \n",
       "Social sciences (anthropology, psychology, soci...  0.667614  0.255682   \n",
       "\n",
       "                                                       Q11_3     Q11_4  \\\n",
       "Q5                                                                       \n",
       "A business discipline (accounting, economics, f...  0.302007  0.343066   \n",
       "Computer science (software engineering, etc.)       0.268673  0.404630   \n",
       "Engineering (non-computer focused)                  0.237133  0.404499   \n",
       "Environmental science or geology                    0.295455  0.420455   \n",
       "Fine arts or performing arts                        0.269231  0.403846   \n",
       "Humanities (history, literature, philosophy, etc.)  0.318182  0.437500   \n",
       "I never declared a major                            0.176471  0.235294   \n",
       "Information technology, networking, or system a...  0.262150  0.287187   \n",
       "Mathematics or statistics                           0.283868  0.422958   \n",
       "Medical or life sciences (biology, chemistry, m...  0.253356  0.411074   \n",
       "Other                                               0.248047  0.359375   \n",
       "Physics or astronomy                                0.279680  0.525114   \n",
       "Social sciences (anthropology, psychology, soci...  0.323864  0.360795   \n",
       "\n",
       "                                                       Q11_5     Q11_6  \n",
       "Q5                                                                      \n",
       "A business discipline (accounting, economics, f...  0.168796  0.121350  \n",
       "Computer science (software engineering, etc.)       0.322685  0.161265  \n",
       "Engineering (non-computer focused)                  0.237514  0.165841  \n",
       "Environmental science or geology                    0.153409  0.102273  \n",
       "Fine arts or performing arts                        0.211538  0.134615  \n",
       "Humanities (history, literature, philosophy, etc.)  0.198864  0.119318  \n",
       "I never declared a major                            0.117647  0.264706  \n",
       "Information technology, networking, or system a...  0.222386  0.210604  \n",
       "Mathematics or statistics                           0.265770  0.101861  \n",
       "Medical or life sciences (biology, chemistry, m...  0.209732  0.164430  \n",
       "Other                                               0.240234  0.171875  \n",
       "Physics or astronomy                                0.256849  0.133562  \n",
       "Social sciences (anthropology, psychology, soci...  0.193182  0.110795  "
      ]
     },
     "execution_count": 100,
     "metadata": {},
     "output_type": "execute_result"
    }
   ],
   "source": [
    "majorWork"
   ]
  },
  {
   "cell_type": "code",
   "execution_count": 101,
   "metadata": {},
   "outputs": [],
   "source": [
    "majorWork.reset_index(level=0, inplace=True)\n",
    "work1 = majorWork.iloc[:,[0,1]].rename(columns={\"Q11_1\": \"Mean\"})\n",
    "work2 = majorWork.iloc[:,[0,2]].rename(columns={\"Q11_2\": \"Mean\"})\n",
    "work3 = majorWork.iloc[:,[0,3]].rename(columns={\"Q11_3\": \"Mean\"})\n",
    "work4 = majorWork.iloc[:,[0,4]].rename(columns={\"Q11_4\": \"Mean\"})\n",
    "work5 = majorWork.iloc[:,[0,5]].rename(columns={\"Q11_5\": \"Mean\"})\n",
    "\n",
    "work1['Work'] = 'Analyze data for business decisions'\n",
    "work2['Work'] = 'Build ML model'\n",
    "work3['Work'] = 'Build data infrastructure'\n",
    "work4['Work'] = 'Explore applying ML to new areas'\n",
    "work5['Work'] = 'Do research '\n",
    "\n",
    "MCR_work = work1.append(work2).append(work3).append(work4).append(work5)\n"
   ]
  },
  {
   "cell_type": "code",
   "execution_count": 102,
   "metadata": {},
   "outputs": [
    {
     "data": {
      "application/vnd.plotly.v1+json": {
       "config": {
        "linkText": "Export to plot.ly",
        "plotlyServerURL": "https://plot.ly",
        "showLink": false
       },
       "data": [
        {
         "marker": {
          "color": "#3D9970",
          "line": {
           "color": "black",
           "width": 1
          }
         },
         "name": "Analyze data for business decisions",
         "type": "bar",
         "uid": "711c23e5-4f41-47e0-a65b-f2513d5b4bd0",
         "x": [
          "A business discipline (accounting, economics, finance, etc.)",
          "Computer science (software engineering, etc.)",
          "Engineering (non-computer focused)",
          "Environmental science or geology",
          "Fine arts or performing arts",
          "Humanities (history, literature, philosophy, etc.)",
          "I never declared a major",
          "Information technology, networking, or system administration",
          "Mathematics or statistics",
          "Medical or life sciences (biology, chemistry, medicine, etc.)",
          "Other",
          "Physics or astronomy",
          "Social sciences (anthropology, psychology, sociology, etc.)"
         ],
         "y": [
          0.6779197080291971,
          0.3984567901234568,
          0.4834159359512009,
          0.5681818181818182,
          0.6153846153846154,
          0.6022727272727273,
          0.3382352941176471,
          0.41384388807069217,
          0.562047569803516,
          0.49328859060402686,
          0.42578125,
          0.5376712328767124,
          0.6676136363636364
         ]
        },
        {
         "marker": {
          "color": "#FF4136",
          "line": {
           "color": "black",
           "width": 1
          }
         },
         "name": "Build ML model",
         "type": "bar",
         "uid": "8dbeecfc-f862-4ea8-b690-e35b0f382b55",
         "x": [
          "A business discipline (accounting, economics, finance, etc.)",
          "Computer science (software engineering, etc.)",
          "Engineering (non-computer focused)",
          "Environmental science or geology",
          "Fine arts or performing arts",
          "Humanities (history, literature, philosophy, etc.)",
          "I never declared a major",
          "Information technology, networking, or system administration",
          "Mathematics or statistics",
          "Medical or life sciences (biology, chemistry, medicine, etc.)",
          "Other",
          "Physics or astronomy",
          "Social sciences (anthropology, psychology, sociology, etc.)"
         ],
         "y": [
          0.2892335766423358,
          0.30570987654320986,
          0.298131910026687,
          0.32386363636363635,
          0.19230769230769232,
          0.3181818181818182,
          0.20588235294117646,
          0.22827687776141384,
          0.33712512926577043,
          0.2600671140939597,
          0.279296875,
          0.339041095890411,
          0.2556818181818182
         ]
        },
        {
         "marker": {
          "color": "#FF851B",
          "line": {
           "color": "black",
           "width": 1
          }
         },
         "name": "Build data infrastructure",
         "type": "bar",
         "uid": "63494335-cb38-462c-b13a-49a8159a548c",
         "x": [
          "A business discipline (accounting, economics, finance, etc.)",
          "Computer science (software engineering, etc.)",
          "Engineering (non-computer focused)",
          "Environmental science or geology",
          "Fine arts or performing arts",
          "Humanities (history, literature, philosophy, etc.)",
          "I never declared a major",
          "Information technology, networking, or system administration",
          "Mathematics or statistics",
          "Medical or life sciences (biology, chemistry, medicine, etc.)",
          "Other",
          "Physics or astronomy",
          "Social sciences (anthropology, psychology, sociology, etc.)"
         ],
         "y": [
          0.30200729927007297,
          0.2686728395061728,
          0.2371330537552421,
          0.29545454545454547,
          0.2692307692307692,
          0.3181818181818182,
          0.17647058823529413,
          0.2621502209131075,
          0.2838676318510858,
          0.2533557046979866,
          0.248046875,
          0.2796803652968037,
          0.32386363636363635
         ]
        }
       ],
       "layout": {
        "barmode": "group",
        "showlegend": true,
        "title": {
         "text": "Rate of Python Usage by job role"
        },
        "xaxis": {
         "title": {
          "text": ""
         }
        },
        "yaxis": {
         "title": {
          "text": "Rate"
         }
        }
       }
      },
      "text/html": [
       "<div id=\"60352d10-f681-44a6-9d18-c24632181f8a\" style=\"height: 525px; width: 100%;\" class=\"plotly-graph-div\"></div><script type=\"text/javascript\">require([\"plotly\"], function(Plotly) { window.PLOTLYENV=window.PLOTLYENV || {};window.PLOTLYENV.BASE_URL=\"https://plot.ly\";\n",
       "if (document.getElementById(\"60352d10-f681-44a6-9d18-c24632181f8a\")) {\n",
       "    Plotly.newPlot(\"60352d10-f681-44a6-9d18-c24632181f8a\", [{\"marker\": {\"color\": \"#3D9970\", \"line\": {\"color\": \"black\", \"width\": 1}}, \"name\": \"Analyze data for business decisions\", \"x\": [\"A business discipline (accounting, economics, finance, etc.)\", \"Computer science (software engineering, etc.)\", \"Engineering (non-computer focused)\", \"Environmental science or geology\", \"Fine arts or performing arts\", \"Humanities (history, literature, philosophy, etc.)\", \"I never declared a major\", \"Information technology, networking, or system administration\", \"Mathematics or statistics\", \"Medical or life sciences (biology, chemistry, medicine, etc.)\", \"Other\", \"Physics or astronomy\", \"Social sciences (anthropology, psychology, sociology, etc.)\"], \"y\": [0.6779197080291971, 0.3984567901234568, 0.4834159359512009, 0.5681818181818182, 0.6153846153846154, 0.6022727272727273, 0.3382352941176471, 0.41384388807069217, 0.562047569803516, 0.49328859060402686, 0.42578125, 0.5376712328767124, 0.6676136363636364], \"type\": \"bar\", \"uid\": \"93d8d4ed-d5aa-44bb-ac74-689f3e417a3f\"}, {\"marker\": {\"color\": \"#FF4136\", \"line\": {\"color\": \"black\", \"width\": 1}}, \"name\": \"Build ML model\", \"x\": [\"A business discipline (accounting, economics, finance, etc.)\", \"Computer science (software engineering, etc.)\", \"Engineering (non-computer focused)\", \"Environmental science or geology\", \"Fine arts or performing arts\", \"Humanities (history, literature, philosophy, etc.)\", \"I never declared a major\", \"Information technology, networking, or system administration\", \"Mathematics or statistics\", \"Medical or life sciences (biology, chemistry, medicine, etc.)\", \"Other\", \"Physics or astronomy\", \"Social sciences (anthropology, psychology, sociology, etc.)\"], \"y\": [0.2892335766423358, 0.30570987654320986, 0.298131910026687, 0.32386363636363635, 0.19230769230769232, 0.3181818181818182, 0.20588235294117646, 0.22827687776141384, 0.33712512926577043, 0.2600671140939597, 0.279296875, 0.339041095890411, 0.2556818181818182], \"type\": \"bar\", \"uid\": \"756cc439-08cc-4da6-970a-0c44ed6267af\"}, {\"marker\": {\"color\": \"#FF851B\", \"line\": {\"color\": \"black\", \"width\": 1}}, \"name\": \"Build data infrastructure\", \"x\": [\"A business discipline (accounting, economics, finance, etc.)\", \"Computer science (software engineering, etc.)\", \"Engineering (non-computer focused)\", \"Environmental science or geology\", \"Fine arts or performing arts\", \"Humanities (history, literature, philosophy, etc.)\", \"I never declared a major\", \"Information technology, networking, or system administration\", \"Mathematics or statistics\", \"Medical or life sciences (biology, chemistry, medicine, etc.)\", \"Other\", \"Physics or astronomy\", \"Social sciences (anthropology, psychology, sociology, etc.)\"], \"y\": [0.30200729927007297, 0.2686728395061728, 0.2371330537552421, 0.29545454545454547, 0.2692307692307692, 0.3181818181818182, 0.17647058823529413, 0.2621502209131075, 0.2838676318510858, 0.2533557046979866, 0.248046875, 0.2796803652968037, 0.32386363636363635], \"type\": \"bar\", \"uid\": \"0a4c71ce-cb5d-42a3-ab29-cde8ddf01e11\"}], {\"barmode\": \"group\", \"showlegend\": true, \"title\": {\"text\": \"Rate of Python Usage by job role\"}, \"xaxis\": {\"title\": {\"text\": \"\"}}, \"yaxis\": {\"title\": {\"text\": \"Rate\"}}}, {\"showLink\": false, \"linkText\": \"Export to plot.ly\", \"plotlyServerURL\": \"https://plot.ly\"}); \n",
       "}\n",
       "});</script><script type=\"text/javascript\">window.addEventListener(\"resize\", function(){if (document.getElementById(\"60352d10-f681-44a6-9d18-c24632181f8a\")) {window._Plotly.Plots.resize(document.getElementById(\"60352d10-f681-44a6-9d18-c24632181f8a\"));};})</script>"
      ],
      "text/vnd.plotly.v1+html": [
       "<div id=\"60352d10-f681-44a6-9d18-c24632181f8a\" style=\"height: 525px; width: 100%;\" class=\"plotly-graph-div\"></div><script type=\"text/javascript\">require([\"plotly\"], function(Plotly) { window.PLOTLYENV=window.PLOTLYENV || {};window.PLOTLYENV.BASE_URL=\"https://plot.ly\";\n",
       "if (document.getElementById(\"60352d10-f681-44a6-9d18-c24632181f8a\")) {\n",
       "    Plotly.newPlot(\"60352d10-f681-44a6-9d18-c24632181f8a\", [{\"marker\": {\"color\": \"#3D9970\", \"line\": {\"color\": \"black\", \"width\": 1}}, \"name\": \"Analyze data for business decisions\", \"x\": [\"A business discipline (accounting, economics, finance, etc.)\", \"Computer science (software engineering, etc.)\", \"Engineering (non-computer focused)\", \"Environmental science or geology\", \"Fine arts or performing arts\", \"Humanities (history, literature, philosophy, etc.)\", \"I never declared a major\", \"Information technology, networking, or system administration\", \"Mathematics or statistics\", \"Medical or life sciences (biology, chemistry, medicine, etc.)\", \"Other\", \"Physics or astronomy\", \"Social sciences (anthropology, psychology, sociology, etc.)\"], \"y\": [0.6779197080291971, 0.3984567901234568, 0.4834159359512009, 0.5681818181818182, 0.6153846153846154, 0.6022727272727273, 0.3382352941176471, 0.41384388807069217, 0.562047569803516, 0.49328859060402686, 0.42578125, 0.5376712328767124, 0.6676136363636364], \"type\": \"bar\", \"uid\": \"93d8d4ed-d5aa-44bb-ac74-689f3e417a3f\"}, {\"marker\": {\"color\": \"#FF4136\", \"line\": {\"color\": \"black\", \"width\": 1}}, \"name\": \"Build ML model\", \"x\": [\"A business discipline (accounting, economics, finance, etc.)\", \"Computer science (software engineering, etc.)\", \"Engineering (non-computer focused)\", \"Environmental science or geology\", \"Fine arts or performing arts\", \"Humanities (history, literature, philosophy, etc.)\", \"I never declared a major\", \"Information technology, networking, or system administration\", \"Mathematics or statistics\", \"Medical or life sciences (biology, chemistry, medicine, etc.)\", \"Other\", \"Physics or astronomy\", \"Social sciences (anthropology, psychology, sociology, etc.)\"], \"y\": [0.2892335766423358, 0.30570987654320986, 0.298131910026687, 0.32386363636363635, 0.19230769230769232, 0.3181818181818182, 0.20588235294117646, 0.22827687776141384, 0.33712512926577043, 0.2600671140939597, 0.279296875, 0.339041095890411, 0.2556818181818182], \"type\": \"bar\", \"uid\": \"756cc439-08cc-4da6-970a-0c44ed6267af\"}, {\"marker\": {\"color\": \"#FF851B\", \"line\": {\"color\": \"black\", \"width\": 1}}, \"name\": \"Build data infrastructure\", \"x\": [\"A business discipline (accounting, economics, finance, etc.)\", \"Computer science (software engineering, etc.)\", \"Engineering (non-computer focused)\", \"Environmental science or geology\", \"Fine arts or performing arts\", \"Humanities (history, literature, philosophy, etc.)\", \"I never declared a major\", \"Information technology, networking, or system administration\", \"Mathematics or statistics\", \"Medical or life sciences (biology, chemistry, medicine, etc.)\", \"Other\", \"Physics or astronomy\", \"Social sciences (anthropology, psychology, sociology, etc.)\"], \"y\": [0.30200729927007297, 0.2686728395061728, 0.2371330537552421, 0.29545454545454547, 0.2692307692307692, 0.3181818181818182, 0.17647058823529413, 0.2621502209131075, 0.2838676318510858, 0.2533557046979866, 0.248046875, 0.2796803652968037, 0.32386363636363635], \"type\": \"bar\", \"uid\": \"0a4c71ce-cb5d-42a3-ab29-cde8ddf01e11\"}], {\"barmode\": \"group\", \"showlegend\": true, \"title\": {\"text\": \"Rate of Python Usage by job role\"}, \"xaxis\": {\"title\": {\"text\": \"\"}}, \"yaxis\": {\"title\": {\"text\": \"Rate\"}}}, {\"showLink\": false, \"linkText\": \"Export to plot.ly\", \"plotlyServerURL\": \"https://plot.ly\"}); \n",
       "}\n",
       "});</script><script type=\"text/javascript\">window.addEventListener(\"resize\", function(){if (document.getElementById(\"60352d10-f681-44a6-9d18-c24632181f8a\")) {window._Plotly.Plots.resize(document.getElementById(\"60352d10-f681-44a6-9d18-c24632181f8a\"));};})</script>"
      ]
     },
     "metadata": {},
     "output_type": "display_data"
    }
   ],
   "source": [
    "def grouped_bar_plot2(x_axis, y_axis1, y_axis2, y_axis3, x_layout_name, y_layout_name, layout_title, show_legend):\n",
    "    trace1=go.Bar(\n",
    "        x=x_axis,\n",
    "        y=y_axis1,\n",
    "        name=\"Analyze data for business decisions\",\n",
    "        marker=dict(color='#3D9970', line=dict(color='black',width=1))\n",
    "    )\n",
    "\n",
    "    trace2=go.Bar(\n",
    "        x=x_axis,\n",
    "        y=y_axis2,\n",
    "        name=\"Build ML model\",\n",
    "        marker=dict(color='#FF4136', line=dict(color='black',width=1))\n",
    "    )\n",
    "\n",
    "    trace3=go.Bar(\n",
    "        x=x_axis,\n",
    "        y=y_axis3,\n",
    "        name=\"Build data infrastructure\",\n",
    "        marker=dict(color='#FF851B', line=dict(color='black',width=1))\n",
    "    )\n",
    "\n",
    "    \n",
    "    \n",
    "    data=[trace1,trace2,trace3]\n",
    "\n",
    "    layout=go.Layout(\n",
    "        xaxis=dict(title=x_layout_name),\n",
    "        yaxis=dict(title=y_layout_name),\n",
    "        title=layout_title,\n",
    "        showlegend=show_legend,\n",
    "        barmode='group'\n",
    "    )\n",
    "\n",
    "    py.iplot({'data': data, 'layout': layout}, filename='grouped-bar-direct-labels')\n",
    "grouped_bar_plot2(MCR_work['Q5'].unique(), \\\n",
    "                                MCR_work['Mean'][MCR_work['Work']=='Analyze data for business decisions'],\\\n",
    "                                MCR_work['Mean'][MCR_work['Work']=='Build ML model'],\\\n",
    "                                MCR_work['Mean'][MCR_work['Work']=='Build data infrastructure'], \\\n",
    "                                '', 'Rate', 'Rate of Python Usage by job role', True)"
   ]
  },
  {
   "cell_type": "markdown",
   "metadata": {},
   "source": [
    "Python is mostly used in Analyzing and understanding data to influence product or business decisions for any major students."
   ]
  },
  {
   "cell_type": "markdown",
   "metadata": {},
   "source": [
    "On the bases of the insights observed aboved that It's importatnt for a DS/ML aspirant to learn python over R to excel. And again, the success in this field is not depended to your computer science major.\n",
    "\n",
    "As derived from the conclusion we see that the respondents from Physics or astronomy,Engineering (non computer focused), Environmental Science or geology undergrad major tends to use the python programmming the most. \n"
   ]
  },
  {
   "cell_type": "markdown",
   "metadata": {},
   "source": [
    "### Managerial insight:"
   ]
  },
  {
   "cell_type": "markdown",
   "metadata": {},
   "source": [
    "<div class=\"alert alert-block alert-info\">\n",
    "<br>\n",
    "** The above analysis and findings will be used in making an informed decision for anyone who wish to know more about \n",
    "how to become  ML/DS expert. It also would certainly help the students while making a decision about their undergard major \n",
    "and the future role they wish to take. **\n",
    "\n",
    "\n",
    "<br>\n",
    "</div>"
   ]
  }
 ],
 "metadata": {
  "kernelspec": {
   "display_name": "Python 3",
   "language": "python",
   "name": "python3"
  },
  "language_info": {
   "codemirror_mode": {
    "name": "ipython",
    "version": 3
   },
   "file_extension": ".py",
   "mimetype": "text/x-python",
   "name": "python",
   "nbconvert_exporter": "python",
   "pygments_lexer": "ipython3",
   "version": "3.7.3"
  }
 },
 "nbformat": 4,
 "nbformat_minor": 2
}
